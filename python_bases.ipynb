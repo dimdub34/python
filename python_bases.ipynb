{
 "cells": [
  {
   "cell_type": "markdown",
   "id": "030cc319-13d9-41d2-ab6a-f04461bdb126",
   "metadata": {
    "editable": true,
    "slideshow": {
     "slide_type": "slide"
    },
    "tags": []
   },
   "source": [
    "# Python - Bases\n",
    "\n",
    "<img src=\"img/logo.png\" alt=\"Python\" style=\"height: 200px\">"
   ]
  },
  {
   "cell_type": "markdown",
   "id": "eedf75b9-b561-4e0f-b197-e8cf08745cec",
   "metadata": {
    "editable": true,
    "slideshow": {
     "slide_type": "subslide"
    },
    "tags": []
   },
   "source": [
    "## Content\n",
    "\n",
    "- [Introduction](#/1)\n",
    "- [Installation](#/2)\n",
    "- [Règles d'écriture](#/3)\n",
    "- [Variables et types](#/4)\n",
    "- [Chaînes de caractères](#/5)\n",
    "- [Types numériques](#/6)\n",
    "- [Booléen](#/7)\n",
    "- [Liste](#/8)\n",
    "- [Tuple](#/9)\n",
    "- [Dictionnaire](#/10)\n",
    "- [Set](#/11)\n",
    "- [Structure conditionnelle et boucles](#/12)\n",
    "- [List-comprehension](#/13)\n",
    "- [Fonctions](#/14)\n",
    "- [Modules](#/15)\n",
    "- [Fichiers](#/16)\n",
    "- [Exceptions](#17)"
   ]
  },
  {
   "cell_type": "markdown",
   "id": "73aa746d-d495-4dff-b6af-85b08fdaa022",
   "metadata": {
    "editable": true,
    "slideshow": {
     "slide_type": "slide"
    },
    "tags": []
   },
   "source": [
    "# Introduction"
   ]
  },
  {
   "cell_type": "markdown",
   "id": "26116672-5cee-4757-9fae-23deb606ae05",
   "metadata": {
    "editable": true,
    "slideshow": {
     "slide_type": "subslide"
    },
    "tags": []
   },
   "source": [
    "- créé par Guido Van Rossum (Néerlandais)\n",
    "- la 1ère version en 1991\n",
    "- géré par la Python Software Fondation, depuis 2001\n",
    "- site web : [https://www.python.org](https://www.python.org)\n",
    "- Python vient de \"Monty Python\" une troupe d'humoristes anglais ([wikipedia](https://fr.wikipedia.org/wiki/Monty_Python))\n",
    "- actuellement version 3.12\n",
    "\n",
    "<img src=\"img/guido.jpg\" alt=\"Guido Van Rossum\" style=\"height: 200px\">"
   ]
  },
  {
   "cell_type": "markdown",
   "id": "71d586b7-f48b-40e6-958a-797ceb91325e",
   "metadata": {
    "editable": true,
    "slideshow": {
     "slide_type": "subslide"
    },
    "tags": []
   },
   "source": [
    "- language de haut niveau\n",
    "- syntaxe simple\n",
    "- language interprété\n",
    "- multiplateforme\n",
    "- peut être utilisé pour des scripts simples ou des applications complexes\n",
    "- utilisation croissante pour l'analyse de données et le machine learning"
   ]
  },
  {
   "cell_type": "markdown",
   "id": "cbd157cd-77ed-46c9-bc38-4052bc553704",
   "metadata": {
    "editable": true,
    "slideshow": {
     "slide_type": "slide"
    },
    "tags": []
   },
   "source": [
    "# Installation"
   ]
  },
  {
   "cell_type": "markdown",
   "id": "55fac5af-d6aa-4294-b5eb-6c52cbf66f1d",
   "metadata": {
    "editable": true,
    "slideshow": {
     "slide_type": "subslide"
    },
    "tags": []
   },
   "source": [
    "## Anaconda \n",
    "\n",
    "- distribution Python avec de nombreux packages et outils pré-installés\n",
    "- permet une installation séparée de celle du système d'exploitation\n",
    "- permet de créer des environnements virtuels, c'est à dire différentes installations de Python (versions et/ou packages)\n",
    "- site web : [https://www.anaconda.com](https://www.anaconda.com)\n",
    "\n",
    "<img src=\"img/anaconda.png\" alt=\"Anaconda Logo\" style=\"width: 250px\">"
   ]
  },
  {
   "cell_type": "markdown",
   "id": "63d13c7b-593a-4268-8298-22b95b9fea1b",
   "metadata": {
    "editable": true,
    "slideshow": {
     "slide_type": "subslide"
    },
    "tags": []
   },
   "source": [
    "## L'interpréteur Python\n",
    "\n",
    "L'interpréteur Python exécute le code Python ligne par ligne, permettant une exécution immédiate : \n",
    "- Traduction du code source Python en instructions machine compréhensibles par l'ordinateur.\n",
    "- Interaction interactive via le mode REPL (**Read-Eval-Print Loop**).\n",
    "\n",
    "L'interpréteur Python installé avec Anaconda peut-être démarré en ouvrant un terminal Anaconda (Anaconda Prompt) puis en tapant `python`."
   ]
  },
  {
   "cell_type": "markdown",
   "id": "0b606d15-d641-4951-bee0-7068820651af",
   "metadata": {
    "editable": true,
    "slideshow": {
     "slide_type": "subslide"
    },
    "tags": []
   },
   "source": [
    "## L'interpréteur Jupyter\n",
    "\n",
    "- Un environnement interactif utilisé pour écrire et exécuter du code dans un navigateur.\n",
    "- Idéal pour des démonstrations et des analyses de données.\n",
    "- La distribution **Anaconda** inclut Jupyter Notebook par défaut.\n",
    "- Permet d'exécuter des cellules contenant du code, du texte ou des graphiques.\n",
    "\n",
    "Pour démarrer Jupyter, ouvrir un terminal Anaconda (Anaconda Prompt) puis taper `jupyter-lab`"
   ]
  },
  {
   "cell_type": "markdown",
   "id": "056b38fc-2821-4b73-b08a-9581e6d18dab",
   "metadata": {
    "editable": true,
    "slideshow": {
     "slide_type": "subslide"
    },
    "tags": []
   },
   "source": [
    "## Pratique\n",
    "\n",
    "Démarrer Jupyter-lab et créer un notebook."
   ]
  },
  {
   "cell_type": "markdown",
   "id": "3e75b898-bc6c-48c4-98c2-236edc7e80ee",
   "metadata": {
    "editable": true,
    "slideshow": {
     "slide_type": "slide"
    },
    "tags": []
   },
   "source": [
    "# Règles d'écriture"
   ]
  },
  {
   "cell_type": "markdown",
   "id": "616458ec-cc39-41ab-b334-518a690ddff4",
   "metadata": {
    "editable": true,
    "slideshow": {
     "slide_type": "subslide"
    },
    "tags": []
   },
   "source": [
    "## The Zen of Python\n",
    "\n",
    "Le *Zen of Python*, écrit par Tim Peters, est une collection de principes qui guide la conception de Python. Ces principes peuvent être affichés en tapant `import this` dans un interpréteur Python. Ces principes ne sont pas absolus, mais ils reflètent la philosophie générale de Python et encouragent des pratiques de programmation propres et efficaces.\n",
    "\n",
    "\n",
    "1. **Beautiful is better than ugly.** : La beauté est préférable à la laideur.\n",
    "2. **Explicit is better than implicit.** : L'explicite est préférable à l'implicite.\n",
    "3. **Simple is better than complex.** : La simplicité est préférable à la complexité.\n",
    "4. **Complex is better than complicated.** : La complexité est préférable à la complication.\n",
    "5. **Flat is better than nested.** : Le plat est préférable à l'imbrication.\n",
    "6. **Sparse is better than dense.** : L'aéré est préférable au dense.\n",
    "7. **Readability counts.** : La lisibilité compte.\n",
    "8. **Special cases aren't special enough to break the rules.** : Les cas particuliers ne sont pas suffisamment spéciaux pour briser les règles."
   ]
  },
  {
   "cell_type": "markdown",
   "id": "3fae92e7-c2ad-41d3-8cbf-3190f7927f25",
   "metadata": {
    "editable": true,
    "slideshow": {
     "slide_type": "subslide"
    },
    "tags": []
   },
   "source": [
    "9. **Although practicality beats purity.** : Cependant, la praticité l'emporte sur la pureté.\n",
    "10. **Errors should never pass silently.** : Les erreurs ne devraient jamais passer silencieusement.\n",
    "11. **Unless explicitly silenced.** : Sauf si elles sont explicitement ignorées.\n",
    "12. **In the face of ambiguity, refuse the temptation to guess.** : Face à l'ambiguïté, refusez la tentation de deviner.\n",
    "13. **There should be one-- and preferably only one --obvious way to do it.** : Il devrait y avoir une — et de préférence une seule — manière évidente de le faire.\n",
    "14. **Although that way may not be obvious at first unless you're Dutch.** : Cependant, cette manière peut ne pas être évidente au premier abord, sauf si vous êtes Néerlandais.\n",
    "15. **Now is better than never.** : Maintenant est préférable à jamais.\n",
    "16. **Although never is often better than *right* now.** : Bien que jamais soit souvent préférable à \"tout de suite\".\n",
    "17. **If the implementation is hard to explain, it's a bad idea.** : Si l'implémentation est difficile à expliquer, c'est une mauvaise idée.\n",
    "18. **If the implementation is easy to explain, it may be a good idea.** : Si l'implémentation est facile à expliquer, c'est peut-être une bonne idée.\n",
    "19. **Namespaces are one honking great idea -- let's do more of those!** : Les espaces de noms sont une idée géniale – utilisons-les davantage !"
   ]
  },
  {
   "cell_type": "markdown",
   "id": "c2d62fa0-333d-4d99-a212-8c6a02ca5e8e",
   "metadata": {
    "editable": true,
    "slideshow": {
     "slide_type": "subslide"
    },
    "tags": []
   },
   "source": [
    "## Indentation\n",
    "\n",
    "- Python utilise l'**indentation** pour structurer le code (au lieu des accolades `{}` dans d'autres langages).\n",
    "- Chaque niveau doit être **aligné** (généralement 4 espaces par niveau).\n",
    "\n",
    "_Exemple_ :\n",
    "```python\n",
    "if x > 0:\n",
    "    print(\"x est positif\")\n",
    "else:\n",
    "    print(\"x est négatif ou nul\")\n",
    "```"
   ]
  },
  {
   "cell_type": "markdown",
   "id": "97fdcbb4-05d5-4e90-913a-60cfdf902971",
   "metadata": {
    "editable": true,
    "slideshow": {
     "slide_type": "subslide"
    },
    "tags": []
   },
   "source": [
    "## Sensibilité à la casse\n",
    "\n",
    "Python est sensible à la casse : `Variable` et `variable` sont deux noms différents.  \n",
    "Bonne pratique : utiliser des noms en minuscules pour les variables et des MajusculesInitiales pour les classes."
   ]
  },
  {
   "cell_type": "markdown",
   "id": "4c1a147c-a14e-4c10-9635-147eff68d48f",
   "metadata": {
    "editable": true,
    "slideshow": {
     "slide_type": "subslide"
    },
    "tags": []
   },
   "source": [
    "## Noms de variables\n",
    "Caractères autorisés : Lettres (a-z, A-Z), chiffres (0-9), underscore (_).  \n",
    "Ne pas commencer par un chiffre.  \n",
    "Interdits : Noms réservés comme `if`, `for`, `print`, etc.  \n",
    "\n",
    "Utiliser des noms explicites\n",
    "```python\n",
    "age_utilisateur = 30  # Clair\n",
    "a = 30  # Peu clair\n",
    "```"
   ]
  },
  {
   "cell_type": "markdown",
   "id": "e11be61e-e6d2-4709-8bdd-9d87ffee4687",
   "metadata": {
    "editable": true,
    "slideshow": {
     "slide_type": "subslide"
    },
    "tags": []
   },
   "source": [
    "## Commentaires\n",
    "\n",
    "Commentaires sur une seule ligne : Utiliser `#`.\n",
    "\n",
    "```python\n",
    "print(\"Bonjour\")  # Commentaire en ligne\n",
    "```\n",
    "\n",
    "Commentaires multi-lignes : Utiliser des guillemets triples `\"\"\"` ou `'''`.\n",
    "\n",
    "```python\n",
    "\"\"\"\n",
    "Ce programme calcule la somme\n",
    "de deux nombres.\n",
    "\"\"\"\n",
    "```\n"
   ]
  },
  {
   "cell_type": "markdown",
   "id": "f637999c-912a-46d8-b3ab-c2ecc74bfdae",
   "metadata": {
    "editable": true,
    "slideshow": {
     "slide_type": "subslide"
    },
    "tags": []
   },
   "source": [
    "## Guillemets\n",
    "\n",
    "Python accepte les guillemets simples `'` ou doubles `\"`.\n",
    "```python\n",
    "texte1 = \"Bonjour\"\n",
    "texte2 = 'Bienvenue'\n",
    "```\n",
    "\n",
    "Pour des chaînes contenant des guillemets, alterner ou échapper \n",
    "```python\n",
    "texte1 = \"Il a dit : 'Python est génial !'\"\n",
    "texte2 = \"Il a dit : \\\"Python est génial !\\\"\"\n",
    "```"
   ]
  },
  {
   "cell_type": "markdown",
   "id": "171053a4-69b0-4831-9cdc-7a0e337fbce3",
   "metadata": {
    "editable": true,
    "slideshow": {
     "slide_type": "slide"
    },
    "tags": []
   },
   "source": [
    "# Variables et Types"
   ]
  },
  {
   "cell_type": "markdown",
   "id": "4f37528d-4286-4bd8-a68f-dfbb8c93bf5b",
   "metadata": {
    "editable": true,
    "slideshow": {
     "slide_type": "subslide"
    },
    "tags": []
   },
   "source": [
    "## Création de variable\n",
    "\n",
    "Une variable est une étiquette pour un objet stocké en mémoire. \n",
    "Utilisation du signe `=` "
   ]
  },
  {
   "cell_type": "code",
   "execution_count": 102,
   "id": "6704fdc1-5b70-4526-b38a-c724653bb643",
   "metadata": {
    "editable": true,
    "slideshow": {
     "slide_type": ""
    },
    "tags": []
   },
   "outputs": [
    {
     "name": "stdout",
     "output_type": "stream",
     "text": [
      "5 Python\n"
     ]
    }
   ],
   "source": [
    "x = 5  # Affectation d'un entier\n",
    "y = \"Python\"  # Affectation d'une chaîne de caractères\n",
    "print(x, y)"
   ]
  },
  {
   "cell_type": "markdown",
   "id": "fd8c74f6-9015-4cc6-8774-83e8ee2367d6",
   "metadata": {
    "editable": true,
    "slideshow": {
     "slide_type": ""
    },
    "tags": []
   },
   "source": [
    "La fonction `print` affiche des valeurs ou des messages dans la console."
   ]
  },
  {
   "cell_type": "markdown",
   "id": "a972fbae-4c3a-4993-95a3-8dfd30f42d0b",
   "metadata": {
    "editable": true,
    "slideshow": {
     "slide_type": "subslide"
    },
    "tags": []
   },
   "source": [
    "## Typage dynamique \n",
    "\n",
    "L'interpréteur Python détermine automatiquement le `type` de la variable, en fonction de la valeur qui lui est affectée.  \n",
    "La fonction `type()` appelée avec une variable en argument retourne le type de la variable."
   ]
  },
  {
   "cell_type": "code",
   "execution_count": 103,
   "id": "24884bb4-dd82-4ea0-800a-c538960ae3f6",
   "metadata": {
    "editable": true,
    "slideshow": {
     "slide_type": ""
    },
    "tags": []
   },
   "outputs": [
    {
     "name": "stdout",
     "output_type": "stream",
     "text": [
      "<class 'int'>\n",
      "<class 'str'>\n"
     ]
    }
   ],
   "source": [
    "x = 42\n",
    "print(type(x))\n",
    "x = \"Bonjour\"\n",
    "print(type(x))"
   ]
  },
  {
   "cell_type": "markdown",
   "id": "873b08df-8fbb-42cd-aa8d-6442d13fac17",
   "metadata": {
    "editable": true,
    "slideshow": {
     "slide_type": "subslide"
    },
    "tags": []
   },
   "source": [
    "## Les types intégrés (built-in types)\n",
    "\n",
    "\"Intégré\" signifie que ces types sont fournis par défaut dans Python.  \n",
    "Ces types permettent de :\n",
    "- Représenter des données courantes (nombres, texte, etc.).\n",
    "- Réaliser des opérations de base comme des calculs, des manipulations de texte, ou la gestion de collections."
   ]
  },
  {
   "cell_type": "markdown",
   "id": "a4d2cdd5-e60c-44ff-9e4f-e67988ac93ea",
   "metadata": {
    "editable": true,
    "slideshow": {
     "slide_type": "subslide"
    },
    "tags": []
   },
   "source": [
    "- `None`: Valeur spéciale représentant \"rien\" ou \"absence\" (None).  \n",
    "- `str` : Texte (ex. \"Bonjour\", 'Python')   \n",
    "- `int` : Entiers (ex. 42, -5)\n",
    "- `float` : Nombres décimaux (ex. 3.14, -0.01)\n",
    "- `complex` : Nombres complexes (ex. 3 + 4j)\n",
    "- `bool` : Valeurs logiques (True, False)\n",
    "- `list` : Liste ordonnée, modifiable (ex. `[1, 2, 3]`)\n",
    "- `tuple` : Liste ordonnée, non modifiable (ex. `(1, 2, 3)`)\n",
    "- `dict` : Association clé-valeur (ex. `{\"nom\": \"Alice\", \"âge\": 30}`)\n",
    "- `set` : Ensemble non ordonné, sans doublons (ex. `{1, 2, 3}`)"
   ]
  },
  {
   "cell_type": "markdown",
   "id": "0fc6516a-40cd-4661-a6f8-3453a88f69a2",
   "metadata": {
    "editable": true,
    "slideshow": {
     "slide_type": "slide"
    },
    "tags": []
   },
   "source": [
    "# Les chaînes de caractères"
   ]
  },
  {
   "cell_type": "markdown",
   "id": "3817268f-089a-48e7-8c8c-fd0c3b69a7ff",
   "metadata": {
    "editable": true,
    "slideshow": {
     "slide_type": "subslide"
    },
    "tags": []
   },
   "source": [
    "## Présentation \n",
    "\n",
    "- Une **chaîne de caractères** (type `str`) est une séquence de caractères.\n",
    "- Elle est délimitée par des guillemets simples `'` ou doubles `\"`.\n",
    "\n",
    "*Exemples* :"
   ]
  },
  {
   "cell_type": "code",
   "execution_count": 104,
   "id": "ae22701c-1b1b-4348-a6cd-10ca9482c87f",
   "metadata": {
    "editable": true,
    "slideshow": {
     "slide_type": ""
    },
    "tags": []
   },
   "outputs": [],
   "source": [
    "texte1 = \"Bonjour\"\n",
    "texte2 = 'Python est génial !'"
   ]
  },
  {
   "cell_type": "markdown",
   "id": "eb296b2c-7e59-4fb8-9cf1-420a9fd7b6c0",
   "metadata": {
    "editable": true,
    "slideshow": {
     "slide_type": "subslide"
    },
    "tags": []
   },
   "source": [
    "Indexation possible : Chaque caractère est accessible par son indice."
   ]
  },
  {
   "cell_type": "code",
   "execution_count": 105,
   "id": "78a50dfe-37aa-44b6-a915-470e8727eb95",
   "metadata": {
    "editable": true,
    "slideshow": {
     "slide_type": ""
    },
    "tags": []
   },
   "outputs": [
    {
     "name": "stdout",
     "output_type": "stream",
     "text": [
      "P\n",
      "y\n"
     ]
    }
   ],
   "source": [
    "texte = \"Python\"\n",
    "print(texte[0])\n",
    "print(texte[1])"
   ]
  },
  {
   "cell_type": "markdown",
   "id": "ad4ce67d-e731-442a-b59a-26f03c2bdc26",
   "metadata": {
    "editable": true,
    "slideshow": {
     "slide_type": "subslide"
    },
    "tags": []
   },
   "source": [
    "Une fois créées, les chaînes ne peuvent pas être modifiées directement, on dit quelles sont `immuables`.  "
   ]
  },
  {
   "cell_type": "code",
   "execution_count": 106,
   "id": "b4da50a7-fb06-486b-b757-0de183f1f104",
   "metadata": {
    "editable": true,
    "slideshow": {
     "slide_type": ""
    },
    "tags": []
   },
   "outputs": [
    {
     "ename": "TypeError",
     "evalue": "'str' object does not support item assignment",
     "output_type": "error",
     "traceback": [
      "\u001b[0;31m---------------------------------------------------------------------------\u001b[0m",
      "\u001b[0;31mTypeError\u001b[0m                                 Traceback (most recent call last)",
      "Input \u001b[0;32mIn [106]\u001b[0m, in \u001b[0;36m<cell line: 1>\u001b[0;34m()\u001b[0m\n\u001b[0;32m----> 1\u001b[0m texte[\u001b[38;5;241m0\u001b[39m] \u001b[38;5;241m=\u001b[39m \u001b[38;5;124m\"\u001b[39m\u001b[38;5;124mL\u001b[39m\u001b[38;5;124m\"\u001b[39m\n",
      "\u001b[0;31mTypeError\u001b[0m: 'str' object does not support item assignment"
     ]
    }
   ],
   "source": [
    "texte[0] = \"L\""
   ]
  },
  {
   "cell_type": "markdown",
   "id": "2a150a56-abf8-4a2c-83a1-669059a8237b",
   "metadata": {
    "editable": true,
    "slideshow": {
     "slide_type": "subslide"
    },
    "tags": []
   },
   "source": [
    "## Méthodes courantes pour les chaînes de caractères\n",
    "\n",
    "- **`upper()`** : Convertit la chaîne en majuscules.\n",
    "- **`lower()`** : Convertit la chaîne en minuscules.\n",
    "- **`count(substring)`** : Compte le nombre d’occurrences d’un sous-texte.\n",
    "- **`replace(old, new)`** : Remplace une sous-chaîne par une autre.\n",
    "\n",
    "_Exemples_ : "
   ]
  },
  {
   "cell_type": "code",
   "execution_count": 165,
   "id": "12239fe2-d775-46c9-9b33-754cd45ae946",
   "metadata": {
    "editable": true,
    "slideshow": {
     "slide_type": ""
    },
    "tags": []
   },
   "outputs": [
    {
     "name": "stdout",
     "output_type": "stream",
     "text": [
      "BONJOUR\n",
      "bonjour\n",
      "2\n",
      "Génial est Génialique\n"
     ]
    }
   ],
   "source": [
    "texte = \"Bonjour\"\n",
    "print(texte.upper())  \n",
    "print(texte.lower())  \n",
    "\n",
    "texte = \"Python est Pythonique\"\n",
    "print(texte.count(\"Python\"))  \n",
    "print(texte.replace(\"Python\", \"Génial\"))\n"
   ]
  },
  {
   "cell_type": "markdown",
   "id": "79544093-7a64-4824-bd0b-947c8569b11e",
   "metadata": {
    "editable": true,
    "slideshow": {
     "slide_type": "subslide"
    },
    "tags": []
   },
   "source": [
    "## Gestion des espaces et découpage\n",
    "\n",
    "- **`strip()`** : Supprime les espaces au début et à la fin.\n",
    "- **`split(separator)`** : Découpe une chaîne en liste.\n",
    "- **`join(iterable)`** : Assemble une liste en chaîne.\n",
    "\n",
    "*Exemples* : "
   ]
  },
  {
   "cell_type": "code",
   "execution_count": 166,
   "id": "8de4ea8e-bba5-4999-8d50-efe3bcaa632d",
   "metadata": {
    "editable": true,
    "slideshow": {
     "slide_type": ""
    },
    "tags": []
   },
   "outputs": [
    {
     "name": "stdout",
     "output_type": "stream",
     "text": [
      "Bonjour Python\n",
      "['Python', 'est', 'génial']\n",
      "Python est génial\n"
     ]
    }
   ],
   "source": [
    "texte = \"  Bonjour Python  \"\n",
    "print(texte.strip())  # Affiche : Bonjour Python\n",
    "\n",
    "texte2 = \"Python est génial\"\n",
    "print(texte2.split())  # Affiche : ['Python', 'est', 'génial']\n",
    "\n",
    "liste = [\"Python\", \"est\", \"génial\"]\n",
    "print(\" \".join(liste))  # Affiche : Python est génial"
   ]
  },
  {
   "cell_type": "markdown",
   "id": "3c535855-1f61-4917-a0f9-dbed9a655500",
   "metadata": {
    "editable": true,
    "slideshow": {
     "slide_type": "subslide"
    },
    "tags": []
   },
   "source": [
    "## Les f-strings\n",
    "\n",
    "- Pour formater les chaînes.\n",
    "- Permettent d’insérer des variables ou des expressions directement dans une chaîne.\n",
    "- Syntaxe : **`f\"texte {variable}\"`**\n",
    "\n",
    "_Exemples_ :"
   ]
  },
  {
   "cell_type": "code",
   "execution_count": 167,
   "id": "7cc6e87d-9253-4dff-a7d2-eec0a6548405",
   "metadata": {
    "editable": true,
    "slideshow": {
     "slide_type": ""
    },
    "tags": []
   },
   "outputs": [
    {
     "name": "stdout",
     "output_type": "stream",
     "text": [
      "Bonjour Alice, vous avez 30 ans.\n",
      "5 + 3 = 8\n"
     ]
    }
   ],
   "source": [
    "nom = \"Alice\"\n",
    "age = 30\n",
    "print(f\"Bonjour {nom}, vous avez {age} ans.\")\n",
    "\n",
    "# Calculs dans les f-strings\n",
    "print(f\"5 + 3 = {5 + 3}\")"
   ]
  },
  {
   "cell_type": "markdown",
   "id": "5e44c9ea-272b-4d5b-b053-1aea952a27e4",
   "metadata": {
    "editable": true,
    "slideshow": {
     "slide_type": "subslide"
    },
    "tags": []
   },
   "source": [
    "## Pratique\n",
    "\n",
    "### Exercice 1 : Manipuler la casse\n",
    "1. Déclarez une variable contenant le texte : `\"Python est amusant !\"`.\n",
    "2. Convertissez cette chaîne en majuscules.\n",
    "3. Convertissez cette chaîne en minuscules.\n",
    "4. Affichez les résultats avec la fonction `print`."
   ]
  },
  {
   "cell_type": "markdown",
   "id": "972d36b8-34f7-4869-beda-ad5c802a3925",
   "metadata": {
    "editable": true,
    "slideshow": {
     "slide_type": "subslide"
    },
    "tags": []
   },
   "source": [
    "### Exercice 2 : Compter et remplacer\n",
    "\n",
    "1. Déclarez une chaîne contenant : `\"Python est Pythonique car Python est simple.\"`\n",
    "2. Comptez combien de fois le mot `\"Python\"` apparaît dans cette chaîne.\n",
    "3. Remplacez tous les `\"Python\"` par `\"Génial\"`.\n",
    "4. Affichez les résultats."
   ]
  },
  {
   "cell_type": "markdown",
   "id": "611e9e38-db18-476b-818f-6a3b85413b87",
   "metadata": {
    "editable": true,
    "slideshow": {
     "slide_type": "subslide"
    },
    "tags": []
   },
   "source": [
    "### Exercice 3 : Découper et assembler\n",
    "\n",
    "1. Déclarez une chaîne contenant : `\"Apprendre Python pas à pas\"`.\n",
    "2. Séparez cette chaîne en une liste de mots.\n",
    "3. Réassemblez les mots en une nouvelle chaîne, séparés par un tiret `\"-\"`.\n",
    "4. Affichez la liste des mots et la nouvelle chaîne."
   ]
  },
  {
   "cell_type": "markdown",
   "id": "4dede1c0-33d9-44a9-b3b9-4834f4ae7032",
   "metadata": {
    "editable": true,
    "slideshow": {
     "slide_type": "subslide"
    },
    "tags": []
   },
   "source": [
    "### Exercice 4 : Les f-strings\n",
    "\n",
    "1. Déclarez deux variables : `nom = \"Alice\"` et `age = 25`.\n",
    "2. Utilisez un f-string pour afficher : `\"Bonjour Alice, vous avez 25 ans.\"`\n",
    "3. Modifiez la variable `age` en lui ajoutant 5, et affichez à nouveau la phrase : `\"Bonjour Alice, vous aurez 30 ans dans 5 ans.\"`"
   ]
  },
  {
   "cell_type": "markdown",
   "id": "ed085a77-c875-49e3-90ed-bf88cef4ec7f",
   "metadata": {
    "editable": true,
    "slideshow": {
     "slide_type": "subslide"
    },
    "tags": []
   },
   "source": [
    "### Exercice 5 : Combiner les méthodes\n",
    "\n",
    "1. Déclarez une chaîne : `\"   Python est simple mais puissant.   \"`\n",
    "2. Supprimez les espaces au début et à la fin de la chaîne.\n",
    "3. Convertissez la chaîne en majuscules.\n",
    "4. Remplacez `\"PUISSANT\"` par `\"INCROYABLE\"`.\n",
    "5. Séparez les mots dans une liste et affichez-les."
   ]
  },
  {
   "cell_type": "markdown",
   "id": "c9f3f797-bdd9-4ad1-8fa7-c2a9a6542fe7",
   "metadata": {
    "editable": true,
    "slideshow": {
     "slide_type": "slide"
    },
    "tags": []
   },
   "source": [
    "# Les types numériques"
   ]
  },
  {
   "cell_type": "markdown",
   "id": "28a3a86f-bd07-4ebb-b25d-ae139d230335",
   "metadata": {
    "editable": true,
    "slideshow": {
     "slide_type": "subslide"
    },
    "tags": []
   },
   "source": [
    "## Liste des types et caractéristiques \n",
    "\n",
    "- **int** : Entiers (ex. `42`, `-5`)\n",
    "- **float** : Nombres décimaux (ex. `3.14`, `-0.01`)\n",
    "- **complex** : Nombres complexes (ex. `2 + 3j`)\n",
    "\n",
    "**Caractéristiques**\n",
    "- Les entiers (`int`) peuvent être de taille illimitée.\n",
    "- Les flottants (`float`) utilisent une précision limitée (base 64 bits).\n",
    "- Les conversions entre types se font facilement"
   ]
  },
  {
   "cell_type": "code",
   "execution_count": 168,
   "id": "c877f899-7207-4478-b516-03eecb129f58",
   "metadata": {
    "editable": true,
    "slideshow": {
     "slide_type": ""
    },
    "tags": []
   },
   "outputs": [
    {
     "name": "stdout",
     "output_type": "stream",
     "text": [
      "42.0\n",
      "3\n",
      "(2+3j)\n"
     ]
    }
   ],
   "source": [
    "print(float(42))  \n",
    "print(int(3.14))\n",
    "print(complex(2, 3))"
   ]
  },
  {
   "cell_type": "markdown",
   "id": "b994b3bc-893c-40fc-83ad-a5634b012fbc",
   "metadata": {
    "editable": true,
    "slideshow": {
     "slide_type": "subslide"
    },
    "tags": []
   },
   "source": [
    "## Opérations sur les types numériques\n",
    "\n",
    "- Addition : `+`\n",
    "- Soustraction : `-`\n",
    "- Multiplication : `*`\n",
    "- Division : `/`\n",
    "- Division entière : `//`\n",
    "- Modulo : `%`\n",
    "- Puissance : `**`\n",
    "\n",
    "_Exemples_ :"
   ]
  },
  {
   "cell_type": "code",
   "execution_count": 169,
   "id": "967a4bd3-a972-4ead-8ac2-a75a569914a1",
   "metadata": {
    "editable": true,
    "slideshow": {
     "slide_type": ""
    },
    "tags": []
   },
   "outputs": [
    {
     "name": "stdout",
     "output_type": "stream",
     "text": [
      "13\n",
      "3\n",
      "8\n",
      "1\n"
     ]
    }
   ],
   "source": [
    "print(10 + 3)  \n",
    "print(10 // 3) \n",
    "print(2 ** 3)  \n",
    "print(10 % 3) "
   ]
  },
  {
   "cell_type": "markdown",
   "id": "bb3120bf-49c6-4f24-8095-41ff7474670c",
   "metadata": {
    "editable": true,
    "slideshow": {
     "slide_type": "subslide"
    },
    "tags": []
   },
   "source": [
    "## Fonctions courantes\n",
    "- `abs(x)` : Valeur absolue.\n",
    "- `round(x, n)` : Arrondit x à n décimales.\n",
    "- `pow(x, y)` : Puissance de x à la y.\n",
    "- `divmod(a, b)` : Retourne `(a // b, a % b)`.\n",
    "\n",
    "_Exemples_ :"
   ]
  },
  {
   "cell_type": "code",
   "execution_count": 170,
   "id": "12e87d12-6ceb-4831-b178-1ab081961b69",
   "metadata": {
    "editable": true,
    "slideshow": {
     "slide_type": ""
    },
    "tags": []
   },
   "outputs": [
    {
     "name": "stdout",
     "output_type": "stream",
     "text": [
      "42\n",
      "3.14\n",
      "8\n",
      "(3, 1)\n"
     ]
    }
   ],
   "source": [
    "print(abs(-42))  \n",
    "print(round(3.14159, 2))  \n",
    "print(pow(2, 3)) \n",
    "print(divmod(10, 3))  "
   ]
  },
  {
   "cell_type": "markdown",
   "id": "506d3d48-57f1-4ff9-a283-2f2142939352",
   "metadata": {
    "editable": true,
    "slideshow": {
     "slide_type": "subslide"
    },
    "tags": []
   },
   "source": [
    "## Le module `math`\n",
    "\n",
    "Contient des attributs et méthodes utiles :  \n",
    "- `sqrt(x)` : Racine carrée.\n",
    "- `log(x)` : Logarithme naturel.\n",
    "- `sin(x)`, `cos(x)` : Fonctions trigonométriques.\n",
    "- `pi` : le nombre Pi"
   ]
  },
  {
   "cell_type": "code",
   "execution_count": 171,
   "id": "511c397f-08c8-43d5-8330-aee3a883a290",
   "metadata": {
    "editable": true,
    "slideshow": {
     "slide_type": ""
    },
    "tags": []
   },
   "outputs": [
    {
     "name": "stdout",
     "output_type": "stream",
     "text": [
      "4.0\n",
      "2.302585092994046\n"
     ]
    }
   ],
   "source": [
    "import math\n",
    "print(math.sqrt(16))  # 4.0\n",
    "print(math.log(10))  # 2.302585..."
   ]
  },
  {
   "cell_type": "markdown",
   "id": "ad7f8ae2-3416-4703-89cc-7e84fd6268d3",
   "metadata": {
    "editable": true,
    "slideshow": {
     "slide_type": "subslide"
    },
    "tags": []
   },
   "source": [
    "## Le module `decimal`\n",
    "\n",
    "- En Python, les flottants (`float`) sont représentés selon la norme **IEEE 754** (base 64 bits).\n",
    "- Cette représentation peut entraîner des erreurs d’arrondi, comme :\n",
    "  ```python\n",
    "  print(0.1 + 0.2)  # Affiche : 0.30000000000000004\n",
    "  ```\n",
    "\n",
    "Le module decimal permet de manipuler des nombres en évitant ces erreurs.  "
   ]
  },
  {
   "cell_type": "code",
   "execution_count": 172,
   "id": "a31671cb-55bc-4758-8229-e7f8c4659726",
   "metadata": {
    "editable": true,
    "slideshow": {
     "slide_type": ""
    },
    "tags": []
   },
   "outputs": [
    {
     "name": "stdout",
     "output_type": "stream",
     "text": [
      "0.3\n"
     ]
    }
   ],
   "source": [
    "from decimal import Decimal\n",
    "x = Decimal(\"0.1\")\n",
    "y = Decimal(\"0.2\")\n",
    "print(x + y)  # Affiche : 0.3"
   ]
  },
  {
   "cell_type": "markdown",
   "id": "f20f7f11-2d5f-4115-85b4-5b6bf1e87f80",
   "metadata": {
    "editable": true,
    "slideshow": {
     "slide_type": ""
    },
    "tags": []
   },
   "source": [
    "Utiliser des chaînes de caractères pour initialiser les `Decimal`."
   ]
  },
  {
   "cell_type": "markdown",
   "id": "c9956ca9-b851-4cc1-990e-3f26b4382d31",
   "metadata": {
    "editable": true,
    "slideshow": {
     "slide_type": "subslide"
    },
    "tags": []
   },
   "source": [
    "La précision peut être configurée avec `getcontext`"
   ]
  },
  {
   "cell_type": "code",
   "execution_count": 173,
   "id": "df589585-04a7-4361-8bab-9ae25aa1eef0",
   "metadata": {
    "editable": true,
    "slideshow": {
     "slide_type": ""
    },
    "tags": []
   },
   "outputs": [
    {
     "name": "stdout",
     "output_type": "stream",
     "text": [
      "0.14285714285714285714285714285714285714285714285714\n"
     ]
    }
   ],
   "source": [
    "from decimal import Decimal, getcontext\n",
    "getcontext().prec = 50  # Définit la précision à 50 chiffres\n",
    "\n",
    "x = Decimal(\"1\") / Decimal(\"7\")\n",
    "print(x)  # Affiche : 0.14285714285714285714285714285714285714285714285714"
   ]
  },
  {
   "cell_type": "markdown",
   "id": "ee72fecc-f8eb-4554-ae4e-7c0f73b2a11c",
   "metadata": {
    "editable": true,
    "slideshow": {
     "slide_type": ""
    },
    "tags": []
   },
   "source": [
    "Le module `decimal` est adapté aux applications financières, scientifiques ou toute situation où les erreurs d’arrondi doivent être évitées. Mais, attention , il est plus lent que les flottants natifs, car Decimal effectue des calculs supplémentaires pour maintenir la précision."
   ]
  },
  {
   "cell_type": "markdown",
   "id": "4cc30976-8839-44df-bb7a-d54d7ae16990",
   "metadata": {
    "editable": true,
    "slideshow": {
     "slide_type": "subslide"
    },
    "tags": []
   },
   "source": [
    "## Pratique\n",
    "\n",
    "### Exercice 1 : Opérations simples\n",
    "- Créez deux variables a et b contenant respectivement les valeurs 15 et 7.\n",
    "- Calculez et affichez :\n",
    "    + La somme de a et b.\n",
    "    + Leur différence.\n",
    "    + Leur produit.\n",
    "    + Le quotient (division).\n",
    "    + Le reste de la division de a par b."
   ]
  },
  {
   "cell_type": "markdown",
   "id": "53c44408-a62c-49d1-bfd7-41823536b32b",
   "metadata": {
    "editable": true,
    "slideshow": {
     "slide_type": "subslide"
    },
    "tags": []
   },
   "source": [
    "### Exercice 2 : Puissance et racine carrée\n",
    "\n",
    "- Calculez $2^8$ (2 puissance 8).\n",
    "- La racine carrée de 144 (utilisez le module math)."
   ]
  },
  {
   "cell_type": "markdown",
   "id": "0df4c8e1-4ab7-49b6-a1b9-9e903dab1281",
   "metadata": {
    "editable": true,
    "slideshow": {
     "slide_type": "subslide"
    },
    "tags": []
   },
   "source": [
    "### Exercice 3 : Calculs avec des flottants\n",
    "\n",
    "- Déclarez deux nombres flottants x = 0.1 et y = 0.2.\n",
    "- Calculez et affichez :\n",
    "    - Leur somme (montrez l'erreur d'arrondi de Python).\n",
    "    - Leur somme précise en utilisant le module decimal."
   ]
  },
  {
   "cell_type": "markdown",
   "id": "442161bc-679d-407b-875f-8e7fa3f22ac5",
   "metadata": {
    "editable": true,
    "slideshow": {
     "slide_type": "subslide"
    },
    "tags": []
   },
   "source": [
    "### Exercice 4 : Utilisation de divmod()\n",
    "\n",
    "- Déclarez deux variables a = 50 et b = 6.\n",
    "- Utilisez la fonction divmod() pour obtenir :\n",
    "    - Le quotient entier.\n",
    "    - Le reste.\n",
    "- Affichez les résultats séparément."
   ]
  },
  {
   "cell_type": "markdown",
   "id": "b493a4d2-8ce8-4f37-947a-cab865208000",
   "metadata": {
    "editable": true,
    "slideshow": {
     "slide_type": "slide"
    },
    "tags": []
   },
   "source": [
    "# Le type booléen"
   ]
  },
  {
   "cell_type": "markdown",
   "id": "638bd589-fae0-401f-ac43-7efa0c5c4de7",
   "metadata": {
    "editable": true,
    "slideshow": {
     "slide_type": "subslide"
    },
    "tags": []
   },
   "source": [
    "## Présentation\n",
    "\n",
    "- Un booléen peut être :\n",
    "  - `True` : Vrai\n",
    "  - `False` : Faux\n",
    "- Utilisé pour contrôler la logique des programmes :\n",
    "  - Conditions\n",
    "  - Boucles\n",
    "  - Expressions logiques"
   ]
  },
  {
   "cell_type": "markdown",
   "id": "c7366fb4-1342-42be-8cef-08772ddf5a0b",
   "metadata": {
    "editable": true,
    "slideshow": {
     "slide_type": "subslide"
    },
    "tags": []
   },
   "source": [
    "## Fonction `bool()`\n",
    "\n",
    "- En Python, tout objet peut être converti en booléen.\n",
    "- Les valeurs suivantes sont `False` :\n",
    "  - `0`, `0.0`\n",
    "  - `None`\n",
    "  - Chaîne vide : `\"\"`\n",
    "  - Liste/dictionnaire/vecteur vide : `[]`, `{}`\n",
    "\n",
    "_Exemples_ :"
   ]
  },
  {
   "cell_type": "code",
   "execution_count": 236,
   "id": "5a8118b8-0071-44e2-8b9b-190d822185ca",
   "metadata": {
    "editable": true,
    "slideshow": {
     "slide_type": ""
    },
    "tags": []
   },
   "outputs": [
    {
     "name": "stdout",
     "output_type": "stream",
     "text": [
      "False\n",
      "True\n",
      "False\n",
      "True\n"
     ]
    }
   ],
   "source": [
    "print(bool(0))      # False\n",
    "print(bool(42))     # True\n",
    "print(bool(\"\"))     # False\n",
    "print(bool(\"Hello\")) # True"
   ]
  },
  {
   "cell_type": "markdown",
   "id": "249e605f-6a7b-4b56-b07f-04c89636f591",
   "metadata": {
    "editable": true,
    "slideshow": {
     "slide_type": "subslide"
    },
    "tags": []
   },
   "source": [
    "## Les opérateurs logiques\n",
    "\n",
    "- **`and`** : Vrai si **les deux** conditions sont vraies.\n",
    "- **`or`** : Vrai si **au moins une** condition est vraie.\n",
    "- **`not`** : Inverse la valeur logique.\n",
    "\n",
    "_Exemples_ :\n",
    "```python\n",
    "a = True\n",
    "b = False\n",
    "\n",
    "print(a and b)  # False\n",
    "print(a or b)   # True\n",
    "print(not a)    # False\n",
    "```"
   ]
  },
  {
   "cell_type": "markdown",
   "id": "3b95eda3-9fd3-4e0c-8998-d5ccd978402f",
   "metadata": {
    "editable": true,
    "slideshow": {
     "slide_type": "subslide"
    },
    "tags": []
   },
   "source": [
    "## Les opérateurs de comparaison\n",
    "\n",
    "- Égalité : `==`\n",
    "- Différence : `!=`\n",
    "- Plus grand/plus petit : `>`, `<`, `>=`, `<=`\n",
    "\n",
    "_Exemple_ :\n",
    "```python\n",
    "x = 10\n",
    "y = 20\n",
    "\n",
    "print(x > y)   # False\n",
    "print(x == 10) # True\n",
    "```"
   ]
  },
  {
   "cell_type": "markdown",
   "id": "d4bb71d2-2031-4827-8296-fc04e32adb55",
   "metadata": {
    "editable": true,
    "slideshow": {
     "slide_type": "subslide"
    },
    "tags": []
   },
   "source": [
    "## Pratique\n",
    "\n",
    "### Exercice 1 : Comprendre les booléens\n",
    "\n",
    "Déclarez deux variables :\n",
    "```python\n",
    "a = True\n",
    "b = False\n",
    "```\n",
    "Calculez et affichez :\n",
    "```python\n",
    "a and b\n",
    "a or b\n",
    "not a\n",
    "```"
   ]
  },
  {
   "cell_type": "markdown",
   "id": "1be60ecd-f5ea-4eb8-8ce0-699336002d56",
   "metadata": {
    "editable": true,
    "slideshow": {
     "slide_type": "subslide"
    },
    "tags": []
   },
   "source": [
    "### Exercice 2 : Conversion en booléen\n",
    "\n",
    "Déclarez les variables suivantes :\n",
    "```python\n",
    "x = 0\n",
    "y = 42\n",
    "texte = \"\"\n",
    "texte2 = \"Python\"\n",
    "```\n",
    "\n",
    "Affichez leur conversion en booléen avec bool()."
   ]
  },
  {
   "cell_type": "markdown",
   "id": "1de02577-d5b8-459f-951f-286b7e735bf1",
   "metadata": {
    "editable": true,
    "slideshow": {
     "slide_type": "subslide"
    },
    "tags": []
   },
   "source": [
    "### Exercice 3 : Comparaisons\n",
    "\n",
    "- Déclarez deux variables `a = 10` et `b = 20`.\n",
    "- Effectuez et affichez les comparaisons suivantes :\n",
    "    - `a > b`\n",
    "    - `a == b`\n",
    "    - `a <= b`\n",
    "    - `a != b`"
   ]
  },
  {
   "cell_type": "markdown",
   "id": "e96eea25-5b1f-4d9a-b622-09d45b4c6144",
   "metadata": {
    "editable": true,
    "slideshow": {
     "slide_type": "subslide"
    },
    "tags": []
   },
   "source": [
    "### Exercice 4 : Expression logique combinée\n",
    "\n",
    "- Déclarez une variable `x = 15`.\n",
    "- Évaluez et affichez les expressions suivantes :\n",
    "    - `(x > 10) and (x < 20)`\n",
    "    - `(x < 10) or (x == 15)`\n",
    "    - `not (x == 15)`"
   ]
  },
  {
   "cell_type": "markdown",
   "id": "7df45174-3333-4258-8d60-e981027d78ef",
   "metadata": {
    "editable": true,
    "slideshow": {
     "slide_type": "slide"
    },
    "tags": []
   },
   "source": [
    "# La liste"
   ]
  },
  {
   "cell_type": "markdown",
   "id": "003148a4-8a08-4a3a-a1cd-1770780aaa4f",
   "metadata": {
    "editable": true,
    "slideshow": {
     "slide_type": "subslide"
    },
    "tags": []
   },
   "source": [
    "## Présentation\n",
    "\n",
    "- Une liste est une collection **ordonnée** et **modifiable** : les éléments ont un index, de `0` à `len(liste)-1`.\n",
    "- Elle peut contenir des éléments de types différents.\n",
    "- Définie par des crochets `[]` et séparée par des virgules.\n",
    "\n",
    "_Exemple_ :"
   ]
  },
  {
   "cell_type": "code",
   "execution_count": 174,
   "id": "3c9731cb-7255-4e5a-b5b5-dc583185c7eb",
   "metadata": {
    "editable": true,
    "slideshow": {
     "slide_type": ""
    },
    "tags": []
   },
   "outputs": [
    {
     "name": "stdout",
     "output_type": "stream",
     "text": [
      "[1, 2, 3, 'Python', True]\n",
      "a\n",
      "c\n"
     ]
    }
   ],
   "source": [
    "ma_liste1 = [1, 2, 3, \"Python\", True]\n",
    "print(ma_liste1)  # [1, 2, 3, 'Python', True]\n",
    "\n",
    "ma_liste2 = [\"a\", \"b\", \"c\"]\n",
    "print(ma_liste2[0])  # 'a' (1er élément)\n",
    "print(ma_liste2[-1]) # 'c' (dernier élément)"
   ]
  },
  {
   "cell_type": "markdown",
   "id": "61cf3172-a55a-4b5d-9a6a-0539a820446e",
   "metadata": {
    "editable": true,
    "slideshow": {
     "slide_type": "subslide"
    },
    "tags": []
   },
   "source": [
    "## Ajouter des éléments\n",
    "\n",
    "1. **`append(element)`** : Ajoute un élément à la fin.\n",
    "2. **`extend(iterable)`** : Ajoute plusieurs éléments à la fin.\n",
    "3. **`insert(index, element)`** : Insère un élément à un index spécifique.\n",
    "\n",
    "_Exemple_ :"
   ]
  },
  {
   "cell_type": "code",
   "execution_count": 175,
   "id": "06d6f527-78c0-43ef-94ae-cda2bdc16229",
   "metadata": {
    "editable": true,
    "slideshow": {
     "slide_type": ""
    },
    "tags": []
   },
   "outputs": [
    {
     "name": "stdout",
     "output_type": "stream",
     "text": [
      "[1, 2, 'X', 3, 4, 5, 6]\n"
     ]
    }
   ],
   "source": [
    "ma_liste = [1, 2, 3]\n",
    "ma_liste.append(4)       # [1, 2, 3, 4]\n",
    "ma_liste.extend([5, 6])  # [1, 2, 3, 4, 5, 6]\n",
    "ma_liste.insert(2, \"X\")  # [1, 2, 'X', 3, 4, 5, 6]\n",
    "print(ma_liste)"
   ]
  },
  {
   "cell_type": "markdown",
   "id": "5679888b-4695-4def-bb77-0810dfefcb1c",
   "metadata": {
    "editable": true,
    "slideshow": {
     "slide_type": "subslide"
    },
    "tags": []
   },
   "source": [
    "## Supprimer des éléments\n",
    "\n",
    "- **`remove(element)`** : Supprime la 1re occurrence d’un élément.\n",
    "- **`pop(index)`** : Supprime l’élément à un index (par défaut, le dernier).\n",
    "- **`clear()`** : Vide complètement la liste."
   ]
  },
  {
   "cell_type": "code",
   "execution_count": 176,
   "id": "00ceeddc-79c9-4bdb-ad65-b0fc960fa5ce",
   "metadata": {
    "editable": true,
    "slideshow": {
     "slide_type": ""
    },
    "tags": []
   },
   "outputs": [
    {
     "name": "stdout",
     "output_type": "stream",
     "text": [
      "[]\n"
     ]
    }
   ],
   "source": [
    "ma_liste = [1, 2, 3, 4]\n",
    "ma_liste.remove(3)   # [1, 2, 4]\n",
    "ma_liste.pop(1)      # [1, 4]\n",
    "ma_liste.clear()     # []\n",
    "print(ma_liste)"
   ]
  },
  {
   "cell_type": "markdown",
   "id": "92468cfb-49d0-495a-9003-8e0f42e85690",
   "metadata": {
    "editable": true,
    "slideshow": {
     "slide_type": "subslide"
    },
    "tags": []
   },
   "source": [
    "## Trier et inverser une liste\n",
    "\n",
    "1. **`sort()`** : Trie une liste en place (croissant par défaut).\n",
    "2. **`reverse()`** : Inverse l’ordre des éléments.\n",
    "\n",
    "_Exemple_ :"
   ]
  },
  {
   "cell_type": "code",
   "execution_count": 177,
   "id": "60cce58d-128b-49d0-9780-37a272d0ee10",
   "metadata": {
    "editable": true,
    "slideshow": {
     "slide_type": ""
    },
    "tags": []
   },
   "outputs": [
    {
     "name": "stdout",
     "output_type": "stream",
     "text": [
      "[4, 3, 2, 1]\n"
     ]
    }
   ],
   "source": [
    "ma_liste = [4, 1, 3, 2]\n",
    "ma_liste.sort()      # [1, 2, 3, 4]\n",
    "ma_liste.reverse()   # [4, 3, 2, 1]\n",
    "print(ma_liste)"
   ]
  },
  {
   "cell_type": "markdown",
   "id": "b2e5f3a3-f0e0-406e-9197-1184fda81a04",
   "metadata": {
    "editable": true,
    "slideshow": {
     "slide_type": "subslide"
    },
    "tags": []
   },
   "source": [
    "## Autres méthodes utiles\n",
    "\n",
    "- **`count(element)`** : Retourne le nombre d'occurrences d’un élément.\n",
    "- **`index(element)`** : Retourne l’index de la 1re occurrence d’un élément."
   ]
  },
  {
   "cell_type": "code",
   "execution_count": 178,
   "id": "b2d31c1b-7712-4e17-a4f1-6ab75da14afc",
   "metadata": {
    "editable": true,
    "slideshow": {
     "slide_type": ""
    },
    "tags": []
   },
   "outputs": [
    {
     "name": "stdout",
     "output_type": "stream",
     "text": [
      "2\n",
      "2\n"
     ]
    }
   ],
   "source": [
    "ma_liste = [1, 2, 3, 2, 1]\n",
    "print(ma_liste.count(2))  \n",
    "print(ma_liste.index(3))  "
   ]
  },
  {
   "cell_type": "markdown",
   "id": "46d83e0f-280f-4b8e-9053-0fdcef823c59",
   "metadata": {
    "editable": true,
    "slideshow": {
     "slide_type": "subslide"
    },
    "tags": []
   },
   "source": [
    "## Accéder à des sous-listes (découpage ou \"slicing\")"
   ]
  },
  {
   "cell_type": "code",
   "execution_count": 179,
   "id": "b9847b26-b440-443b-846b-cb6518392d23",
   "metadata": {
    "editable": true,
    "slideshow": {
     "slide_type": ""
    },
    "tags": []
   },
   "outputs": [
    {
     "name": "stdout",
     "output_type": "stream",
     "text": [
      "[1, 2, 3]\n",
      "[0, 1, 2]\n",
      "[3, 4, 5]\n"
     ]
    }
   ],
   "source": [
    "ma_liste = [0, 1, 2, 3, 4, 5]\n",
    "print(ma_liste[1:4])  \n",
    "print(ma_liste[:3])   \n",
    "print(ma_liste[3:])   "
   ]
  },
  {
   "cell_type": "markdown",
   "id": "abe85d04-d7fb-40d5-b662-42bf6480c32c",
   "metadata": {
    "editable": true,
    "slideshow": {
     "slide_type": "subslide"
    },
    "tags": []
   },
   "source": [
    "## Parcourir une liste avec une boucle for\n",
    "\n",
    "Par valeur "
   ]
  },
  {
   "cell_type": "code",
   "execution_count": 180,
   "id": "0ae3a801-5351-430c-82de-b6b0232d90dc",
   "metadata": {
    "editable": true,
    "slideshow": {
     "slide_type": ""
    },
    "tags": []
   },
   "outputs": [
    {
     "name": "stdout",
     "output_type": "stream",
     "text": [
      "Python\n",
      "est\n",
      "génial\n"
     ]
    }
   ],
   "source": [
    "ma_liste = [\"Python\", \"est\", \"génial\"]\n",
    "for element in ma_liste:\n",
    "    print(element)"
   ]
  },
  {
   "cell_type": "markdown",
   "id": "7e1ab39c-101f-4091-a220-eaf9531742e2",
   "metadata": {
    "editable": true,
    "slideshow": {
     "slide_type": "subslide"
    },
    "tags": []
   },
   "source": [
    "Par index et valeur avec `enumerate`"
   ]
  },
  {
   "cell_type": "code",
   "execution_count": 181,
   "id": "662ee1d8-46ce-4a3a-b427-e522bfac3f84",
   "metadata": {
    "editable": true,
    "slideshow": {
     "slide_type": ""
    },
    "tags": []
   },
   "outputs": [
    {
     "name": "stdout",
     "output_type": "stream",
     "text": [
      "0: Python\n",
      "1: est\n",
      "2: génial\n"
     ]
    }
   ],
   "source": [
    "ma_liste = [\"Python\", \"est\", \"génial\"]\n",
    "for index, element in enumerate(ma_liste):\n",
    "    print(f\"{index}: {element}\")"
   ]
  },
  {
   "cell_type": "markdown",
   "id": "288a1b72-7c1d-4f2e-875d-2881d26c53a0",
   "metadata": {
    "editable": true,
    "slideshow": {
     "slide_type": "subslide"
    },
    "tags": []
   },
   "source": [
    "## Pratique\n",
    "\n",
    "### Exercice 1 : Création et accès aux éléments\n",
    "\n",
    "- Créez une liste contenant les éléments suivants : \"Python\", \"Java\", \"C++\", \"Ruby\".\n",
    "- Affichez :\n",
    "    - Le premier élément.\n",
    "    - Le dernier élément.\n",
    "    - Les deux premiers éléments (en utilisant le slicing)."
   ]
  },
  {
   "cell_type": "markdown",
   "id": "cab25b7e-4936-4fff-9363-ba834fba3fb7",
   "metadata": {
    "editable": true,
    "slideshow": {
     "slide_type": "subslide"
    },
    "tags": []
   },
   "source": [
    "### Exercice 2 : Ajouter et supprimer des éléments\n",
    "\n",
    "- Créez une liste vide.\n",
    "- Ajoutez successivement les nombres 1, 2 et 3 à la liste.\n",
    "- Supprimez le deuxième élément (index 1).\n",
    "- Affichez la liste après chaque opération."
   ]
  },
  {
   "cell_type": "markdown",
   "id": "6d4a0136-3efe-4712-bad9-457728c1fcbf",
   "metadata": {
    "editable": true,
    "slideshow": {
     "slide_type": "subslide"
    },
    "tags": []
   },
   "source": [
    "### Exercice 3 : Parcourir une liste\n",
    "\n",
    "- Créez une liste contenant les nombres de 1 à 5.\n",
    "- Parcourez la liste avec une boucle et affichez chaque élément multiplié par 2."
   ]
  },
  {
   "cell_type": "markdown",
   "id": "e41e3581-522b-4a02-bbca-3a2e2b863664",
   "metadata": {
    "editable": true,
    "slideshow": {
     "slide_type": "subslide"
    },
    "tags": []
   },
   "source": [
    "### Exercice 4 : Trier et inverser une liste\n",
    "\n",
    "- Créez une liste contenant les nombres suivants : 4, 1, 3, 2.\n",
    "- Triez la liste en ordre croissant.\n",
    "- Inversez l’ordre des éléments.\n",
    "- Affichez les résultats après chaque opération."
   ]
  },
  {
   "cell_type": "markdown",
   "id": "d9c695ad-df46-4150-9327-1f35db4f44bb",
   "metadata": {
    "editable": true,
    "slideshow": {
     "slide_type": "subslide"
    },
    "tags": []
   },
   "source": [
    "### Exercice 5 : Méthodes count et index\n",
    "\n",
    "- Créez une liste contenant : `[1, 2, 3, 2, 4, 2]`.\n",
    "- Comptez combien de fois le nombre 2 apparaît dans la liste.\n",
    "- Trouvez l’index de la première occurrence du nombre 3."
   ]
  },
  {
   "cell_type": "markdown",
   "id": "5d81b2e6-6c40-43ec-b6d6-38d068699b2d",
   "metadata": {
    "editable": true,
    "slideshow": {
     "slide_type": "subslide"
    },
    "tags": []
   },
   "source": [
    "### Exercice 6 : Sous-listes (slicing)\n",
    "\n",
    "- Créez une liste contenant les nombres de 0 à 9.\n",
    "- Extrayez et affichez :\n",
    "    - Les trois premiers éléments.\n",
    "    - Les trois derniers éléments.\n",
    "    - Les éléments situés aux index pairs (0, 2, 4…)."
   ]
  },
  {
   "cell_type": "markdown",
   "id": "aff5c836-c82d-4b75-b3f3-9f39d8f38ddd",
   "metadata": {
    "editable": true,
    "slideshow": {
     "slide_type": "slide"
    },
    "tags": []
   },
   "source": [
    "# Le tuple"
   ]
  },
  {
   "cell_type": "markdown",
   "id": "0d6b45ab-363d-4498-8227-9a1cede72318",
   "metadata": {
    "editable": true,
    "slideshow": {
     "slide_type": "subslide"
    },
    "tags": []
   },
   "source": [
    "## Présentation\n",
    "\n",
    "- Un **tuple** est une collection **ordonnée** et **non modifiable** (*immuable*, une fois créé, un tuple ne peut pas être modifié).\n",
    "- Comme les listes, un tuple peut contenir des éléments de types différents.\n",
    "- Délimité par des parenthèses `()`.\n",
    "\n",
    "_Exemple_ :"
   ]
  },
  {
   "cell_type": "code",
   "execution_count": 182,
   "id": "57d98ef2-03c6-4dd6-8f73-9f0590f464c1",
   "metadata": {
    "editable": true,
    "slideshow": {
     "slide_type": ""
    },
    "tags": []
   },
   "outputs": [
    {
     "name": "stdout",
     "output_type": "stream",
     "text": [
      "(1, 2, 3, 'Python', True)\n"
     ]
    }
   ],
   "source": [
    "mon_tuple = (1, 2, 3, \"Python\", True)\n",
    "print(mon_tuple)  "
   ]
  },
  {
   "cell_type": "markdown",
   "id": "412d88bc-525d-4d07-b198-da5111684f4d",
   "metadata": {
    "editable": true,
    "slideshow": {
     "slide_type": "subslide"
    },
    "tags": []
   },
   "source": [
    "## Avantages des tuples\n",
    "\n",
    "1. **Immuabilité** :\n",
    "   - Idéal pour des données constantes.\n",
    "   - Plus sûr, car les tuples ne peuvent pas être modifiés accidentellement.\n",
    "2. **Efficacité** :\n",
    "   - Les tuples sont généralement plus rapides que les listes.\n",
    "3. **Clé dans un dictionnaire** :\n",
    "   - Les tuples peuvent être utilisés comme clés (contrairement aux listes).\n",
    "\n",
    "_Cas d'utilisation_ :\n",
    "```python\n",
    "coordonnees = (43.6, 3.9)  # Latitude, longitude\n",
    "jours_semaine = (\"lundi\", \"mardi\", \"mercredi\", \"jeudi\", \"vendredi\")\n",
    "```"
   ]
  },
  {
   "cell_type": "markdown",
   "id": "82e16b32-df57-4ddf-a480-3083f3130925",
   "metadata": {
    "editable": true,
    "slideshow": {
     "slide_type": "subslide"
    },
    "tags": []
   },
   "source": [
    "## Accès aux éléments\n",
    "\n",
    "- Comme les listes, on utilise les **indices** pour accéder aux éléments.\n",
    "- **Découpage (slicing)** est également possible.\n",
    "\n",
    "_Exemple_ :"
   ]
  },
  {
   "cell_type": "code",
   "execution_count": 183,
   "id": "b5a50b92-31a0-4e5d-97b8-477a435f7a49",
   "metadata": {
    "editable": true,
    "slideshow": {
     "slide_type": ""
    },
    "tags": []
   },
   "outputs": [
    {
     "name": "stdout",
     "output_type": "stream",
     "text": [
      "20\n",
      "(10, 20, 30)\n",
      "(40, 50)\n"
     ]
    }
   ],
   "source": [
    "mon_tuple = (10, 20, 30, 40, 50)\n",
    "print(mon_tuple[1])    \n",
    "print(mon_tuple[:3])  \n",
    "print(mon_tuple[-2:])"
   ]
  },
  {
   "cell_type": "markdown",
   "id": "f7064c2f-507d-4105-ac95-1f3431466ebf",
   "metadata": {
    "editable": true,
    "slideshow": {
     "slide_type": "subslide"
    },
    "tags": []
   },
   "source": [
    "## Opérations courantes\n",
    "\n",
    "- Concaténation : Ajouter deux tuples ensemble.\n",
    "- Répétition : Répéter un tuple plusieurs fois."
   ]
  },
  {
   "cell_type": "code",
   "execution_count": 184,
   "id": "876c14db-d2d0-4955-83cd-2bfb4d569816",
   "metadata": {
    "editable": true,
    "slideshow": {
     "slide_type": ""
    },
    "tags": []
   },
   "outputs": [
    {
     "name": "stdout",
     "output_type": "stream",
     "text": [
      "(1, 2, 3, 4, 5)\n",
      "(1, 2, 3, 1, 2, 3)\n"
     ]
    }
   ],
   "source": [
    "t1 = (1, 2, 3)\n",
    "t2 = (4, 5)\n",
    "print(t1 + t2)\n",
    "print(t1 * 2)  "
   ]
  },
  {
   "cell_type": "markdown",
   "id": "28c6a7fd-3cd7-46ab-a521-75b7fded9aee",
   "metadata": {
    "editable": true,
    "slideshow": {
     "slide_type": "subslide"
    },
    "tags": []
   },
   "source": [
    "## Vérification d'appartenance\n",
    "\n",
    "`in` : Vérifie si un élément est dans un tuple."
   ]
  },
  {
   "cell_type": "code",
   "execution_count": 185,
   "id": "bafc75bf-7eda-405b-ba4c-495e9043bce2",
   "metadata": {
    "editable": true,
    "slideshow": {
     "slide_type": ""
    },
    "tags": []
   },
   "outputs": [
    {
     "name": "stdout",
     "output_type": "stream",
     "text": [
      "True\n",
      "False\n"
     ]
    }
   ],
   "source": [
    "mon_tuple = (1, 2, 3, 4)\n",
    "print(3 in mon_tuple)   \n",
    "print(5 in mon_tuple)   "
   ]
  },
  {
   "cell_type": "markdown",
   "id": "f5f81a56-fce6-4b2c-8c14-3000d1267054",
   "metadata": {
    "editable": true,
    "slideshow": {
     "slide_type": "subslide"
    },
    "tags": []
   },
   "source": [
    "## Méthodes\n",
    "\n",
    "- **`count(element)`** : Compte le nombre d’occurrences d’un élément.\n",
    "- **`index(element)`** : Retourne l’index de la première occurrence d’un élément.\n",
    "\n",
    "_Exemple_ :"
   ]
  },
  {
   "cell_type": "code",
   "execution_count": 186,
   "id": "13159a2f-3fb9-4676-b4ad-4dd96c7e5f5d",
   "metadata": {
    "editable": true,
    "slideshow": {
     "slide_type": ""
    },
    "tags": []
   },
   "outputs": [
    {
     "name": "stdout",
     "output_type": "stream",
     "text": [
      "2\n",
      "3\n"
     ]
    }
   ],
   "source": [
    "mon_tuple = (1, 2, 2, 3, 4)\n",
    "print(mon_tuple.count(2))  \n",
    "print(mon_tuple.index(3))  "
   ]
  },
  {
   "cell_type": "markdown",
   "id": "f45ad30b-0f68-40bf-8376-cf3b7e9100c5",
   "metadata": {
    "editable": true,
    "slideshow": {
     "slide_type": "subslide"
    },
    "tags": []
   },
   "source": [
    "## Conversion entre liste et tuple\n",
    "\n",
    "**tuple vers liste**"
   ]
  },
  {
   "cell_type": "code",
   "execution_count": 187,
   "id": "000b1a5c-eeb0-4262-97c0-bef501cea4a5",
   "metadata": {
    "editable": true,
    "slideshow": {
     "slide_type": ""
    },
    "tags": []
   },
   "outputs": [
    {
     "name": "stdout",
     "output_type": "stream",
     "text": [
      "[1, 2, 3]\n"
     ]
    }
   ],
   "source": [
    "t = (1, 2, 3)\n",
    "l = list(t)\n",
    "print(l) "
   ]
  },
  {
   "cell_type": "markdown",
   "id": "1804322f-8973-48c6-a90d-43a6fb27dfd3",
   "metadata": {
    "editable": true,
    "slideshow": {
     "slide_type": "subslide"
    },
    "tags": []
   },
   "source": [
    "**liste vers tuple**"
   ]
  },
  {
   "cell_type": "code",
   "execution_count": 188,
   "id": "a72fbd22-72a2-4de6-8f73-1df5f13fc687",
   "metadata": {
    "editable": true,
    "slideshow": {
     "slide_type": ""
    },
    "tags": []
   },
   "outputs": [
    {
     "name": "stdout",
     "output_type": "stream",
     "text": [
      "(4, 5, 6)\n"
     ]
    }
   ],
   "source": [
    "l = [4, 5, 6]\n",
    "t = tuple(l)\n",
    "print(t)  "
   ]
  },
  {
   "cell_type": "markdown",
   "id": "8f8f1b13-be05-4786-817a-abc2083c4dbd",
   "metadata": {
    "editable": true,
    "slideshow": {
     "slide_type": "subslide"
    },
    "tags": []
   },
   "source": [
    "## Itération et déballage\n",
    "\n",
    "**Itération**"
   ]
  },
  {
   "cell_type": "code",
   "execution_count": 189,
   "id": "08e95ae0-8e8c-4f21-9519-3947c9dbe7f6",
   "metadata": {
    "editable": true,
    "slideshow": {
     "slide_type": ""
    },
    "tags": []
   },
   "outputs": [
    {
     "name": "stdout",
     "output_type": "stream",
     "text": [
      "a\n",
      "b\n",
      "c\n"
     ]
    }
   ],
   "source": [
    "mon_tuple = (\"a\", \"b\", \"c\")\n",
    "for element in mon_tuple:\n",
    "    print(element)"
   ]
  },
  {
   "cell_type": "markdown",
   "id": "774ee528-6500-4545-a067-674e1df0ee52",
   "metadata": {
    "editable": true,
    "slideshow": {
     "slide_type": "subslide"
    },
    "tags": []
   },
   "source": [
    "**Déballage**"
   ]
  },
  {
   "cell_type": "code",
   "execution_count": 190,
   "id": "1f6228d3-4128-4eec-b5f0-a24d378dfc48",
   "metadata": {
    "editable": true,
    "slideshow": {
     "slide_type": ""
    },
    "tags": []
   },
   "outputs": [
    {
     "name": "stdout",
     "output_type": "stream",
     "text": [
      "43.6\n",
      "3.9\n"
     ]
    }
   ],
   "source": [
    "coordonnees = (43.6, 3.9)\n",
    "latitude, longitude = coordonnees\n",
    "print(latitude)  \n",
    "print(longitude) "
   ]
  },
  {
   "cell_type": "markdown",
   "id": "078cdf77-4a6b-48dd-b8d6-04937a1ccd32",
   "metadata": {
    "editable": true,
    "slideshow": {
     "slide_type": "subslide"
    },
    "tags": []
   },
   "source": [
    "## La fonction `zip`\n",
    "\n",
    "- La fonction **`zip`** combine plusieurs collections (listes, tuples, etc.) **élément par élément**.\n",
    "- Retourne un objet `zip` contenant des **tuples** regroupant les éléments correspondants de chaque collection.\n",
    "- Les collections doivent avoir des tailles similaires pour que tous les éléments soient pris en compte.\n",
    "- Si les collections ont des longueurs différentes, zip s'arrête au plus court.\n",
    "\n",
    "_Exemple_ :"
   ]
  },
  {
   "cell_type": "code",
   "execution_count": 191,
   "id": "e0b9d5ab-cade-4f60-a7ff-0da8d00da95f",
   "metadata": {
    "editable": true,
    "slideshow": {
     "slide_type": ""
    },
    "tags": []
   },
   "outputs": [
    {
     "name": "stdout",
     "output_type": "stream",
     "text": [
      "[('Alice', 25), ('Bob', 30), ('Charlie', 35)]\n"
     ]
    }
   ],
   "source": [
    "noms = [\"Alice\", \"Bob\", \"Charlie\"]\n",
    "ages = [25, 30, 35]\n",
    "\n",
    "resultat = zip(noms, ages)\n",
    "print(list(resultat)) "
   ]
  },
  {
   "cell_type": "markdown",
   "id": "cc466dea-8cae-48cf-b49f-d90c10ed0b4d",
   "metadata": {
    "editable": true,
    "slideshow": {
     "slide_type": "subslide"
    },
    "tags": []
   },
   "source": [
    "`*` pour \"dézipper\" des collections combinées."
   ]
  },
  {
   "cell_type": "code",
   "execution_count": 192,
   "id": "3be585a1-6cc7-42e1-b3ad-f9fb57a03a13",
   "metadata": {
    "editable": true,
    "slideshow": {
     "slide_type": ""
    },
    "tags": []
   },
   "outputs": [
    {
     "name": "stdout",
     "output_type": "stream",
     "text": [
      "('Alice', 'Bob', 'Charlie')\n",
      "(25, 30, 35)\n"
     ]
    }
   ],
   "source": [
    "combines = [(\"Alice\", 25), (\"Bob\", 30), (\"Charlie\", 35)]\n",
    "noms, ages = zip(*combines)\n",
    "\n",
    "print(noms) \n",
    "print(ages) "
   ]
  },
  {
   "cell_type": "markdown",
   "id": "00942089-10e6-42e6-ae62-54079cf2d4e6",
   "metadata": {
    "editable": true,
    "slideshow": {
     "slide_type": "subslide"
    },
    "tags": []
   },
   "source": [
    "## Pratique\n",
    "\n",
    "### Exercice 1 : Création et accès\n",
    "\n",
    "- Créez un tuple contenant les éléments suivants : (\"Python\", \"Java\", \"C++\", \"Ruby\").\n",
    "- Affichez :\n",
    "    - Le premier élément.\n",
    "    - Le dernier élément.\n",
    "    - Les deux premiers éléments (en utilisant le slicing)."
   ]
  },
  {
   "cell_type": "markdown",
   "id": "d0bbeaa6-7a77-471f-8b0a-64425b5c4444",
   "metadata": {
    "editable": true,
    "slideshow": {
     "slide_type": "subslide"
    },
    "tags": []
   },
   "source": [
    "### Exercice 2 : Déballage d’un tuple\n",
    "\n",
    "- Créez un tuple contenant : (2024, \"Décembre\", 1).\n",
    "- Déballez ce tuple dans trois variables : annee, mois, jour.\n",
    "- Affichez ces variables."
   ]
  },
  {
   "cell_type": "markdown",
   "id": "8f3acb21-b4e7-4f04-a84f-e81b0c0d2172",
   "metadata": {
    "editable": true,
    "slideshow": {
     "slide_type": "subslide"
    },
    "tags": []
   },
   "source": [
    "### Exercice 3 : Conversion liste ↔ tuple\n",
    "\n",
    "- Créez une liste contenant : `[10, 20, 30]`.\n",
    "- Convertissez cette liste en un tuple.\n",
    "- Convertissez ce tuple en une liste et ajoutez-y l’élément 40."
   ]
  },
  {
   "cell_type": "markdown",
   "id": "fec35f76-bbff-4bd6-a5d0-e1e037d8886d",
   "metadata": {
    "editable": true,
    "slideshow": {
     "slide_type": "subslide"
    },
    "tags": []
   },
   "source": [
    "### Exercice 4 : Combinaison de collections\n",
    "\n",
    "- Créez deux listes :\n",
    "    - noms = [\"Alice\", \"Bob\", \"Charlie\"]\n",
    "    - ages = [25, 30, 35]\n",
    "- Utilisez zip pour associer chaque nom à un âge.\n",
    "- Affichez le résultat sous forme de liste de tuples."
   ]
  },
  {
   "cell_type": "markdown",
   "id": "fd006bca-d7a7-4d87-9e22-641486fadfd7",
   "metadata": {
    "editable": true,
    "slideshow": {
     "slide_type": "subslide"
    },
    "tags": []
   },
   "source": [
    "### Exercice 5 : Dézipper des données\n",
    "\n",
    "- Créez une liste : `[(\"Alice\", 25), (\"Bob\", 30), (\"Charlie\", 35)]`.\n",
    "- Utilisez zip pour séparer les noms et les âges dans deux tuples distincts.\n",
    "- Affichez-les."
   ]
  },
  {
   "cell_type": "markdown",
   "id": "a36c837c-3077-4c8d-8d76-6d1c93973aba",
   "metadata": {
    "editable": true,
    "slideshow": {
     "slide_type": "subslide"
    },
    "tags": []
   },
   "source": [
    "### Exercice 6 : Liste indexée\n",
    "\n",
    "- Créez une liste contenant les éléments suivants : [\"Chat\", \"Chien\", \"Oiseau\"].\n",
    "- Transformez cette liste en une liste de tuples avec les indices en utilisant enumerate."
   ]
  },
  {
   "cell_type": "markdown",
   "id": "5b4eecf8-e575-4517-a53d-3f691ad27285",
   "metadata": {
    "editable": true,
    "slideshow": {
     "slide_type": "slide"
    },
    "tags": []
   },
   "source": [
    "# Le dictionnaire"
   ]
  },
  {
   "cell_type": "markdown",
   "id": "413bb591-7093-4b3a-9c8f-2846cee8c670",
   "metadata": {
    "editable": true,
    "slideshow": {
     "slide_type": "subslide"
    },
    "tags": []
   },
   "source": [
    "## Présentation\n",
    "\n",
    "- Un **dictionnaire** est une collection modifiable et indexée.\n",
    "- Il associe des **clés** à des **valeurs**. Chaque clé est unique et sert d’identifiant pour accéder à une valeur.\n",
    "- Délimité par des accolades `{}`.\n",
    "\n",
    "_Exemple_ :\n"
   ]
  },
  {
   "cell_type": "code",
   "execution_count": 193,
   "id": "a140b2e4-1a3f-4805-b28d-9cb41c7cb0aa",
   "metadata": {
    "editable": true,
    "slideshow": {
     "slide_type": ""
    },
    "tags": []
   },
   "outputs": [
    {
     "name": "stdout",
     "output_type": "stream",
     "text": [
      "Alice\n",
      "25\n",
      "{'nom': 'Alice', 'age': 25, 'ville': 'Paris'}\n"
     ]
    }
   ],
   "source": [
    "mon_dictionnaire = {\"nom\": \"Alice\", \"age\": 25, \"ville\": \"Paris\"}\n",
    "print(mon_dictionnaire[\"nom\"])  # Alice\n",
    "print(mon_dictionnaire[\"age\"])  # 25\n",
    "print(mon_dictionnaire)"
   ]
  },
  {
   "cell_type": "markdown",
   "id": "9afd9e6e-790e-48a7-8f0f-20729796a5b0",
   "metadata": {
    "editable": true,
    "slideshow": {
     "slide_type": "subslide"
    },
    "tags": []
   },
   "source": [
    "## Caractéristiques\n",
    "\n",
    "- Clés uniques : Chaque clé dans un dictionnaire est unique.\n",
    "- Indexation par clé : Les valeurs sont accessibles via leur clé.\n",
    "- Modifiable : Les paires clé-valeur peuvent être ajoutées, modifiées ou supprimées.\n",
    "- Types acceptés :\n",
    "    - Les clés doivent être immutables (types : `str`, `int`, `tuple`, etc.).\n",
    "    - Les valeurs peuvent être de tout type."
   ]
  },
  {
   "cell_type": "markdown",
   "id": "6af8d9b5-78d7-4c4f-8d14-7e6ac01f8ff8",
   "metadata": {
    "editable": true,
    "slideshow": {
     "slide_type": "subslide"
    },
    "tags": []
   },
   "source": [
    "## Ajouter ou modifier une paire clé-valeur\n",
    "\n",
    "```python\n",
    "dictionnaire[\"nouvelle_cle\"] = \"nouvelle_valeur\"\n",
    "```"
   ]
  },
  {
   "cell_type": "code",
   "execution_count": 194,
   "id": "aa7df5b2-1381-428c-a33a-7554100632cd",
   "metadata": {
    "editable": true,
    "slideshow": {
     "slide_type": ""
    },
    "tags": []
   },
   "outputs": [
    {
     "name": "stdout",
     "output_type": "stream",
     "text": [
      "{'nom': 'Bob', 'age': 25}\n"
     ]
    }
   ],
   "source": [
    "mon_dictionnaire = {\"nom\": \"Alice\"}\n",
    "mon_dictionnaire[\"age\"] = 25  # Ajout\n",
    "mon_dictionnaire[\"nom\"] = \"Bob\"  # Modification\n",
    "print(mon_dictionnaire)  "
   ]
  },
  {
   "cell_type": "markdown",
   "id": "a5423a20-1122-4200-9396-b5c66614af10",
   "metadata": {
    "editable": true,
    "slideshow": {
     "slide_type": "subslide"
    },
    "tags": []
   },
   "source": [
    "## Supprimer une paire clé-valeur\n",
    "\n",
    "- `pop(key)` : Supprime une clé et retourne sa valeur.\n",
    "- `clear()` : Vide complètement le dictionnaire."
   ]
  },
  {
   "cell_type": "code",
   "execution_count": 255,
   "id": "ebd66b62-ddf7-4256-8403-b2c91bff955e",
   "metadata": {
    "editable": true,
    "slideshow": {
     "slide_type": ""
    },
    "tags": []
   },
   "outputs": [],
   "source": [
    "mon_dictionnaire = {\"nom\": \"Alice\", \"age\": 25}\n",
    "mon_dictionnaire.pop(\"age\")         # Supprime et retourne 25\n",
    "mon_dictionnaire.clear()            # Vide le dictionnaire"
   ]
  },
  {
   "cell_type": "markdown",
   "id": "e8cd1572-6940-40b2-a783-0699ffe3941a",
   "metadata": {
    "editable": true,
    "slideshow": {
     "slide_type": "subslide"
    },
    "tags": []
   },
   "source": [
    "## Obtenir les clés, valeurs, et paires clé-valeur\n",
    "\n",
    "1. **`keys()`** : Retourne les clés du dictionnaire.\n",
    "2. **`values()`** : Retourne les valeurs.\n",
    "3. **`items()`** : Retourne les paires clé-valeur sous forme de tuples.\n",
    "\n",
    "_Exemple_ :"
   ]
  },
  {
   "cell_type": "code",
   "execution_count": 196,
   "id": "0bb8b37e-3076-4cad-ae66-bbb83b5f1ae1",
   "metadata": {
    "editable": true,
    "slideshow": {
     "slide_type": ""
    },
    "tags": []
   },
   "outputs": [
    {
     "name": "stdout",
     "output_type": "stream",
     "text": [
      "dict_keys(['nom', 'age'])\n",
      "dict_values(['Alice', 25])\n",
      "dict_items([('nom', 'Alice'), ('age', 25)])\n"
     ]
    }
   ],
   "source": [
    "mon_dictionnaire = {\"nom\": \"Alice\", \"age\": 25}\n",
    "print(mon_dictionnaire.keys())   \n",
    "print(mon_dictionnaire.values()) \n",
    "print(mon_dictionnaire.items())  "
   ]
  },
  {
   "cell_type": "markdown",
   "id": "de6dd606-f92e-4297-a53e-53e997cc14ce",
   "metadata": {
    "editable": true,
    "slideshow": {
     "slide_type": "subslide"
    },
    "tags": []
   },
   "source": [
    "## Parcourir les clés, les valeurs, et les paires clé-valeur\n",
    "\n",
    "**Les clés** "
   ]
  },
  {
   "cell_type": "code",
   "execution_count": 197,
   "id": "b7e9d7cf-58dc-4590-b797-3149c1601489",
   "metadata": {
    "editable": true,
    "slideshow": {
     "slide_type": ""
    },
    "tags": []
   },
   "outputs": [
    {
     "name": "stdout",
     "output_type": "stream",
     "text": [
      "nom\n",
      "âge\n",
      "ville\n"
     ]
    }
   ],
   "source": [
    "mon_dictionnaire = {\"nom\": \"Alice\", \"âge\": 25, \"ville\": \"Paris\"}\n",
    "for cle in mon_dictionnaire:\n",
    "    print(cle)"
   ]
  },
  {
   "cell_type": "markdown",
   "id": "86e285be-3358-444d-aa8b-4f98a773f05f",
   "metadata": {
    "editable": true,
    "slideshow": {
     "slide_type": ""
    },
    "tags": []
   },
   "source": [
    "**Les valeurs** "
   ]
  },
  {
   "cell_type": "code",
   "execution_count": 198,
   "id": "e3cce147-1396-4f9a-98c2-b61cbe916d70",
   "metadata": {
    "editable": true,
    "slideshow": {
     "slide_type": ""
    },
    "tags": []
   },
   "outputs": [
    {
     "name": "stdout",
     "output_type": "stream",
     "text": [
      "Alice\n",
      "25\n",
      "Paris\n"
     ]
    }
   ],
   "source": [
    "for valeur in mon_dictionnaire.values():\n",
    "    print(valeur)"
   ]
  },
  {
   "cell_type": "markdown",
   "id": "8c4d11bb-f438-48c0-9629-30fb4844ba11",
   "metadata": {
    "editable": true,
    "slideshow": {
     "slide_type": "subslide"
    },
    "tags": []
   },
   "source": [
    "**Les paires**"
   ]
  },
  {
   "cell_type": "code",
   "execution_count": 199,
   "id": "f1eb22b8-bb62-4f91-9f03-4101cfe828c7",
   "metadata": {
    "editable": true,
    "slideshow": {
     "slide_type": ""
    },
    "tags": []
   },
   "outputs": [
    {
     "name": "stdout",
     "output_type": "stream",
     "text": [
      "nom: Alice\n",
      "âge: 25\n",
      "ville: Paris\n"
     ]
    }
   ],
   "source": [
    "for cle, valeur in mon_dictionnaire.items():\n",
    "    print(f\"{cle}: {valeur}\")"
   ]
  },
  {
   "cell_type": "markdown",
   "id": "7f2712a3-48d9-426c-afe5-2fdf12da975c",
   "metadata": {
    "editable": true,
    "slideshow": {
     "slide_type": "subslide"
    },
    "tags": []
   },
   "source": [
    "## Créer un dictionnaire depuis une liste\n",
    "\n",
    "Si la liste comporte des itérables de taille 2, liste ou tuple, comme par exemple `[('nom', 'Alice'), ('âge', 25), ('ville', 'Paris')]` "
   ]
  },
  {
   "cell_type": "code",
   "execution_count": 254,
   "id": "43d99705-bcd4-4da2-91c2-6c7252dec23c",
   "metadata": {
    "editable": true,
    "slideshow": {
     "slide_type": ""
    },
    "tags": []
   },
   "outputs": [
    {
     "name": "stdout",
     "output_type": "stream",
     "text": [
      "{'nom': 'Alice', 'age': 25, 'ville': 'Paris'}\n"
     ]
    }
   ],
   "source": [
    "ma_liste = [('nom', 'Alice'), ('age', 25), ('ville', 'Paris')]\n",
    "mon_dictionnaire = dict(ma_liste)\n",
    "print(mon_dictionnaire)"
   ]
  },
  {
   "cell_type": "markdown",
   "id": "fcf4cca2-f4d1-458f-a065-3b2a15270c3a",
   "metadata": {
    "editable": true,
    "slideshow": {
     "slide_type": "subslide"
    },
    "tags": []
   },
   "source": [
    "## Créer un dictionnaire avec `zip`"
   ]
  },
  {
   "cell_type": "code",
   "execution_count": 200,
   "id": "d6ee532f-5b14-43ad-9a6f-a7a82f81fc3c",
   "metadata": {
    "editable": true,
    "slideshow": {
     "slide_type": ""
    },
    "tags": []
   },
   "outputs": [
    {
     "name": "stdout",
     "output_type": "stream",
     "text": [
      "{'nom': 'Alice', 'age': 25, 'ville': 'Paris'}\n"
     ]
    }
   ],
   "source": [
    "cles = [\"nom\", \"age\", \"ville\"]\n",
    "valeurs = [\"Alice\", 25, \"Paris\"]\n",
    "dictionnaire = dict(zip(cles, valeurs))\n",
    "print(dictionnaire)  "
   ]
  },
  {
   "cell_type": "markdown",
   "id": "c33b3871-364c-42a9-bc18-8d50a81eac5e",
   "metadata": {
    "editable": true,
    "slideshow": {
     "slide_type": "subslide"
    },
    "tags": []
   },
   "source": [
    "## Trier un dictionnaire \n",
    "\n",
    "**Par clé**"
   ]
  },
  {
   "cell_type": "code",
   "execution_count": 201,
   "id": "c7b9fd85-2e46-45e5-b0eb-9b3a6301e91c",
   "metadata": {
    "editable": true,
    "slideshow": {
     "slide_type": ""
    },
    "tags": []
   },
   "outputs": [
    {
     "name": "stdout",
     "output_type": "stream",
     "text": [
      "{'Alice': 50, 'Bob': 75, 'Charlie': 100}\n"
     ]
    }
   ],
   "source": [
    "scores = {\"Bob\": 75, \"Alice\": 50, \"Charlie\": 100}\n",
    "scores_tries = dict(sorted(scores.items()))\n",
    "print(scores_tries) "
   ]
  },
  {
   "cell_type": "markdown",
   "id": "6374a3d5-d891-4354-911d-468184f3ad72",
   "metadata": {
    "editable": true,
    "slideshow": {
     "slide_type": ""
    },
    "tags": []
   },
   "source": [
    "**Par valeur**"
   ]
  },
  {
   "cell_type": "code",
   "execution_count": 202,
   "id": "32c1a470-9bff-4b8b-a784-2342d283f156",
   "metadata": {
    "editable": true,
    "slideshow": {
     "slide_type": ""
    },
    "tags": []
   },
   "outputs": [
    {
     "name": "stdout",
     "output_type": "stream",
     "text": [
      "{'Alice': 50, 'Bob': 75, 'Charlie': 100}\n"
     ]
    }
   ],
   "source": [
    "scores = {\"Alice\": 50, \"Bob\": 75, \"Charlie\": 100}\n",
    "scores_tries = dict(sorted(scores.items(), key=lambda x: x[1]))\n",
    "print(scores_tries)"
   ]
  },
  {
   "cell_type": "markdown",
   "id": "ca89c7f7-262b-4f1e-a0bf-879bed414bdb",
   "metadata": {
    "editable": true,
    "slideshow": {
     "slide_type": "subslide"
    },
    "tags": []
   },
   "source": [
    "## Fusionner deux dictionnaires"
   ]
  },
  {
   "cell_type": "code",
   "execution_count": 203,
   "id": "a6dd9566-40b5-4f9a-856c-baaee8f89ac1",
   "metadata": {
    "editable": true,
    "slideshow": {
     "slide_type": ""
    },
    "tags": []
   },
   "outputs": [
    {
     "name": "stdout",
     "output_type": "stream",
     "text": [
      "{'nom': 'Alice', 'âge': 25, 'ville': 'Paris', 'profession': 'Ingénieure'}\n"
     ]
    }
   ],
   "source": [
    "dict1 = {\"nom\": \"Alice\", \"âge\": 25}\n",
    "dict2 = {\"ville\": \"Paris\", \"profession\": \"Ingénieure\"}\n",
    "fusion = {**dict1, **dict2}\n",
    "print(fusion)"
   ]
  },
  {
   "cell_type": "markdown",
   "id": "ab7a479b-cce1-4535-a608-23df0266ab38",
   "metadata": {
    "editable": true,
    "slideshow": {
     "slide_type": "subslide"
    },
    "tags": []
   },
   "source": [
    "## Pratique\n",
    "\n",
    "### Exercice 1 : Création et accès\n",
    "\n",
    "- Créez un dictionnaire contenant les informations suivantes :\n",
    "    - nom: \"Alice\"\n",
    "    - âge: 25\n",
    "    - ville: \"Paris\"\n",
    "- Affichez :\n",
    "    - La valeur associée à la clé \"nom\".\n",
    "    - La valeur associée à la clé \"âge\".\n",
    "- Ajoutez une nouvelle clé profession avec la valeur \"Ingénieure\"."
   ]
  },
  {
   "cell_type": "markdown",
   "id": "62e156be-b813-4e89-af6d-5a224c886cf5",
   "metadata": {
    "editable": true,
    "slideshow": {
     "slide_type": "subslide"
    },
    "tags": []
   },
   "source": [
    "### Exercice 2 : Modification et suppression\n",
    "\n",
    "- Modifiez l’âge de l’étudiante \"Alice\" à 30.\n",
    "- Supprimez la clé \"ville\".\n",
    "- Affichez le dictionnaire mis à jour."
   ]
  },
  {
   "cell_type": "markdown",
   "id": "0e4d761c-bbed-4a91-bf12-62813adaca8c",
   "metadata": {
    "editable": true,
    "slideshow": {
     "slide_type": "subslide"
    },
    "tags": []
   },
   "source": [
    "### Exercice 3 : Vérification d’existence\n",
    "\n",
    "- Créez un dictionnaire `inventaire = {\"pommes\": 10, \"bananes\": 20, \"oranges\": 15}`.\n",
    "- Vérifiez si les clés \"pommes\" et \"raisins\" existent dans le dictionnaire.\n",
    "- Ajoutez \"raisins\" avec une quantité de 5 uniquement si cette clé n’existe pas encore."
   ]
  },
  {
   "cell_type": "markdown",
   "id": "e6d45c94-dfc3-47a2-bf2a-e38ba2437094",
   "metadata": {
    "editable": true,
    "slideshow": {
     "slide_type": "subslide"
    },
    "tags": []
   },
   "source": [
    "### Exercice 4 : Parcourir un dictionnaire\n",
    "\n",
    "- Créez un dictionnaire contenant :\n",
    "    - math: 18\n",
    "    - anglais: 16\n",
    "    - informatique: 20\n",
    "- Parcourez le dictionnaire pour afficher :\n",
    "    - Chaque matière et sa note.\n",
    "    - La moyenne des notes."
   ]
  },
  {
   "cell_type": "markdown",
   "id": "20c68496-86ec-493c-b3d1-258a2a04fbff",
   "metadata": {
    "editable": true,
    "slideshow": {
     "slide_type": "subslide"
    },
    "tags": []
   },
   "source": [
    "### Exercice 5 : Compter les occurrences\n",
    "\n",
    "- Créez une chaîne de caractères : \"abracadabra\".\n",
    "- Comptez le nombre d’occurrences de chaque caractère dans la chaîne et stockez-les dans un dictionnaire.\n"
   ]
  },
  {
   "cell_type": "markdown",
   "id": "6066bab9-ea6a-4934-976f-da071d35e6ce",
   "metadata": {
    "editable": true,
    "slideshow": {
     "slide_type": "subslide"
    },
    "tags": []
   },
   "source": [
    "### Exercice 6 : Fusionner deux dictionnaires\n",
    "\n",
    "- Créez deux dictionnaires :\n",
    "    - `personne = {\"nom\": \"Alice\", \"âge\": 25}`\n",
    "    - `infos = {\"ville\": \"Paris\", \"profession\": \"Ingénieure\"}`\n",
    "- Fusionnez-les dans un nouveau dictionnaire."
   ]
  },
  {
   "cell_type": "markdown",
   "id": "17f34187-8517-467f-9fdc-47a38465b78b",
   "metadata": {
    "editable": true,
    "slideshow": {
     "slide_type": "subslide"
    },
    "tags": []
   },
   "source": [
    "### Exercice 7 : Trier un dictionnaire\n",
    "\n",
    "- Créez un dictionnaire contenant les notes suivantes : `{\"Alice\": 85, \"Bob\": 70, \"Charlie\": 90}`\n",
    "- Triez le dictionnaire :\n",
    "    - Par clé (ordre alphabétique).\n",
    "    - Par valeur (ordre croissant)."
   ]
  },
  {
   "cell_type": "markdown",
   "id": "925830af-af16-494d-aea8-72a8576c3ecd",
   "metadata": {
    "editable": true,
    "slideshow": {
     "slide_type": "slide"
    },
    "tags": []
   },
   "source": [
    "# Le set"
   ]
  },
  {
   "cell_type": "markdown",
   "id": "b9d4e4ae-f6ba-4c9f-93e3-278724977825",
   "metadata": {
    "editable": true,
    "slideshow": {
     "slide_type": "subslide"
    },
    "tags": []
   },
   "source": [
    "## Présentation\n",
    "\n",
    "- Un **set** est une collection **non ordonnée** et **sans doublons**.\n",
    "- Délimité par des accolades `{}` ou créé avec la fonction **`set()`**.\n",
    "- Utile pour effectuer des opérations mathématiques comme les **unions**, **intersections**, et **différences**.\n",
    "\n",
    "_Exemple_ :"
   ]
  },
  {
   "cell_type": "code",
   "execution_count": 204,
   "id": "ae095908-6d5c-45ee-8c4a-2635de99ee73",
   "metadata": {
    "editable": true,
    "slideshow": {
     "slide_type": ""
    },
    "tags": []
   },
   "outputs": [
    {
     "name": "stdout",
     "output_type": "stream",
     "text": [
      "{1, 2, 3, 4}\n",
      "<class 'set'>\n"
     ]
    }
   ],
   "source": [
    "mon_set = {1, 2, 3, 3, 4}\n",
    "print(mon_set)  # les doublons sont supprimés\n",
    "\n",
    "vide = set()  # Créer un set vide\n",
    "print(type(vide)) "
   ]
  },
  {
   "cell_type": "markdown",
   "id": "d1deced6-89bc-48fe-9ddd-b6b4b83b8579",
   "metadata": {
    "editable": true,
    "slideshow": {
     "slide_type": "subslide"
    },
    "tags": []
   },
   "source": [
    "## Caractéristiques\n",
    "\n",
    "- Non ordonnés : Les éléments ne sont pas stockés dans un ordre particulier.\n",
    "- Sans doublons : Chaque élément est unique.\n",
    "- Modifiables : Vous pouvez ajouter ou supprimer des éléments.\n",
    "- Incompatibles avec des types non hashables : les clés doivent être immuables (pas de listes ou dictionnaires dans un set)."
   ]
  },
  {
   "cell_type": "markdown",
   "id": "24c5f040-c77a-488e-83f5-be9dcda27f96",
   "metadata": {
    "editable": true,
    "slideshow": {
     "slide_type": "subslide"
    },
    "tags": []
   },
   "source": [
    "## Ajouter des éléments"
   ]
  },
  {
   "cell_type": "code",
   "execution_count": 205,
   "id": "7a08b0e4-a038-49b3-a635-a9b4dbf3ec4e",
   "metadata": {
    "editable": true,
    "slideshow": {
     "slide_type": ""
    },
    "tags": []
   },
   "outputs": [
    {
     "name": "stdout",
     "output_type": "stream",
     "text": [
      "{1, 2, 3, 4}\n"
     ]
    }
   ],
   "source": [
    "mon_set = {1, 2, 3}\n",
    "mon_set.add(4)\n",
    "print(mon_set) "
   ]
  },
  {
   "cell_type": "markdown",
   "id": "884b5efd-9848-4f65-bc86-41e5db59c18f",
   "metadata": {
    "editable": true,
    "slideshow": {
     "slide_type": "subslide"
    },
    "tags": []
   },
   "source": [
    "## Supprimer des éléments\n",
    "\n",
    "- **`remove(element)`** : Supprime un élément. Lève une erreur si l’élément n’existe pas.\n",
    "- **`discard(element)`** : Supprime un élément sans lever d’erreur.\n",
    "- **`pop()`** : Supprime un élément arbitraire (car le set est non ordonné).\n",
    "- **`clear()`** : Vide le set.\n"
   ]
  },
  {
   "cell_type": "code",
   "execution_count": 206,
   "id": "0d699ad5-a05e-4da9-8c20-e5172c8c278c",
   "metadata": {
    "editable": true,
    "slideshow": {
     "slide_type": ""
    },
    "tags": []
   },
   "outputs": [
    {
     "name": "stdout",
     "output_type": "stream",
     "text": [
      "{1, 3}\n"
     ]
    }
   ],
   "source": [
    "mon_set = {1, 2, 3}\n",
    "mon_set.remove(2)   # Supprime 2\n",
    "mon_set.discard(4)  # Ne fait rien (4 n'existe pas)\n",
    "print(mon_set)      "
   ]
  },
  {
   "cell_type": "markdown",
   "id": "8e717af2-8a61-43bf-a103-d38d51a0a5ac",
   "metadata": {
    "editable": true,
    "slideshow": {
     "slide_type": "subslide"
    },
    "tags": []
   },
   "source": [
    "## Opérations sur les ensembles\n",
    "\n",
    "### Union\n",
    "\n",
    "Combine les éléments de deux sets (**`|`** ou **`union()`**).\n"
   ]
  },
  {
   "cell_type": "code",
   "execution_count": 207,
   "id": "738fc2b3-c010-4d3c-9f69-9394d8db30f9",
   "metadata": {
    "editable": true,
    "slideshow": {
     "slide_type": ""
    },
    "tags": []
   },
   "outputs": [
    {
     "name": "stdout",
     "output_type": "stream",
     "text": [
      "{1, 2, 3, 4, 5}\n",
      "{1, 2, 3, 4, 5}\n"
     ]
    }
   ],
   "source": [
    "set1 = {1, 2, 3}\n",
    "set2 = {3, 4, 5}\n",
    "print(set1 | set2)          # {1, 2, 3, 4, 5}\n",
    "print(set1.union(set2))     # {1, 2, 3, 4, 5}"
   ]
  },
  {
   "cell_type": "markdown",
   "id": "cd34c61a-26ff-4b1f-ac51-9eb5cce9b475",
   "metadata": {
    "editable": true,
    "slideshow": {
     "slide_type": "subslide"
    },
    "tags": []
   },
   "source": [
    "### Intersection\n",
    "\n",
    "Trouve les éléments communs (& ou intersection()).\n"
   ]
  },
  {
   "cell_type": "code",
   "execution_count": 208,
   "id": "1b40c6a0-f785-430c-8216-517b86b30fbe",
   "metadata": {
    "editable": true,
    "slideshow": {
     "slide_type": ""
    },
    "tags": []
   },
   "outputs": [
    {
     "name": "stdout",
     "output_type": "stream",
     "text": [
      "{3}\n",
      "{3}\n"
     ]
    }
   ],
   "source": [
    "print(set1 & set2)          # {3}\n",
    "print(set1.intersection(set2))  # {3}"
   ]
  },
  {
   "cell_type": "markdown",
   "id": "fd7b88b5-b6e4-4697-8e04-d7244cd187dd",
   "metadata": {
    "editable": true,
    "slideshow": {
     "slide_type": "subslide"
    },
    "tags": []
   },
   "source": [
    "### Différence\n",
    "\n",
    "Trouve les éléments dans un set mais pas dans l’autre (- ou difference()).\n"
   ]
  },
  {
   "cell_type": "code",
   "execution_count": 209,
   "id": "5e32a62a-c01d-47ef-834b-3cbf3d33ccbc",
   "metadata": {
    "editable": true,
    "slideshow": {
     "slide_type": ""
    },
    "tags": []
   },
   "outputs": [
    {
     "name": "stdout",
     "output_type": "stream",
     "text": [
      "{1, 2}\n",
      "{1, 2}\n"
     ]
    }
   ],
   "source": [
    "print(set1 - set2)          \n",
    "print(set1.difference(set2)) "
   ]
  },
  {
   "cell_type": "markdown",
   "id": "0f8a3f0f-7150-46b7-8dc1-1202af9f1d4f",
   "metadata": {
    "editable": true,
    "slideshow": {
     "slide_type": "subslide"
    },
    "tags": []
   },
   "source": [
    "### Différence symétrique\n",
    "\n",
    "Trouve les éléments présents dans un seul des deux sets (^ ou symmetric_difference()).\n"
   ]
  },
  {
   "cell_type": "code",
   "execution_count": 210,
   "id": "e8861133-8e46-418d-b603-118081bb6d1d",
   "metadata": {
    "editable": true,
    "slideshow": {
     "slide_type": ""
    },
    "tags": []
   },
   "outputs": [
    {
     "name": "stdout",
     "output_type": "stream",
     "text": [
      "{1, 2, 4, 5}\n",
      "{1, 2, 4, 5}\n"
     ]
    }
   ],
   "source": [
    "print(set1 ^ set2)                 \n",
    "print(set1.symmetric_difference(set2))  "
   ]
  },
  {
   "cell_type": "markdown",
   "id": "6a9bcfe2-6bf8-44c4-bc66-178640eaa244",
   "metadata": {
    "editable": true,
    "slideshow": {
     "slide_type": "subslide"
    },
    "tags": []
   },
   "source": [
    "## Applications pratiques \n",
    "\n",
    "### Suppression des doublons\n"
   ]
  },
  {
   "cell_type": "code",
   "execution_count": 211,
   "id": "23bbb36b-b3fd-4c8d-a3b2-f9ea142f75a9",
   "metadata": {
    "editable": true,
    "slideshow": {
     "slide_type": ""
    },
    "tags": []
   },
   "outputs": [
    {
     "name": "stdout",
     "output_type": "stream",
     "text": [
      "{1, 2, 3, 4}\n"
     ]
    }
   ],
   "source": [
    "liste = [1, 2, 3, 1, 2, 4]\n",
    "unique = set(liste)\n",
    "print(unique)  "
   ]
  },
  {
   "cell_type": "markdown",
   "id": "5eb51b07-5dc7-411c-9e68-639e1b4c02b7",
   "metadata": {
    "editable": true,
    "slideshow": {
     "slide_type": "subslide"
    },
    "tags": []
   },
   "source": [
    "### Union, intersection et différence\n"
   ]
  },
  {
   "cell_type": "code",
   "execution_count": 212,
   "id": "8e9c85f8-8015-4f31-ac18-570bb8d7ea28",
   "metadata": {
    "editable": true,
    "slideshow": {
     "slide_type": ""
    },
    "tags": []
   },
   "outputs": [
    {
     "name": "stdout",
     "output_type": "stream",
     "text": [
      "Inscrits à au moins une matière : {'Alice', 'Bob', 'David', 'Charlie'}\n",
      "Inscrits aux deux matières : {'Alice', 'Charlie'}\n",
      "Inscrits uniquement en maths : {'Bob'}\n"
     ]
    }
   ],
   "source": [
    "maths = {\"Alice\", \"Bob\", \"Charlie\"}\n",
    "informatique = {\"Alice\", \"David\", \"Charlie\"}\n",
    "\n",
    "print(\"Inscrits à au moins une matière :\", maths | informatique)  \n",
    "\n",
    "print(\"Inscrits aux deux matières :\", maths & informatique) \n",
    "\n",
    "print(\"Inscrits uniquement en maths :\", maths - informatique)"
   ]
  },
  {
   "cell_type": "markdown",
   "id": "8255e4ff-8fde-4a67-9d73-b69504f824ec",
   "metadata": {
    "editable": true,
    "slideshow": {
     "slide_type": "subslide"
    },
    "tags": []
   },
   "source": [
    "## Pratique\n",
    "\n",
    "### Exercice 1 : Création et ajout\n",
    "\n",
    "- Créez un set contenant les éléments suivants : 1, 2, 3.\n",
    "- Ajoutez les éléments 4 et 5 au set.\n",
    "- Affichez le set mis à jour."
   ]
  },
  {
   "cell_type": "markdown",
   "id": "4eab4fd6-ed62-4acb-9652-e5ffdc5bd67f",
   "metadata": {
    "editable": true,
    "slideshow": {
     "slide_type": "subslide"
    },
    "tags": []
   },
   "source": [
    "### Exercice 2 : Suppression d’éléments\n",
    "\n",
    "- Créez un set contenant les éléments suivants : 10, 20, 30, 40.\n",
    "- Supprimez l’élément 20 en utilisant remove().\n",
    "- Essayez de supprimer l’élément 50 avec discard().\n",
    "- Affichez le set après chaque opération."
   ]
  },
  {
   "cell_type": "markdown",
   "id": "76a1da6f-e40c-48c4-b5f3-604db4502627",
   "metadata": {
    "editable": true,
    "slideshow": {
     "slide_type": "subslide"
    },
    "tags": []
   },
   "source": [
    "### Exercice 3 : Suppression des doublons dans une liste\n",
    "\n",
    "- Créez une liste contenant les éléments suivants : `[1, 2, 2, 3, 4, 4, 5]`.\n",
    "- Transformez cette liste en un set pour supprimer les doublons.\n",
    "- Convertissez à nouveau le set en liste."
   ]
  },
  {
   "cell_type": "markdown",
   "id": "2a0e0a60-1d78-4b55-a1c0-b9f786113617",
   "metadata": {
    "editable": true,
    "slideshow": {
     "slide_type": "subslide"
    },
    "tags": []
   },
   "source": [
    "### Exercice 4 : Vérification d’appartenance\n",
    "\n",
    "- Créez un set contenant : `{\"Alice\", \"Bob\", \"Charlie\"}`.\n",
    "- Vérifiez si \"Alice\" et \"David\" sont dans le set."
   ]
  },
  {
   "cell_type": "markdown",
   "id": "3f294e96-5750-4721-8bf5-b7ee4fd77195",
   "metadata": {
    "editable": true,
    "slideshow": {
     "slide_type": "subslide"
    },
    "tags": []
   },
   "source": [
    "### Exercice 5 : Opérations ensemblistes\n",
    "\n",
    "- Créez deux sets :\n",
    "    - `set1 = {1, 2, 3, 4}`\n",
    "    - `set2 = {3, 4, 5, 6}`\n",
    "- Effectuez et affichez les résultats des opérations suivantes :\n",
    "    - Union.\n",
    "    - Intersection.\n",
    "    - Différence (set1 - set2).\n",
    "    - Différence symétrique.\n"
   ]
  },
  {
   "cell_type": "markdown",
   "id": "6e2fb567-7aa9-401f-90de-23cfda47be0e",
   "metadata": {
    "editable": true,
    "slideshow": {
     "slide_type": "subslide"
    },
    "tags": []
   },
   "source": [
    "### Exercice 6 : Opérations sur des mots\n",
    "\n",
    "- Créez deux sets :\n",
    "    - `vowels = {\"a\", \"e\", \"i\", \"o\", \"u\"}`\n",
    "    - `letters_in_word = set(\"abracadabra\")`\n",
    "- Affichez :\n",
    "    - Les voyelles présentes dans le mot (intersection).\n",
    "    - Les voyelles absentes dans le mot (difference).\n"
   ]
  },
  {
   "cell_type": "markdown",
   "id": "72afc543-88c1-43a0-903e-511e4e1f2028",
   "metadata": {
    "editable": true,
    "slideshow": {
     "slide_type": "subslide"
    },
    "tags": []
   },
   "source": [
    "### Exercice 7 : Suppression des doublons et tri\n",
    "\n",
    "- Créez une liste contenant les éléments suivants : `[4, 1, 3, 2, 3, 4, 5]`.\n",
    "- Transformez la liste en set pour supprimer les doublons.\n",
    "- Affichez les éléments triés."
   ]
  },
  {
   "cell_type": "markdown",
   "id": "c4988d7d-7a34-4122-9407-a0115d6dc58e",
   "metadata": {
    "editable": true,
    "slideshow": {
     "slide_type": "slide"
    },
    "tags": []
   },
   "source": [
    "# Structures conditionnelles et boucles"
   ]
  },
  {
   "cell_type": "markdown",
   "id": "9244d64a-ed6c-45c1-b6bb-a854e921049c",
   "metadata": {
    "editable": true,
    "slideshow": {
     "slide_type": "subslide"
    },
    "tags": []
   },
   "source": [
    "## Les Structures Conditionnelles\n",
    "\n",
    "- permettent d’exécuter du code en fonction d’une **condition**.\n",
    "- Syntaxe de base :\n",
    "\n",
    "```python\n",
    "  if condition:\n",
    "      bloc_de_code\n",
    "```\n",
    "\n",
    "- `if` : Vérifie une condition.\n",
    "- `elif` (facultatif) : Vérifie d'autres conditions si la précédente est fausse.\n",
    "- `else` (facultatif) : S'exécute si aucune des conditions précédentes n'est vraie"
   ]
  },
  {
   "cell_type": "markdown",
   "id": "003eb6d3-a6c6-46c5-95c4-b4a496dc2b30",
   "metadata": {
    "editable": true,
    "slideshow": {
     "slide_type": "subslide"
    },
    "tags": []
   },
   "source": [
    "*Exemple* : \n",
    "\n",
    "```python\n",
    "age = 18\n",
    "if age < 18:\n",
    "    print(\"Mineur\")\n",
    "elif age == 18:\n",
    "    print(\"Juste majeur\")\n",
    "else:\n",
    "    print(\"Majeur\")\n",
    "```"
   ]
  },
  {
   "cell_type": "markdown",
   "id": "d865b907-d583-4461-96fa-47715ac37ff7",
   "metadata": {
    "editable": true,
    "slideshow": {
     "slide_type": "subslide"
    },
    "tags": []
   },
   "source": [
    "Possible de créer des conditions imbriquées\n",
    "\n",
    "```python\n",
    "note = 15\n",
    "if note >= 10:\n",
    "    if note >= 16:\n",
    "        print(\"Excellent\")\n",
    "    else:\n",
    "        print(\"Bien\")\n",
    "else:\n",
    "    print(\"Insuffisant\")\n",
    "```"
   ]
  },
  {
   "cell_type": "markdown",
   "id": "c5d005ce-2e4b-4d52-98b5-046dceabcf16",
   "metadata": {
    "editable": true,
    "slideshow": {
     "slide_type": "subslide"
    },
    "tags": []
   },
   "source": [
    "**Opérateurs relationnels**\n",
    "\n",
    "- **`>`** : Plus grand\n",
    "- **`<`** : Plus petit\n",
    "- **`>=`** : Plus grand ou égal\n",
    "- **`<=`** : Plus petit ou égal\n",
    "- **`==`** : Égalité\n",
    "- **`!=`** : Différent\n",
    "\n",
    "**Opérateurs logiques**\n",
    "\n",
    "- **`and`** : Toutes les conditions doivent être vraies.\n",
    "- **`or`** : Une seule condition doit être vraie.\n",
    "- **`not`** : Inverse la condition."
   ]
  },
  {
   "cell_type": "markdown",
   "id": "41638022-6c64-410e-b57d-e67c55569aca",
   "metadata": {
    "editable": true,
    "slideshow": {
     "slide_type": "subslide"
    },
    "tags": []
   },
   "source": [
    "*Exemple avec les opérateurs*\n",
    "\n",
    "```python\n",
    "age = 20\n",
    "if age > 18 and age < 25:\n",
    "    print(\"Jeune adulte\")\n",
    "if age < 18 or age > 65:\n",
    "    print(\"En dehors de la tranche active\")\n",
    "if not (age < 18):\n",
    "    print(\"Âge adulte\")\n",
    "```"
   ]
  },
  {
   "cell_type": "markdown",
   "id": "0f860c4b-1f69-48c4-be42-e734313fb3cb",
   "metadata": {
    "editable": true,
    "slideshow": {
     "slide_type": "subslide"
    },
    "tags": []
   },
   "source": [
    "## La boucle `while`\n",
    "\n",
    "Répète un bloc de code tant qu’une **condition** est vraie.\n",
    "\n",
    "\n",
    "```python\n",
    "while condition:\n",
    "    bloc_de_code\n",
    "```\n",
    "\n",
    "*Exemple*"
   ]
  },
  {
   "cell_type": "code",
   "execution_count": 213,
   "id": "ac68b43c-4eba-4f0f-b94e-bc47953cd0a3",
   "metadata": {
    "editable": true,
    "slideshow": {
     "slide_type": ""
    },
    "tags": []
   },
   "outputs": [
    {
     "name": "stdout",
     "output_type": "stream",
     "text": [
      "5\n",
      "4\n",
      "3\n",
      "2\n",
      "1\n"
     ]
    }
   ],
   "source": [
    "n = 5\n",
    "while n > 0:\n",
    "    print(n)\n",
    "    n -= 1"
   ]
  },
  {
   "cell_type": "markdown",
   "id": "aad57f1e-da9e-4593-a909-300360431695",
   "metadata": {
    "editable": true,
    "slideshow": {
     "slide_type": "subslide"
    },
    "tags": []
   },
   "source": [
    "## La boucle for\n",
    "\n",
    "Itère sur les éléments d’une collection (liste, tuple, chaîne, etc.).\n",
    "\n",
    "```python\n",
    "for element in iterable:\n",
    "    bloc_de_code\n",
    "```\n",
    "\n",
    "*Exemple* :"
   ]
  },
  {
   "cell_type": "code",
   "execution_count": 214,
   "id": "baecd71e-ff44-430c-888a-65e00c4c487a",
   "metadata": {
    "editable": true,
    "slideshow": {
     "slide_type": ""
    },
    "tags": []
   },
   "outputs": [
    {
     "name": "stdout",
     "output_type": "stream",
     "text": [
      "1\n",
      "2\n",
      "3\n"
     ]
    }
   ],
   "source": [
    "nombres = [1, 2, 3]\n",
    "for nombre in nombres:\n",
    "    print(nombre)"
   ]
  },
  {
   "cell_type": "markdown",
   "id": "044ace78-c58f-43f8-8d41-e561cf5af11e",
   "metadata": {
    "editable": true,
    "slideshow": {
     "slide_type": "subslide"
    },
    "tags": []
   },
   "source": [
    "## L’instruction `break`\n",
    "\n",
    "Interrompt une boucle immédiatement."
   ]
  },
  {
   "cell_type": "code",
   "execution_count": 215,
   "id": "591eb489-48a5-475e-a5dd-9b59ddad543a",
   "metadata": {
    "editable": true,
    "slideshow": {
     "slide_type": ""
    },
    "tags": []
   },
   "outputs": [
    {
     "name": "stdout",
     "output_type": "stream",
     "text": [
      "0\n",
      "1\n",
      "2\n",
      "3\n",
      "4\n"
     ]
    }
   ],
   "source": [
    "for nombre in range(10):\n",
    "    if nombre == 5:\n",
    "        break\n",
    "    print(nombre)"
   ]
  },
  {
   "cell_type": "markdown",
   "id": "268d4b68-d46c-4e8d-bea9-72fe82fa4d4a",
   "metadata": {
    "editable": true,
    "slideshow": {
     "slide_type": "subslide"
    },
    "tags": []
   },
   "source": [
    "## L’instruction continue\n",
    "\n",
    "Passe directement à l’itération suivante."
   ]
  },
  {
   "cell_type": "code",
   "execution_count": 216,
   "id": "f0865410-d76c-4cea-b3c0-0bdc109ee75d",
   "metadata": {
    "editable": true,
    "slideshow": {
     "slide_type": ""
    },
    "tags": []
   },
   "outputs": [
    {
     "name": "stdout",
     "output_type": "stream",
     "text": [
      "0\n",
      "1\n",
      "2\n",
      "4\n"
     ]
    }
   ],
   "source": [
    "for nombre in range(5):\n",
    "    if nombre == 3:\n",
    "        continue\n",
    "    print(nombre)"
   ]
  },
  {
   "cell_type": "markdown",
   "id": "5ed8707d-f623-42d6-a906-2451e22d4109",
   "metadata": {
    "editable": true,
    "slideshow": {
     "slide_type": "subslide"
    },
    "tags": []
   },
   "source": [
    "## Les Boucles Imbriquées\n",
    "\n",
    "*Exemple : Table de multiplication*"
   ]
  },
  {
   "cell_type": "code",
   "execution_count": 217,
   "id": "95f74dd6-8026-4cb5-9eb4-1684fb65176a",
   "metadata": {
    "editable": true,
    "slideshow": {
     "slide_type": ""
    },
    "tags": []
   },
   "outputs": [
    {
     "name": "stdout",
     "output_type": "stream",
     "text": [
      "1 x 1 = 1\n",
      "1 x 2 = 2\n",
      "1 x 3 = 3\n",
      "--- fin de la table 1 ---\n",
      "2 x 1 = 2\n",
      "2 x 2 = 4\n",
      "2 x 3 = 6\n",
      "--- fin de la table 2 ---\n",
      "3 x 1 = 3\n",
      "3 x 2 = 6\n",
      "3 x 3 = 9\n",
      "--- fin de la table 3 ---\n"
     ]
    }
   ],
   "source": [
    "for i in range(1, 4):\n",
    "    for j in range(1, 4):\n",
    "        print(f\"{i} x {j} = {i * j}\")\n",
    "    print(f\"--- fin de la table {i} ---\")"
   ]
  },
  {
   "cell_type": "markdown",
   "id": "eb218127-f4dd-4808-a25b-180c2a49fa99",
   "metadata": {
    "editable": true,
    "slideshow": {
     "slide_type": "subslide"
    },
    "tags": []
   },
   "source": [
    "## Pratique\n",
    "\n",
    "### Exercice 1\n",
    "\n",
    "Compter le nombre de voyelles dans la chaîne \"abracadabra\""
   ]
  },
  {
   "cell_type": "markdown",
   "id": "2f9c735e-40dd-4dfe-bc1f-193299415ee7",
   "metadata": {
    "editable": true,
    "slideshow": {
     "slide_type": "subslide"
    },
    "tags": []
   },
   "source": [
    "### Exercice 2\n",
    "\n",
    "Calculer la somme cumulé des nombres de 1 à 5"
   ]
  },
  {
   "cell_type": "markdown",
   "id": "d8dc872a-8390-4c2c-8391-b069459a90e2",
   "metadata": {
    "editable": true,
    "slideshow": {
     "slide_type": "subslide"
    },
    "tags": []
   },
   "source": [
    "### Exercice 3\n",
    "\n",
    "- Demandez à l’utilisateur d’entrer un mot de passe.\n",
    "- Affichez un message :\n",
    "  - Si la longueur est inférieure à 8 caractères, indiquez que le mot de passe est trop court.\n",
    "  - Sinon, indiquez qu’il est valide."
   ]
  },
  {
   "cell_type": "markdown",
   "id": "66bb6ea8-c41b-42f8-ad31-4f03e1a6ee16",
   "metadata": {
    "editable": true,
    "slideshow": {
     "slide_type": "subslide"
    },
    "tags": []
   },
   "source": [
    "### Exercice 4\n",
    "\n",
    "- Demandez à l’utilisateur d’entrer un nombre entier.\n",
    "- Affichez si le nombre est pair ou impair."
   ]
  },
  {
   "cell_type": "markdown",
   "id": "c856e4b9-aca2-4191-8b98-66881293770a",
   "metadata": {
    "editable": true,
    "slideshow": {
     "slide_type": "subslide"
    },
    "tags": []
   },
   "source": [
    "### Exercice 5\n",
    "\n",
    "- Demandez à l’utilisateur d’entrer trois nombres : a, b, et c.\n",
    "- Utilisez des conditions pour afficher le plus grand des trois."
   ]
  },
  {
   "cell_type": "markdown",
   "id": "f4adaecb-eaba-4452-9abe-bd423322f614",
   "metadata": {
    "editable": true,
    "slideshow": {
     "slide_type": "subslide"
    },
    "tags": []
   },
   "source": [
    "### Exercice 6\n",
    "\n",
    "- Demandez à l’utilisateur d’entrer un nombre.\n",
    "- Affichez la table de multiplication de ce nombre jusqu’à 10."
   ]
  },
  {
   "cell_type": "markdown",
   "id": "156854ce-79aa-4758-b430-aa78aa0466e7",
   "metadata": {
    "editable": true,
    "slideshow": {
     "slide_type": "slide"
    },
    "tags": []
   },
   "source": [
    "# Les list-comprehension"
   ]
  },
  {
   "cell_type": "markdown",
   "id": "d28beeab-be8a-47c3-b3d2-5b216894b584",
   "metadata": {
    "editable": true,
    "slideshow": {
     "slide_type": "subslide"
    },
    "tags": []
   },
   "source": [
    "## Fonctionnement \n",
    "\n",
    "permet de créer ou transformer une liste en une seule ligne de code\n",
    "\n",
    "```python\n",
    "[expression for élément in iterable]\n",
    "```\n",
    "Création d'une nouvelle liste en appliquant une expression à chaque élément d'un itérable (liste, range, etc.)."
   ]
  },
  {
   "cell_type": "code",
   "execution_count": 218,
   "id": "ffd2285d-bf8b-4669-bbcb-5aa4194dcc1b",
   "metadata": {
    "editable": true,
    "slideshow": {
     "slide_type": ""
    },
    "tags": []
   },
   "outputs": [
    {
     "name": "stdout",
     "output_type": "stream",
     "text": [
      "[1, 4, 9, 16]\n"
     ]
    }
   ],
   "source": [
    "nombres = [1, 2, 3, 4]\n",
    "carrés = [x**2 for x in nombres]\n",
    "print(carrés)"
   ]
  },
  {
   "cell_type": "markdown",
   "id": "7ca99bd8-c78b-4ad1-93d7-aa3900a9fab0",
   "metadata": {
    "editable": true,
    "slideshow": {
     "slide_type": "subslide"
    },
    "tags": []
   },
   "source": [
    "**Ajout de condition(s)**\n",
    "\n",
    "On peut filtrer les éléments avec une condition `if`"
   ]
  },
  {
   "cell_type": "code",
   "execution_count": 219,
   "id": "904fc719-b25b-405e-a7e3-87652c6117a7",
   "metadata": {
    "editable": true,
    "slideshow": {
     "slide_type": ""
    },
    "tags": []
   },
   "outputs": [
    {
     "name": "stdout",
     "output_type": "stream",
     "text": [
      "[0, 2, 4, 6, 8]\n"
     ]
    }
   ],
   "source": [
    "nombres = range(10)\n",
    "pairs = [x for x in nombres if x % 2 == 0]\n",
    "print(pairs)"
   ]
  },
  {
   "cell_type": "markdown",
   "id": "29eb202d-e9fe-4da4-b314-e0f169f0dcca",
   "metadata": {
    "editable": true,
    "slideshow": {
     "slide_type": "subslide"
    },
    "tags": []
   },
   "source": [
    "**Condition ternaire dans l'expression**"
   ]
  },
  {
   "cell_type": "code",
   "execution_count": 220,
   "id": "b1a8c448-f46d-4539-a6c7-a0912a0219bf",
   "metadata": {
    "editable": true,
    "slideshow": {
     "slide_type": ""
    },
    "tags": []
   },
   "outputs": [
    {
     "name": "stdout",
     "output_type": "stream",
     "text": [
      "[0, 0, 4, 0, 8]\n"
     ]
    }
   ],
   "source": [
    "nombres = range(5)\n",
    "double_ou_rien = [x*2 if x % 2 == 0 else 0 for x in nombres]\n",
    "print(double_ou_rien)"
   ]
  },
  {
   "cell_type": "markdown",
   "id": "b15956c2-3367-42c8-ba27-579815dcb4a6",
   "metadata": {
    "editable": true,
    "slideshow": {
     "slide_type": "subslide"
    },
    "tags": []
   },
   "source": [
    "## Les set-comprehension"
   ]
  },
  {
   "cell_type": "code",
   "execution_count": 221,
   "id": "7b76f0ed-3696-42f6-a747-6e97fe3d8cb8",
   "metadata": {
    "editable": true,
    "slideshow": {
     "slide_type": ""
    },
    "tags": []
   },
   "outputs": [
    {
     "name": "stdout",
     "output_type": "stream",
     "text": [
      "{16, 1, 4, 9}\n"
     ]
    }
   ],
   "source": [
    "nombres = [1, 2, 2, 3, 3, 4]\n",
    "unique = {x**2 for x in nombres}\n",
    "print(unique)"
   ]
  },
  {
   "cell_type": "markdown",
   "id": "11e42375-0161-4242-8712-5c45a883b0c8",
   "metadata": {
    "editable": true,
    "slideshow": {
     "slide_type": "subslide"
    },
    "tags": []
   },
   "source": [
    "## Les dict-comprehension"
   ]
  },
  {
   "cell_type": "code",
   "execution_count": 222,
   "id": "0e5ec910-617a-4fdd-a3ef-9c331cea1645",
   "metadata": {
    "editable": true,
    "slideshow": {
     "slide_type": ""
    },
    "tags": []
   },
   "outputs": [
    {
     "name": "stdout",
     "output_type": "stream",
     "text": [
      "{'Alice': 5, 'Bob': 3, 'Charlie': 7}\n"
     ]
    }
   ],
   "source": [
    "noms = [\"Alice\", \"Bob\", \"Charlie\"]\n",
    "longueurs = {nom: len(nom) for nom in noms}\n",
    "print(longueurs)"
   ]
  },
  {
   "cell_type": "markdown",
   "id": "fa596dab-88f1-4aa6-bd80-05639003b47a",
   "metadata": {
    "editable": true,
    "slideshow": {
     "slide_type": "subslide"
    },
    "tags": []
   },
   "source": [
    "**Exemple d'application** : transformation de données"
   ]
  },
  {
   "cell_type": "code",
   "execution_count": 223,
   "id": "6b929164-136e-453f-830d-0f56b52bf2f2",
   "metadata": {
    "editable": true,
    "slideshow": {
     "slide_type": ""
    },
    "tags": []
   },
   "outputs": [
    {
     "name": "stdout",
     "output_type": "stream",
     "text": [
      "[32.0, 50.0, 68.0, 86.0]\n"
     ]
    }
   ],
   "source": [
    "temperatures = [0, 10, 20, 30]\n",
    "en_fahrenheit = [t * 9/5 + 32 for t in temperatures]\n",
    "print(en_fahrenheit)"
   ]
  },
  {
   "cell_type": "markdown",
   "id": "2aa8176a-2429-4584-b3f9-276624b6ecc8",
   "metadata": {
    "editable": true,
    "slideshow": {
     "slide_type": "subslide"
    },
    "tags": []
   },
   "source": [
    "## Pratique \n",
    "\n",
    "### Exercice 1\n",
    "\n",
    "Créer la liste des nombres pairs au carré"
   ]
  },
  {
   "cell_type": "markdown",
   "id": "467d5407-b1c3-4ff4-9e75-7739562a6198",
   "metadata": {
    "editable": true,
    "slideshow": {
     "slide_type": "subslide"
    },
    "tags": []
   },
   "source": [
    "### Exemple 2\n",
    "\n",
    "Écrivez une list comprehension pour extraire les voyelles d’une chaîne."
   ]
  },
  {
   "cell_type": "markdown",
   "id": "240d79f4-cc8d-4823-b820-93e1387d6814",
   "metadata": {
    "editable": true,
    "slideshow": {
     "slide_type": "subslide"
    },
    "tags": []
   },
   "source": [
    "### Exemple 3\n",
    "\n",
    "Créez un dictionnaire où les clés sont des nombres de 1 à 5, et les valeurs sont leurs cubes."
   ]
  },
  {
   "cell_type": "markdown",
   "id": "1bd7655a-e4a5-4de8-b505-2eacc20a4609",
   "metadata": {
    "editable": true,
    "slideshow": {
     "slide_type": "subslide"
    },
    "tags": []
   },
   "source": [
    "### Exemple 4\n",
    "\n",
    "Écrivez une list comprehension pour extraire les mots d’une liste qui contiennent plus de 5 lettres."
   ]
  },
  {
   "cell_type": "markdown",
   "id": "a72a4ff6-0cea-4bc9-a3d4-c17e3b8c84b3",
   "metadata": {
    "editable": true,
    "slideshow": {
     "slide_type": "slide"
    },
    "tags": []
   },
   "source": [
    "# Les fonctions"
   ]
  },
  {
   "cell_type": "markdown",
   "id": "afa528a9-6b7a-4f9d-817a-3645126c2971",
   "metadata": {
    "editable": true,
    "slideshow": {
     "slide_type": "subslide"
    },
    "tags": []
   },
   "source": [
    "- Une **fonction** est un bloc de code qui effectue une tâche spécifique.\n",
    "- Les fonctions permettent :\n",
    "  - De **réutiliser** du code.\n",
    "  - De rendre le code plus **lisible** et **structuré**.\n",
    "  - D’éviter les **répétitions**.\n",
    "\n",
    "*Exemple* : \n",
    "\n",
    "```python\n",
    "def nom_de_fonction(parametres):\n",
    "    bloc_de_code\n",
    "```"
   ]
  },
  {
   "cell_type": "code",
   "execution_count": 224,
   "id": "9f2f471c-7219-4738-849e-50f01976de33",
   "metadata": {
    "editable": true,
    "slideshow": {
     "slide_type": ""
    },
    "tags": []
   },
   "outputs": [
    {
     "name": "stdout",
     "output_type": "stream",
     "text": [
      "Bonjour, Python !\n"
     ]
    }
   ],
   "source": [
    "def saluer():\n",
    "    print(\"Bonjour, Python !\")\n",
    "\n",
    "saluer()"
   ]
  },
  {
   "cell_type": "markdown",
   "id": "9a00e471-ff8c-4f33-8b80-894f2e0475c2",
   "metadata": {
    "editable": true,
    "slideshow": {
     "slide_type": "subslide"
    },
    "tags": []
   },
   "source": [
    "## Paramètres\n",
    "\n",
    "Une fonction peut prendre des **paramètres** pour recevoir des données en entrée."
   ]
  },
  {
   "cell_type": "code",
   "execution_count": 225,
   "id": "a2b046b1-93e7-4378-a23a-cfd9d9d9fb53",
   "metadata": {
    "slideshow": {
     "slide_type": ""
    },
    "tags": []
   },
   "outputs": [
    {
     "name": "stdout",
     "output_type": "stream",
     "text": [
      "Bonjour, Alice !\n"
     ]
    }
   ],
   "source": [
    "def saluer(nom):\n",
    "    print(f\"Bonjour, {nom} !\")\n",
    "\n",
    "saluer(\"Alice\")"
   ]
  },
  {
   "cell_type": "markdown",
   "id": "5bdbf557-f2e8-41b0-a4f3-f0512668ccb8",
   "metadata": {
    "editable": true,
    "slideshow": {
     "slide_type": "subslide"
    },
    "tags": []
   },
   "source": [
    "Les paramètres peuvent avoir **une valeur par défaut**\n",
    "\n",
    "- si l'argument n'est pas fourni lors de l'appel, utilisation du paramètre par défaut\n",
    "- si l'argument est fourni, utilisation de la valeur fournie"
   ]
  },
  {
   "cell_type": "code",
   "execution_count": 226,
   "id": "89243e4e-2878-446b-ab7a-457f30424269",
   "metadata": {
    "editable": true,
    "slideshow": {
     "slide_type": ""
    },
    "tags": []
   },
   "outputs": [
    {
     "name": "stdout",
     "output_type": "stream",
     "text": [
      "Bonjour, utilisateur !\n",
      "Bonjour, Charlie !\n"
     ]
    }
   ],
   "source": [
    "def saluer(nom=\"utilisateur\"):\n",
    "    print(f\"Bonjour, {nom} !\")\n",
    "\n",
    "saluer() \n",
    "saluer(\"Charlie\")"
   ]
  },
  {
   "cell_type": "markdown",
   "id": "9f60586d-9b90-42c7-b56c-7062d461dcfb",
   "metadata": {
    "editable": true,
    "slideshow": {
     "slide_type": "subslide"
    },
    "tags": []
   },
   "source": [
    "Une fonction peut avoir **plusieurs paramètres**"
   ]
  },
  {
   "cell_type": "code",
   "execution_count": 227,
   "id": "44e3c702-5edd-4138-a1f7-cace47ccbde6",
   "metadata": {
    "editable": true,
    "slideshow": {
     "slide_type": ""
    },
    "tags": []
   },
   "outputs": [
    {
     "name": "stdout",
     "output_type": "stream",
     "text": [
      "7\n"
     ]
    }
   ],
   "source": [
    "def addition(a, b):\n",
    "    return a + b\n",
    "\n",
    "print(addition(3, 4)) "
   ]
  },
  {
   "cell_type": "markdown",
   "id": "42e8f8e1-29a7-4bcc-96e2-445096931e10",
   "metadata": {
    "editable": true,
    "slideshow": {
     "slide_type": "subslide"
    },
    "tags": []
   },
   "source": [
    "## Valeur de retour\n",
    "\n",
    "Une fonction peut **renvoyer une valeur** avec `return`"
   ]
  },
  {
   "cell_type": "code",
   "execution_count": 228,
   "id": "0e5a07b6-86c2-4e19-91fa-7079799ac3a8",
   "metadata": {
    "editable": true,
    "slideshow": {
     "slide_type": ""
    },
    "tags": []
   },
   "outputs": [
    {
     "name": "stdout",
     "output_type": "stream",
     "text": [
      "25\n"
     ]
    }
   ],
   "source": [
    "def carre(x):\n",
    "    return x**2\n",
    "\n",
    "resultat = carre(5)\n",
    "print(resultat) "
   ]
  },
  {
   "cell_type": "markdown",
   "id": "a20d62be-b0f3-4579-8fa0-dbb64182c260",
   "metadata": {
    "editable": true,
    "slideshow": {
     "slide_type": "subslide"
    },
    "tags": []
   },
   "source": [
    "**Plusieurs valeurs de retour**, sous forme de tuple"
   ]
  },
  {
   "cell_type": "code",
   "execution_count": 229,
   "id": "17c98494-f736-4231-9ced-1ddba110a6ec",
   "metadata": {
    "editable": true,
    "slideshow": {
     "slide_type": ""
    },
    "tags": []
   },
   "outputs": [
    {
     "name": "stdout",
     "output_type": "stream",
     "text": [
      "somme : 8\n",
      "Différence: 2\n",
      "produit: 15\n"
     ]
    }
   ],
   "source": [
    "def operations(a, b):\n",
    "    return a + b, a - b, a * b\n",
    "\n",
    "somme, diff, produit = operations(5, 3)\n",
    "print(f\"somme : {somme}\", f\"Différence: {diff}\", \n",
    "      f\"produit: {produit}\", sep=\"\\n\")"
   ]
  },
  {
   "cell_type": "markdown",
   "id": "59ca66bb-d814-4272-94c9-eff3233dc973",
   "metadata": {
    "editable": true,
    "slideshow": {
     "slide_type": "subslide"
    },
    "tags": []
   },
   "source": [
    "## Variables locales vs globales\n",
    "\n",
    "Les variables définies dans une fonction sont **locales** : elles ne sont accessibles qu'à l'intérieur de cette fonction."
   ]
  },
  {
   "cell_type": "code",
   "execution_count": 230,
   "id": "6c761428-e62c-4d57-a5de-b8f6c270b187",
   "metadata": {
    "editable": true,
    "slideshow": {
     "slide_type": ""
    },
    "tags": []
   },
   "outputs": [
    {
     "name": "stdout",
     "output_type": "stream",
     "text": [
      "10\n",
      "0.14285714285714285714285714285714285714285714285714\n"
     ]
    }
   ],
   "source": [
    "def ma_fonction():\n",
    "    x = 10  # Locale\n",
    "    print(x)\n",
    "\n",
    "ma_fonction()\n",
    "print(x)"
   ]
  },
  {
   "cell_type": "markdown",
   "id": "ff00641d-ad67-4ea1-b802-acf6e9f99ddc",
   "metadata": {
    "editable": true,
    "slideshow": {
     "slide_type": "subslide"
    },
    "tags": []
   },
   "source": [
    "Une variable définie en dehors d’une fonction est **globale**, elle peut être utilisée dans une fonction :"
   ]
  },
  {
   "cell_type": "code",
   "execution_count": 231,
   "id": "81bf5be4-4e72-4964-87ec-17dd9693720e",
   "metadata": {
    "editable": true,
    "slideshow": {
     "slide_type": ""
    },
    "tags": []
   },
   "outputs": [
    {
     "name": "stdout",
     "output_type": "stream",
     "text": [
      "5\n"
     ]
    }
   ],
   "source": [
    "x = 5 \n",
    "def ma_fonction():\n",
    "    print(x)\n",
    "\n",
    "ma_fonction()"
   ]
  },
  {
   "cell_type": "markdown",
   "id": "0d6c2fe6-7cdd-4076-86d8-64271125ac3e",
   "metadata": {
    "editable": true,
    "slideshow": {
     "slide_type": "subslide"
    },
    "tags": []
   },
   "source": [
    "Utilisation du **mot clé `global`** pour modifier la valeur d'une variable globale dans une fonction"
   ]
  },
  {
   "cell_type": "code",
   "execution_count": 232,
   "id": "377bb666-ff69-4d00-81da-6ddb3efca77a",
   "metadata": {
    "editable": true,
    "slideshow": {
     "slide_type": ""
    },
    "tags": []
   },
   "outputs": [
    {
     "name": "stdout",
     "output_type": "stream",
     "text": [
      "15\n"
     ]
    }
   ],
   "source": [
    "x = 5\n",
    "def ma_fonction():\n",
    "    global x\n",
    "    x += 10\n",
    "    print(x)\n",
    "\n",
    "ma_fonction()"
   ]
  },
  {
   "cell_type": "markdown",
   "id": "72720f9d-39fa-4c47-8631-0e7419a3a6a8",
   "metadata": {
    "editable": true,
    "slideshow": {
     "slide_type": "subslide"
    },
    "tags": []
   },
   "source": [
    "## Les fonctions `lambda`\n",
    "\n",
    "- Une **fonction lambda** est une fonction **anonyme** :\n",
    "  - Définie en une seule ligne.\n",
    "  - Souvent utilisée pour des opérations simples.\n",
    "\n",
    "*Syntaxe* :\n",
    "\n",
    "```python\n",
    "lambda paramètres : expression\n",
    "```"
   ]
  },
  {
   "cell_type": "code",
   "execution_count": 233,
   "id": "ad072591-ba6f-4367-be81-724136af3a02",
   "metadata": {
    "editable": true,
    "slideshow": {
     "slide_type": ""
    },
    "tags": []
   },
   "outputs": [
    {
     "name": "stdout",
     "output_type": "stream",
     "text": [
      "16\n"
     ]
    }
   ],
   "source": [
    "carre = lambda x: x**2\n",
    "print(carre(4))"
   ]
  },
  {
   "cell_type": "markdown",
   "id": "b996efe3-882b-4472-937f-8c76379d2529",
   "metadata": {
    "editable": true,
    "slideshow": {
     "slide_type": "subslide"
    },
    "tags": []
   },
   "source": [
    "Utilisation des fonctions *`lambda`* dans d'autres fonctions\n",
    "\n",
    "Les lambdas sont souvent utilisées comme arguments pour des fonctions comme `sorted`.\n",
    "\n",
    "*Exemple avec `sorted`* :  \n",
    "On trie la liste en fonction de la longueur des noms"
   ]
  },
  {
   "cell_type": "code",
   "execution_count": 234,
   "id": "b0a3652e-e400-4832-a916-6e61da05f3e7",
   "metadata": {
    "editable": true,
    "slideshow": {
     "slide_type": ""
    },
    "tags": []
   },
   "outputs": [
    {
     "name": "stdout",
     "output_type": "stream",
     "text": [
      "['Bob', 'Alice', 'Charlie']\n"
     ]
    }
   ],
   "source": [
    "noms = [\"Alice\", \"Charlie\", \"Bob\"]\n",
    "triés = sorted(noms, key=lambda nom: len(nom))\n",
    "print(triés)"
   ]
  },
  {
   "cell_type": "markdown",
   "id": "bca97f10-a77c-4312-995c-6379309658ed",
   "metadata": {
    "editable": true,
    "slideshow": {
     "slide_type": "subslide"
    },
    "tags": []
   },
   "source": [
    "## Pratique\n",
    "\n",
    "### Exercice 1\n",
    "\n",
    "Ecrire la fonction `moyenne` qui prend une liste de notes en paramètre et renvoie la moyenne."
   ]
  },
  {
   "cell_type": "markdown",
   "id": "64720958-473b-4833-b5ef-23234e8fe6c0",
   "metadata": {
    "editable": true,
    "slideshow": {
     "slide_type": "subslide"
    },
    "tags": []
   },
   "source": [
    "### Exercice 2\n",
    "\n",
    "Ecrire une fonction `is_palindrome` qui prend un mot en paramètre et renvoie vrai si ce mot est un palindrome et faux sinon.\n",
    "\n",
    "*Remarque* :  un palindrome est un mot qui se lit dans les deux sens, comme \"radar\"."
   ]
  },
  {
   "cell_type": "markdown",
   "id": "1638c0ea-b8bf-4ae4-a98a-90f832e82afd",
   "metadata": {
    "editable": true,
    "slideshow": {
     "slide_type": "subslide"
    },
    "tags": []
   },
   "source": [
    "### Exercice 3\n",
    "\n",
    "Ecrire une fonction `table_multiplication` qui prend un nombre en paramètre et affiche la table de ce nombre."
   ]
  },
  {
   "cell_type": "markdown",
   "id": "63502899-ed3d-4d7d-b9c7-cda878fe475c",
   "metadata": {
    "editable": true,
    "slideshow": {
     "slide_type": "subslide"
    },
    "tags": []
   },
   "source": [
    "###  Exercice 4\n",
    "\n",
    "- Écrivez une fonction analyse_nombre qui prend un entier en argument.\n",
    "- La fonction retourne trois informations sous forme de tuple :\n",
    "  - Si le nombre est pair ou impair.\n",
    "  - Le carré du nombre.\n",
    "  - Sa racine carrée."
   ]
  },
  {
   "cell_type": "markdown",
   "id": "a00e3c8b-059a-4397-adfb-4f0efae86441",
   "metadata": {
    "editable": true,
    "slideshow": {
     "slide_type": "subslide"
    },
    "tags": []
   },
   "source": [
    "### Exercice 5\n",
    "\n",
    "- Écrivez une fonction generer_dictionnaire qui prend un entier $n$ en paramètre.\n",
    "- La fonction retourne un dictionnaire où :\n",
    "  - Les clés sont les nombres de 1 à $n$\n",
    "  - Les valeurs sont leurs carrés."
   ]
  },
  {
   "cell_type": "markdown",
   "id": "a1d6d48d-452a-4850-8b7c-49dea8ec5a4f",
   "metadata": {
    "editable": true,
    "slideshow": {
     "slide_type": "subslide"
    },
    "tags": []
   },
   "source": [
    "### Exercice 6\n",
    "\n",
    "- Créez une fonction lambda pour calculer le cube d’un nombre.\n",
    "- Utilisez cette fonction lambda avec map pour calculer les cubes des nombres de 1 à 5."
   ]
  },
  {
   "cell_type": "code",
   "execution_count": 235,
   "id": "1849d1a1-2fcd-48c1-a72f-56d5251ed039",
   "metadata": {
    "editable": true,
    "slideshow": {
     "slide_type": ""
    },
    "tags": []
   },
   "outputs": [
    {
     "data": {
      "text/plain": [
       "\u001b[0;31mInit signature:\u001b[0m \u001b[0mmap\u001b[0m\u001b[0;34m(\u001b[0m\u001b[0mself\u001b[0m\u001b[0;34m,\u001b[0m \u001b[0;34m/\u001b[0m\u001b[0;34m,\u001b[0m \u001b[0;34m*\u001b[0m\u001b[0margs\u001b[0m\u001b[0;34m,\u001b[0m \u001b[0;34m**\u001b[0m\u001b[0mkwargs\u001b[0m\u001b[0;34m)\u001b[0m\u001b[0;34m\u001b[0m\u001b[0;34m\u001b[0m\u001b[0m\n",
       "\u001b[0;31mDocstring:\u001b[0m     \n",
       "map(func, *iterables) --> map object\n",
       "\n",
       "Make an iterator that computes the function using arguments from\n",
       "each of the iterables.  Stops when the shortest iterable is exhausted.\n",
       "\u001b[0;31mType:\u001b[0m           type\n",
       "\u001b[0;31mSubclasses:\u001b[0m     \n"
      ]
     },
     "metadata": {},
     "output_type": "display_data"
    }
   ],
   "source": [
    "?map"
   ]
  },
  {
   "cell_type": "markdown",
   "id": "5395a3f4-b6db-450e-8253-e4a319d820d7",
   "metadata": {
    "editable": true,
    "slideshow": {
     "slide_type": "slide"
    },
    "tags": []
   },
   "source": [
    "# Les modules"
   ]
  },
  {
   "cell_type": "markdown",
   "id": "0462e767-e340-46b0-b890-581b36cda90c",
   "metadata": {
    "editable": true,
    "slideshow": {
     "slide_type": "subslide"
    },
    "tags": []
   },
   "source": [
    "## Présentation\n",
    "\n",
    "Un **module** est un fichier Python contenant du code réutilisable :\n",
    "  - **Fonctions**.\n",
    "  - **Variables**.\n",
    "  - **Classes**.\n",
    "\n",
    "Utiliser des modules permet de :\n",
    "  - Structurer le code.\n",
    "  - Réutiliser des fonctionnalités.\n",
    "  - Accéder à des bibliothèques avancées."
   ]
  },
  {
   "cell_type": "markdown",
   "id": "61fbd43c-c94a-4f0b-815d-7668790d1cbc",
   "metadata": {
    "editable": true,
    "slideshow": {
     "slide_type": "subslide"
    },
    "tags": []
   },
   "source": [
    "## 2. Importer un module\n",
    "\n",
    "Utilise **`import`** pour charger un module dans un programme."
   ]
  },
  {
   "cell_type": "code",
   "execution_count": 237,
   "id": "5e76c9ea-5fff-416a-941a-5afe3b733ebe",
   "metadata": {
    "editable": true,
    "slideshow": {
     "slide_type": ""
    },
    "tags": []
   },
   "outputs": [
    {
     "name": "stdout",
     "output_type": "stream",
     "text": [
      "4.0\n"
     ]
    }
   ],
   "source": [
    "import math\n",
    "print(math.sqrt(16))"
   ]
  },
  {
   "cell_type": "markdown",
   "id": "367a1649-7685-4940-9a72-d8665e44d233",
   "metadata": {
    "editable": true,
    "slideshow": {
     "slide_type": "subslide"
    },
    "tags": []
   },
   "source": [
    "## Modules utiles de Python\n",
    "\n",
    "- **`math`** : Fonctions mathématiques avancées.\n",
    "- **`random`** : Génération de nombres aléatoires.\n",
    "- **`datetime`** : Manipulation de dates et d'heures.\n",
    "- **`os`** : Interactions avec le système d'exploitation."
   ]
  },
  {
   "cell_type": "markdown",
   "id": "c922e7d1-985e-4ff7-98c1-7a308bcd1fc0",
   "metadata": {
    "editable": true,
    "slideshow": {
     "slide_type": ""
    },
    "tags": []
   },
   "source": [
    "### Module math"
   ]
  },
  {
   "cell_type": "code",
   "execution_count": 245,
   "id": "15c70140-c18c-4f34-9a08-7ec476e4c698",
   "metadata": {
    "editable": true,
    "slideshow": {
     "slide_type": ""
    },
    "tags": []
   },
   "outputs": [
    {
     "name": "stdout",
     "output_type": "stream",
     "text": [
      "3.141592653589793\n",
      "120\n"
     ]
    }
   ],
   "source": [
    "print(math.pi)\n",
    "print(math.factorial(5))  #  !5 "
   ]
  },
  {
   "cell_type": "markdown",
   "id": "bf899315-c36a-4042-8c36-427d130172bd",
   "metadata": {
    "editable": true,
    "slideshow": {
     "slide_type": "subslide"
    },
    "tags": []
   },
   "source": [
    "### Module random"
   ]
  },
  {
   "cell_type": "code",
   "execution_count": 249,
   "id": "359ef7ce-10d9-430b-930e-98a82d255e49",
   "metadata": {
    "editable": true,
    "slideshow": {
     "slide_type": ""
    },
    "tags": []
   },
   "outputs": [
    {
     "name": "stdout",
     "output_type": "stream",
     "text": [
      "0.7744082826597258\n",
      "88\n",
      "b\n",
      "[86, 77, 22, 78, 13]\n"
     ]
    }
   ],
   "source": [
    "import random\n",
    "\n",
    "print(random.random())  \n",
    "# génère un nombre aléatoire entre 0 et 1 (exclu)\n",
    "\n",
    "print(random.randint(1, 100))  \n",
    "# génére un nombre entier aléatoire entre 1 et 100 (inclu)\n",
    "\n",
    "print(random.choice([\"a\", \"b\", \"c\"]))  \n",
    "# sélectionne aléatoirement un élément de la liste\n",
    "\n",
    "print(random.sample(range(100), 5))  \n",
    "# sélectionne k éléments dans la liste"
   ]
  },
  {
   "cell_type": "markdown",
   "id": "135100e1-b856-4a76-a200-351fbebaff4f",
   "metadata": {
    "editable": true,
    "slideshow": {
     "slide_type": "subslide"
    },
    "tags": []
   },
   "source": [
    "### Module os\n",
    "\n",
    "- Le module **`os`** permet d’interagir avec le système d’exploitation.\n",
    "- Il offre des fonctionnalités pour :\n",
    "  - Gérer les fichiers et dossiers.\n",
    "  - Accéder aux variables d’environnement.\n",
    "  - Exécuter des commandes système."
   ]
  },
  {
   "cell_type": "markdown",
   "id": "be3048fc-b657-473e-845b-f660c02a0c50",
   "metadata": {
    "editable": true,
    "slideshow": {
     "slide_type": "subslide"
    },
    "tags": []
   },
   "source": [
    "### Module datetime"
   ]
  },
  {
   "cell_type": "code",
   "execution_count": 248,
   "id": "70c39e3b-3909-428b-a739-5eaa3604a646",
   "metadata": {
    "editable": true,
    "slideshow": {
     "slide_type": ""
    },
    "tags": []
   },
   "outputs": [
    {
     "name": "stdout",
     "output_type": "stream",
     "text": [
      "2024-12-08 18:47:53.282871\n"
     ]
    }
   ],
   "source": [
    "from datetime import datetime\n",
    "\n",
    "print(datetime.now())"
   ]
  },
  {
   "cell_type": "markdown",
   "id": "145fd1c4-881d-4516-b890-99def24d6de4",
   "metadata": {
    "editable": true,
    "slideshow": {
     "slide_type": "subslide"
    },
    "tags": []
   },
   "source": [
    "## Écrire un module\n",
    "\n",
    "Un module est simplement un fichier Python :\n",
    "\n",
    "  ```python\n",
    "  # fichier : mon_module.py\n",
    "  def saluer(nom):\n",
    "      print(f\"Bonjour, {nom} !\")\n",
    "```"
   ]
  },
  {
   "cell_type": "markdown",
   "id": "4ee8c03a-fdf3-4025-b4be-ff43c76bcdc8",
   "metadata": {
    "editable": true,
    "slideshow": {
     "slide_type": ""
    },
    "tags": []
   },
   "source": [
    "**Importer le module depuis un autre fichier python**\n",
    "\n",
    "```python\n",
    "# fichier principal\n",
    "import mon_module\n",
    "\n",
    "mon_module.saluer(\"Alice\")\n",
    "```"
   ]
  },
  {
   "cell_type": "markdown",
   "id": "72aef58d-c45a-4861-b440-66d0757bd08f",
   "metadata": {
    "editable": true,
    "slideshow": {
     "slide_type": "subslide"
    },
    "tags": []
   },
   "source": [
    "**Importer le module avec un alias**\n",
    "\n",
    "```python\n",
    "import mon_module as mm\n",
    "\n",
    "mm.saluer(\"Alice\")\n",
    "```"
   ]
  },
  {
   "cell_type": "markdown",
   "id": "bf511d5b-9406-439f-8fae-612115a57343",
   "metadata": {
    "editable": true,
    "slideshow": {
     "slide_type": "subslide"
    },
    "tags": []
   },
   "source": [
    "## `if __name__ == \"__main__\"`\n",
    "\n",
    "Un fichier/script peut avoir deux comportements :\n",
    "\n",
    "  - **Exécution directe** : Lorsqu'il est exécuté en tant que programme principal.\n",
    "  - **Importation** : Lorsqu'il est importé dans un autre fichier.\n",
    "\n",
    "`if __name__ == \"__main__\"` permet de contrôler l’exécution d’un script lorsqu’il est **importé comme module**.\n",
    "\n",
    "**`__name__`** est une variable spéciale en Python :\n",
    "\n",
    "  - Si le fichier est exécuté directement, **`__name__ = \"__main__\"`**.\n",
    "  - Si le fichier est importé comme module, **`__name__` contient le nom du module**."
   ]
  },
  {
   "cell_type": "markdown",
   "id": "0d028326-0c7b-4ff8-aab6-db7c75f40aee",
   "metadata": {
    "editable": true,
    "slideshow": {
     "slide_type": "subslide"
    },
    "tags": []
   },
   "source": [
    "*Exemple* :\n",
    "```python\n",
    "# fichier : mon_module.py\n",
    "\n",
    "def saluer():\n",
    "    print(\"Bonjour, Python !\")\n",
    "\n",
    "if __name__ == \"__main__\":\n",
    "    saluer()\n",
    "\n",
    "```"
   ]
  },
  {
   "cell_type": "markdown",
   "id": "44e96a20-5f00-4f0b-a341-39a9d2cb15ff",
   "metadata": {
    "editable": true,
    "slideshow": {
     "slide_type": "subslide"
    },
    "tags": []
   },
   "source": [
    "**Exécution directe**\n",
    "\n",
    "```bash\n",
    "python mon_module.py\n",
    "\n",
    "# Bonjour, Python !\n",
    "```\n",
    "\n",
    "**Execution indirecte**\n",
    "```python\n",
    "import mon_module\n",
    "\n",
    "# Rien ne se passe, la fonction saluer est chargé en mémoire mais non appelée\n",
    "```"
   ]
  },
  {
   "cell_type": "markdown",
   "id": "ec62f522-bed7-4302-ad56-913314c5c06c",
   "metadata": {
    "editable": true,
    "slideshow": {
     "slide_type": "subslide"
    },
    "tags": []
   },
   "source": [
    "## Pratique : programme table_multiplication.py\n",
    "\n",
    "**Étape 1** : Choisir une table  \n",
    "Le programme demande à l'utilisateur quelle table de multiplication il souhaite réviser.\n",
    "\n",
    "**Étape 2** : Poser les questions  \n",
    "Le programme sélectionne un nombre au hasard entre 0 et 10 sans remise.  \n",
    "Il demande à l'utilisateur le résultat du produit entre ce nombre et celui de la table choisie.\n",
    "\n",
    "**Scénarios** :\n",
    "\n",
    "- Si le résultat est correct : Le programme sélectionne un autre nombre non encore utilisé et pose une nouvelle question.\n",
    "- Si le résultat est incorrect : Le programme affiche : \"Essaie encore, ce n'est pas le bon résultat\".\n",
    "\n",
    "**Étape 3** : Révision terminée  \n",
    "Lorsque tous les nombres de 0 à 10 ont été utilisés, la révision de la table est terminée.\n",
    "\n",
    "**Étape 4** : Rejouer ou quitter  \n",
    "Le programme demande à l'utilisateur s'il souhaite :\n",
    "- Réviser une autre table.\n",
    "- Quitter."
   ]
  },
  {
   "cell_type": "markdown",
   "id": "e95c0f05-702c-4ae5-a004-ec90ae5af083",
   "metadata": {
    "editable": true,
    "slideshow": {
     "slide_type": "slide"
    },
    "tags": []
   },
   "source": [
    "# Manipulation de fichiers"
   ]
  },
  {
   "cell_type": "markdown",
   "id": "be4c4d47-c2a9-4f4f-a078-e7e57d6ba115",
   "metadata": {
    "editable": true,
    "slideshow": {
     "slide_type": "subslide"
    },
    "tags": []
   },
   "source": [
    "## Ouverture\n",
    "\n",
    "Fonction `open()`.  \n",
    "3 modes d'ouverture : `r` (lecture), `w` (écriture) et `a` (ajout).\n",
    "\n",
    "*Syntaxe* :\n",
    "\n",
    "```python\n",
    "with open(chemin, mode):\n",
    "    lecture ou ecriture\n",
    "```"
   ]
  },
  {
   "cell_type": "markdown",
   "id": "1658d89c-0378-4049-b642-018b219a8d45",
   "metadata": {
    "editable": true,
    "slideshow": {
     "slide_type": "subslide"
    },
    "tags": []
   },
   "source": [
    "## Lecture\n",
    "\n",
    "### Tout le contenu\n",
    "\n",
    "```python\n",
    "with open(\"exemple.txt\", \"r\") as fichier:\n",
    "    contenu = fichier.read()\n",
    "    print(contenu)\n",
    "```\n",
    "\n",
    "### Ligne par ligne\n",
    "\n",
    "```python\n",
    "with open(\"exemple.txt\", \"r\") as fichier:\n",
    "    for ligne in fichier:\n",
    "        print(ligne.strip())\n",
    "```"
   ]
  },
  {
   "cell_type": "markdown",
   "id": "1f9e515d-0d72-4937-91b6-9c3dd0aded96",
   "metadata": {
    "editable": true,
    "slideshow": {
     "slide_type": "subslide"
    },
    "tags": []
   },
   "source": [
    "## Ecriture\n",
    "\n",
    "*Exemple* : \n",
    "\n",
    "```python\n",
    "with open(\"exemple.txt\", \"w\") as fichier:\n",
    "    fichier.write(\"Bonjour, Python !\")\n",
    "    fichier.write(\"\\nC'est génial.\")\n",
    "```\n",
    "\n",
    "`with` garantit la fermeture automatique du fichier "
   ]
  },
  {
   "cell_type": "markdown",
   "id": "c2484b07-ec38-4e21-a965-bc88f61635e7",
   "metadata": {
    "editable": true,
    "slideshow": {
     "slide_type": "subslide"
    },
    "tags": []
   },
   "source": [
    "## Le format csv\n",
    "\n",
    "- **CSV** : Comma-Separated Values.\n",
    "- Format simple pour représenter des tableaux (lignes et colonnes).\n",
    "\n",
    "###  Lire un fichier CSV\n",
    "\n",
    "```python\n",
    "import csv\n",
    "with open(\"data.csv\", \"r\") as fichier:\n",
    "    lecteur = csv.reader(fichier)\n",
    "    for ligne in lecteur:\n",
    "        print(ligne)\n",
    "```\n",
    "\n",
    "### Ecrire dans un fichier csv\n",
    "\n",
    "```python\n",
    "import csv\n",
    "with open(\"data.csv\", \"w\", newline=\"\") as fichier:\n",
    "    ecrivain = csv.writer(fichier)\n",
    "    ecrivain.writerow([\"Nom\", \"Âge\", \"Ville\"])\n",
    "    ecrivain.writerow([\"Alice\", 25, \"Paris\"])\n",
    "```"
   ]
  },
  {
   "cell_type": "markdown",
   "id": "151599e0-eed5-4d9b-b788-d0e61a0f1cd5",
   "metadata": {
    "editable": true,
    "slideshow": {
     "slide_type": "subslide"
    },
    "tags": []
   },
   "source": [
    "## Le format JSON\n",
    "\n",
    "- **JSON** : JavaScript Object Notation.\n",
    "- Format texte utilisé pour échanger des données.\n",
    "- Représente des structures complexes (dictionnaires, listes, etc.).\n",
    "\n",
    "### Écrire un objet dans un fichier JSON\n",
    "\n",
    "```python\n",
    "import json\n",
    "\n",
    "data = {\"nom\": \"Alice\", \"age\": 25, \"ville\": \"Paris\"}\n",
    "with open(\"data.json\", \"w\") as fichier:\n",
    "    json.dump(data, fichier)\n",
    "```\n",
    "\n",
    "### Lire un fichier json\n",
    "\n",
    "```python\n",
    "import json\n",
    "\n",
    "with open(\"data.json\", \"r\") as fichier:\n",
    "    data = json.load(fichier)\n",
    "print(data)\n",
    "```"
   ]
  },
  {
   "cell_type": "markdown",
   "id": "ea5859fa-57c9-419d-b707-6273d53640e4",
   "metadata": {
    "editable": true,
    "slideshow": {
     "slide_type": "subslide"
    },
    "tags": []
   },
   "source": [
    "## Gestion des erreurs fichier\n",
    "\n",
    "Vérifiez l’existence et l’accès aux fichiers avec **`try-except`** :\n",
    "\n",
    "  ```python\n",
    "  try:\n",
    "      with open(\"fichier_inexistant.txt\", \"r\") as fichier:\n",
    "          contenu = fichier.read()\n",
    "  except FileNotFoundError:\n",
    "      print(\"Erreur : Le fichier est introuvable.\")\n",
    "```"
   ]
  },
  {
   "cell_type": "markdown",
   "id": "83f74651-0d7e-4069-a459-6c64c92ee844",
   "metadata": {
    "editable": true,
    "slideshow": {
     "slide_type": "subslide"
    },
    "tags": []
   },
   "source": [
    "## Pratique\n",
    "\n",
    "### Exercice 1\n",
    "\n",
    "Créer un fichier texte qui contient les lignes suivantes\n",
    "\n",
    "> Python est génial.  \n",
    "> Apprendre Python est amusant.  \n",
    "> Les fichiers texte sont utiles.  \n",
    "> Python facilite la gestion des fichiers.\n"
   ]
  },
  {
   "cell_type": "markdown",
   "id": "f9d6b68e-a5a6-4428-8572-677f834e79a0",
   "metadata": {
    "editable": true,
    "slideshow": {
     "slide_type": "subslide"
    },
    "tags": []
   },
   "source": [
    "### Exercice 2\n",
    "\n",
    "- Créer un fichier csv contenant les lignes suivantes\n",
    "\n",
    "```\n",
    "Nom,Mathématiques,Physique,Chimie\n",
    "Alice,15,14,13\n",
    "Bob,10,12,9\n",
    "Charlie,18,17,19\n",
    "```\n",
    "\n",
    "- Lire le fichier etudiants.csv.\n",
    "- Calculer la moyenne des notes pour chaque étudiant.\n",
    "- Écrire les résultats dans un nouveau fichier resultats.csv avec les colonnes : nom, moyenne\n"
   ]
  },
  {
   "cell_type": "markdown",
   "id": "36c2819d-1cc2-4a81-b3e1-32a66d48e643",
   "metadata": {
    "editable": true,
    "slideshow": {
     "slide_type": "subslide"
    },
    "tags": []
   },
   "source": [
    "### Exercice 3\n",
    "\n",
    "Créez un fichier JSON produits.json avec le contenu suivant :\n",
    "\n",
    "```\n",
    "[\n",
    "    {\"nom\": \"Produit A\", \"prix\": 25.0},\n",
    "    {\"nom\": \"Produit B\", \"prix\": 15.5},\n",
    "    {\"nom\": \"Produit C\", \"prix\": 40.0},\n",
    "    {\"nom\": \"Produit D\", \"prix\": 30.0}\n",
    "]\n",
    "\n",
    "```\n",
    "\n",
    "- Ecrire un programme qui :\n",
    "  - Demande à l’utilisateur un prix minimum.\n",
    "  - Lit le fichier produits.json.\n",
    "  - Filtre les produits ayant un prix supérieur ou égal à ce prix."
   ]
  },
  {
   "cell_type": "markdown",
   "id": "78459308-f5ad-4549-9de3-95d67e5bcb79",
   "metadata": {
    "editable": true,
    "slideshow": {
     "slide_type": "slide"
    },
    "tags": []
   },
   "source": [
    "# Les exceptions"
   ]
  },
  {
   "cell_type": "markdown",
   "id": "189730ff-47e2-49cd-b5aa-1cce49be1c9e",
   "metadata": {
    "editable": true,
    "slideshow": {
     "slide_type": "subslide"
    },
    "tags": []
   },
   "source": [
    "## Présentation \n",
    "\n",
    "- Une **exception** est un événement anormal qui interrompt le flux normal du programme.\n",
    "- Survient lorsque le programme rencontre une situation imprévue (erreur d'entrée, division par zéro, fichier introuvable, etc.).\n",
    "\n",
    "*Exemple* :"
   ]
  },
  {
   "cell_type": "code",
   "execution_count": 256,
   "id": "d9c9041f-eb3d-4d36-b88f-ecd1ebd58ca9",
   "metadata": {
    "editable": true,
    "slideshow": {
     "slide_type": ""
    },
    "tags": []
   },
   "outputs": [
    {
     "ename": "ZeroDivisionError",
     "evalue": "division by zero",
     "output_type": "error",
     "traceback": [
      "\u001b[0;31m---------------------------------------------------------------------------\u001b[0m",
      "\u001b[0;31mZeroDivisionError\u001b[0m                         Traceback (most recent call last)",
      "Input \u001b[0;32mIn [256]\u001b[0m, in \u001b[0;36m<cell line: 1>\u001b[0;34m()\u001b[0m\n\u001b[0;32m----> 1\u001b[0m \u001b[38;5;28mprint\u001b[39m(\u001b[38;5;241;43m10\u001b[39;49m\u001b[38;5;241;43m/\u001b[39;49m\u001b[38;5;241;43m0\u001b[39;49m)\n",
      "\u001b[0;31mZeroDivisionError\u001b[0m: division by zero"
     ]
    }
   ],
   "source": [
    "print(10/0)"
   ]
  },
  {
   "cell_type": "markdown",
   "id": "fc5deb3d-dbb9-47a0-8ebf-258fd9f9ecd5",
   "metadata": {
    "editable": true,
    "slideshow": {
     "slide_type": ""
    },
    "tags": []
   },
   "source": [
    "Sans gestion d’exception, le programme s’arrête brutalement."
   ]
  },
  {
   "cell_type": "markdown",
   "id": "e3d2f4d5-3bcb-427f-9eb9-40932202ee82",
   "metadata": {
    "editable": true,
    "slideshow": {
     "slide_type": "subslide"
    },
    "tags": []
   },
   "source": [
    "## Gérer les Exceptions avec `try-except`\n",
    "\n",
    "*Syntaxe* : \n",
    "\n",
    "```python\n",
    "try:\n",
    "    # Code susceptible de générer une exception\n",
    "except ErreurType:\n",
    "    # Code exécuté si cette ErreurType est levée\n",
    "```"
   ]
  },
  {
   "cell_type": "code",
   "execution_count": 257,
   "id": "f39330cf-34af-4794-858f-2d7c85cc1ea0",
   "metadata": {
    "editable": true,
    "slideshow": {
     "slide_type": ""
    },
    "tags": []
   },
   "outputs": [
    {
     "name": "stdout",
     "output_type": "stream",
     "text": [
      "Erreur : division par zéro.\n"
     ]
    }
   ],
   "source": [
    "try:\n",
    "    resultat = 10 / 0\n",
    "except ZeroDivisionError:\n",
    "    print(\"Erreur : division par zéro.\")"
   ]
  },
  {
   "cell_type": "markdown",
   "id": "51aee2f3-63f7-42ba-85e1-cb14c3b1ec04",
   "metadata": {
    "editable": true,
    "slideshow": {
     "slide_type": ""
    },
    "tags": []
   },
   "source": [
    "Le programme ne s’arrête pas, il affiche un message d'erreur géré."
   ]
  },
  {
   "cell_type": "markdown",
   "id": "4be77410-cfaf-4b75-897d-1a66a890853e",
   "metadata": {
    "editable": true,
    "slideshow": {
     "slide_type": "subslide"
    },
    "tags": []
   },
   "source": [
    "## Gérer Plusieurs Types d’Exceptions"
   ]
  },
  {
   "cell_type": "code",
   "execution_count": 262,
   "id": "8baad55e-0235-426a-8cf8-0eb504abba2d",
   "metadata": {
    "editable": true,
    "slideshow": {
     "slide_type": ""
    },
    "tags": []
   },
   "outputs": [
    {
     "name": "stdout",
     "output_type": "stream",
     "text": [
      "'coucou' n'est pas un nombre valide.\n"
     ]
    }
   ],
   "source": [
    "x = \"coucou\"\n",
    "try:\n",
    "    x = int(x)\n",
    "    print(10 / x)\n",
    "except ValueError:\n",
    "    print(f\"'{x}' n'est pas un nombre valide.\")\n",
    "except ZeroDivisionError:\n",
    "    print(\"Division par zéro interdite.\")"
   ]
  },
  {
   "cell_type": "markdown",
   "id": "99f04016-ec1c-4be4-9a2e-c2bf15381b19",
   "metadata": {
    "editable": true,
    "slideshow": {
     "slide_type": ""
    },
    "tags": []
   },
   "source": [
    "Le bon bloc except est exécuté selon l'exception rencontrée : \n",
    "\n",
    "- ValueError si valeur saisie est une chaîne de caractères par exemple\n",
    "- ZeroDivisionError si la valeur saisie est un entier, car tentative de division par zéro."
   ]
  },
  {
   "cell_type": "markdown",
   "id": "cb056ab6-3033-4ee1-b81f-feb37ac906a8",
   "metadata": {
    "editable": true,
    "slideshow": {
     "slide_type": "subslide"
    },
    "tags": []
   },
   "source": [
    "## Bloc `else`\n",
    "\n",
    "S’exécute si **aucune exception** n’est levée dans le bloc `try`."
   ]
  },
  {
   "cell_type": "code",
   "execution_count": 263,
   "id": "63427d8d-6c66-4155-9c1a-e0ab921d6401",
   "metadata": {
    "editable": true,
    "slideshow": {
     "slide_type": ""
    },
    "tags": []
   },
   "outputs": [
    {
     "name": "stdout",
     "output_type": "stream",
     "text": [
      "Fichier introuvable.\n"
     ]
    }
   ],
   "source": [
    "try:\n",
    "    fichier = open(\"exemple.txt\", \"r\")\n",
    "except FileNotFoundError:\n",
    "    print(\"Fichier introuvable.\")\n",
    "else:\n",
    "    contenu = fichier.read()\n",
    "    fichier.close()\n",
    "    print(contenu)"
   ]
  },
  {
   "cell_type": "markdown",
   "id": "c38b167c-efa3-481e-8546-fdf080b18a5d",
   "metadata": {
    "editable": true,
    "slideshow": {
     "slide_type": "subslide"
    },
    "tags": []
   },
   "source": [
    "## Bloc finally\n",
    "\n",
    "S’exécute toujours, qu’il y ait une exception ou non."
   ]
  },
  {
   "cell_type": "code",
   "execution_count": 264,
   "id": "6590243e-55b0-46bb-86bc-e99981fafa30",
   "metadata": {
    "editable": true,
    "slideshow": {
     "slide_type": ""
    },
    "tags": []
   },
   "outputs": [
    {
     "name": "stdout",
     "output_type": "stream",
     "text": [
      "Fichier introuvable.\n",
      "Bloc finally exécuté, fermeture du fichier si nécessaire.\n"
     ]
    }
   ],
   "source": [
    "try:\n",
    "    fichier = open(\"exemple.txt\", \"r\")\n",
    "except FileNotFoundError:\n",
    "    print(\"Fichier introuvable.\")\n",
    "finally:\n",
    "    print(\"Bloc finally exécuté, fermeture du fichier si nécessaire.\")"
   ]
  },
  {
   "cell_type": "markdown",
   "id": "cf701893-ab76-4308-9b79-b6f131112d2e",
   "metadata": {
    "editable": true,
    "slideshow": {
     "slide_type": "subslide"
    },
    "tags": []
   },
   "source": [
    "## Lever une exception avec `raise`\n",
    "\n",
    "Pour signaler un problème délibérément."
   ]
  },
  {
   "cell_type": "code",
   "execution_count": 265,
   "id": "52becfc4-528d-42cd-95f0-5e657f8ea40c",
   "metadata": {
    "editable": true,
    "slideshow": {
     "slide_type": ""
    },
    "tags": []
   },
   "outputs": [
    {
     "name": "stdout",
     "output_type": "stream",
     "text": [
      "Erreur : L'âge ne peut pas être négatif.\n"
     ]
    }
   ],
   "source": [
    "def verifier_age(age):\n",
    "    if age < 0:\n",
    "        raise ValueError(\"L'âge ne peut pas être négatif.\")\n",
    "    return age\n",
    "\n",
    "try:\n",
    "    verifier_age(-5)\n",
    "except ValueError as e:\n",
    "    print(\"Erreur :\", e)"
   ]
  },
  {
   "cell_type": "markdown",
   "id": "f9f51eb2-fc88-4bf1-84b8-8b626dd4e3b5",
   "metadata": {
    "editable": true,
    "slideshow": {
     "slide_type": "subslide"
    },
    "tags": []
   },
   "source": [
    "## Bonnes Pratiques\n",
    "\n",
    "1. Gérez uniquement les exceptions que vous savez traiter.\n",
    "2. Évitez les `except:` génériques, ou alors utilisez-le en fin pour gérer l’inattendu.\n",
    "3. Ajoutez des messages d’erreur clairs et utiles.\n",
    "4. Combinez exceptions avec la validation d’entrée."
   ]
  },
  {
   "cell_type": "code",
   "execution_count": 267,
   "id": "457720e0-67f0-48b6-b36a-7006e873f6c2",
   "metadata": {
    "editable": true,
    "slideshow": {
     "slide_type": ""
    },
    "tags": []
   },
   "outputs": [
    {
     "name": "stdout",
     "output_type": "stream",
     "text": [
      "Erreur : Le nombre ne peut pas être négatif.\n"
     ]
    }
   ],
   "source": [
    "x = -5\n",
    "try:\n",
    "    x = int(x)\n",
    "    if x < 0:\n",
    "        raise ValueError(\"Le nombre ne peut pas être négatif.\")\n",
    "    print(\"Nombre valide :\", x)\n",
    "except ValueError as e:\n",
    "    print(\"Erreur :\", e)"
   ]
  },
  {
   "cell_type": "markdown",
   "id": "5df535d4-0578-47df-8db4-c751a6741e60",
   "metadata": {
    "editable": true,
    "slideshow": {
     "slide_type": "subslide"
    },
    "tags": []
   },
   "source": [
    "## Pratique \n",
    "\n",
    "### Exercice 1\n",
    "\n",
    "Écrire un programme qui demande deux nombres à l’utilisateur et affiche le résultat de leur division.\n",
    "\n",
    "- Demandez à l’utilisateur de saisir deux nombres (numérateur et dénominateur).\n",
    "- Convertissez leurs saisies en entiers.\n",
    "- Tentez d’effectuer la division.\n",
    "- Gérez les exceptions suivantes :\n",
    "    - ValueError si l’utilisateur ne saisit pas un entier valide.\n",
    "    - ZeroDivisionError si le dénominateur est 0.\n",
    "    - Affichez un message d’erreur approprié dans chaque cas et redemandez les nombres si nécessaire."
   ]
  },
  {
   "cell_type": "markdown",
   "id": "878884c8-c0bc-433e-8f68-e38bdea6f975",
   "metadata": {
    "editable": true,
    "slideshow": {
     "slide_type": "subslide"
    },
    "tags": []
   },
   "source": [
    "## Exercice 2 : Lecture sécurisée d’un fichier\n",
    "\n",
    "Demandez à l’utilisateur le nom d’un fichier à ouvrir.\n",
    "\n",
    "- Utilisez un bloc try-except pour tenter d’ouvrir et de lire le contenu du fichier.\n",
    "- Gérez l’exception FileNotFoundError si le fichier n’existe pas. Affichez un message d’erreur et redemandez un nom de fichier.\n",
    "- S’il n’y a pas d’exception, affichez le contenu du fichier.\n",
    "- Ajoutez un bloc finally pour afficher un message, par exemple : \"Opération terminée.\""
   ]
  },
  {
   "cell_type": "markdown",
   "id": "cde7aa18-86e0-4d92-ac26-0c429ea6e012",
   "metadata": {
    "editable": true,
    "slideshow": {
     "slide_type": "subslide"
    },
    "tags": []
   },
   "source": [
    "## Exercice 3 : Gestion multiple d’exceptions\n",
    "\n",
    "- Demandez à l’utilisateur un nombre.\n",
    "- Convertissez-le en entier à l’intérieur d’un try.\n",
    "- Calculez sa racine carrée (utilisez math.sqrt par exemple, après avoir importé math).\n",
    "- Gérez les exceptions :\n",
    "    - ValueError si l’entrée n’est pas un nombre.\n",
    "    - TypeError si la fonction reçoit une valeur inadéquate.\n",
    "    - Exception générique pour tout autre cas imprévu, avec un message \"Erreur inattendue.\"\n",
    "    - Affichez un message approprié dans chaque cas."
   ]
  },
  {
   "cell_type": "markdown",
   "id": "cc74e14d-3fba-4937-aff4-790b6e3b3ae9",
   "metadata": {
    "editable": true,
    "slideshow": {
     "slide_type": "slide"
    },
    "tags": []
   },
   "source": [
    "# Sources\n",
    "\n",
    "- [Documentation officielle Python](https://docs.python.org/fr/3/)\n",
    "- [OpenClassRooms](https://openclassrooms.com/fr/courses/7168871-apprenez-les-bases-du-langage-python?archived-source=235344)\n",
    "- [Developpez.com](https://python.developpez.com/)\n",
    "- [Youtube](https://youtube.com/) en recherchant 'Python Tutoriel Français'\n",
    "- [Apprendre à Programmer avec Python 3](apprendre_python_3_5)\n",
    "- [Un zeste de savoir](https://zestedesavoir.com/bibliotheque/informatique/programmation-et-algorithmique/)"
   ]
  }
 ],
 "metadata": {
  "kernelspec": {
   "display_name": "Python 3 (ipykernel)",
   "language": "python",
   "name": "python3"
  },
  "language_info": {
   "codemirror_mode": {
    "name": "ipython",
    "version": 3
   },
   "file_extension": ".py",
   "mimetype": "text/x-python",
   "name": "python",
   "nbconvert_exporter": "python",
   "pygments_lexer": "ipython3",
   "version": "3.9.13"
  }
 },
 "nbformat": 4,
 "nbformat_minor": 5
}
