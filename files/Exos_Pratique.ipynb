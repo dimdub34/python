{
 "cells": [
  {
   "cell_type": "markdown",
   "metadata": {},
   "source": [
    "# Travail sur les listes"
   ]
  },
  {
   "cell_type": "markdown",
   "metadata": {},
   "source": [
    "### Créer une liste (pays, joueurs de foot, etc.)"
   ]
  },
  {
   "cell_type": "code",
   "execution_count": null,
   "metadata": {},
   "outputs": [],
   "source": [
    "sports = [\"Aikibudo\", \"Jiu-Jistsu\", \"Karaté\", \"Judo\", \"Taekwondo\", \"Boxe\"]\n",
    "sports"
   ]
  },
  {
   "cell_type": "markdown",
   "metadata": {},
   "source": [
    "### Faire afficher la longueur de la liste"
   ]
  },
  {
   "cell_type": "code",
   "execution_count": null,
   "metadata": {},
   "outputs": [],
   "source": [
    "len(sports)"
   ]
  },
  {
   "cell_type": "markdown",
   "metadata": {},
   "source": [
    "### Faire afficher les deux derniers éléments de la liste"
   ]
  },
  {
   "cell_type": "code",
   "execution_count": null,
   "metadata": {},
   "outputs": [],
   "source": [
    "sports[-2:]"
   ]
  },
  {
   "cell_type": "markdown",
   "metadata": {},
   "source": [
    "### Ajouter un élément à la liste"
   ]
  },
  {
   "cell_type": "code",
   "execution_count": null,
   "metadata": {},
   "outputs": [],
   "source": [
    "sports.append(\"Lutte\")\n",
    "sports"
   ]
  },
  {
   "cell_type": "markdown",
   "metadata": {},
   "source": [
    "### Enlever le deuxième élément de la liste"
   ]
  },
  {
   "cell_type": "code",
   "execution_count": null,
   "metadata": {},
   "outputs": [],
   "source": [
    "del sports[1]\n",
    "sports"
   ]
  },
  {
   "cell_type": "markdown",
   "metadata": {},
   "source": [
    "### Le remettre à sa place"
   ]
  },
  {
   "cell_type": "code",
   "execution_count": null,
   "metadata": {},
   "outputs": [],
   "source": [
    "sports.insert(1, \"Jiu-Jitsu\")\n",
    "sports"
   ]
  },
  {
   "cell_type": "markdown",
   "metadata": {},
   "source": [
    "### Faire afficher chaque élément de la liste avec une boucle for"
   ]
  },
  {
   "cell_type": "code",
   "execution_count": null,
   "metadata": {},
   "outputs": [],
   "source": [
    "for s in sports:\n",
    "    print(s)"
   ]
  },
  {
   "cell_type": "markdown",
   "metadata": {},
   "source": [
    "### Faire afficher chaque élément de la liste et son index avec enumerate"
   ]
  },
  {
   "cell_type": "code",
   "execution_count": null,
   "metadata": {},
   "outputs": [],
   "source": [
    "for i, s in enumerate(sports):\n",
    "    print(\"Index:\", i, \"Sport:\", s, sep=\" \")"
   ]
  },
  {
   "cell_type": "markdown",
   "metadata": {},
   "source": [
    "# Travail sur les chaînes de caractères"
   ]
  },
  {
   "cell_type": "code",
   "execution_count": null,
   "metadata": {},
   "outputs": [],
   "source": [
    "ma_chaine = \"Nous sommes en train de suivre le cours de Python base\"\n",
    "ma_chaine"
   ]
  },
  {
   "cell_type": "markdown",
   "metadata": {},
   "source": [
    "### Affichage des 2 premières et des 2 dernières lettres"
   ]
  },
  {
   "cell_type": "code",
   "execution_count": null,
   "metadata": {},
   "outputs": [],
   "source": [
    "ma_chaine[:2]"
   ]
  },
  {
   "cell_type": "code",
   "execution_count": null,
   "metadata": {},
   "outputs": [],
   "source": [
    "ma_chaine[-2:]"
   ]
  },
  {
   "cell_type": "code",
   "execution_count": null,
   "metadata": {},
   "outputs": [],
   "source": [
    "prenom, nom, age = \"jean\", \"dupont\", 35.57895"
   ]
  },
  {
   "cell_type": "code",
   "execution_count": null,
   "metadata": {},
   "outputs": [],
   "source": [
    "print(f\"Son prénom est {prenom.capitalize()}, son nom est {nom.upper()}, et il a {age:0.2f} ans.\")"
   ]
  },
  {
   "cell_type": "markdown",
   "metadata": {},
   "source": [
    "# Travail sur les dictionnaires"
   ]
  },
  {
   "cell_type": "markdown",
   "metadata": {},
   "source": [
    "### Créer un dictionnaire avec en clé les lettres du mot \"programmation\" et en valeur le nombre de fois que la lettre apparaît dans le mot"
   ]
  },
  {
   "cell_type": "code",
   "execution_count": null,
   "metadata": {},
   "outputs": [],
   "source": [
    "chaine = \"programmation\"\n",
    "dict_prog = dict()\n",
    "for l in chaine:\n",
    "    dict_prog[l] = chaine.count(l)\n",
    "dict_prog"
   ]
  },
  {
   "cell_type": "markdown",
   "metadata": {},
   "source": [
    "## Faire afficher \"clé: valeur\" du dictionnaire avec print et item"
   ]
  },
  {
   "cell_type": "code",
   "execution_count": null,
   "metadata": {},
   "outputs": [],
   "source": [
    "for k, v in dict_prog.items():\n",
    "    print(\"clé:\", k, \"valeur:\", v, sep=\" \")"
   ]
  },
  {
   "cell_type": "markdown",
   "metadata": {},
   "source": [
    "### Créer un dictionnaire avec comme clé les nombres de 1 à 10 et en valeur leur carré"
   ]
  },
  {
   "cell_type": "code",
   "execution_count": null,
   "metadata": {},
   "outputs": [],
   "source": [
    "dict_nombres = dict()\n",
    "for i in range(1, 11):\n",
    "    dict_nombres[i] = i**2\n",
    "dict_nombres"
   ]
  },
  {
   "cell_type": "code",
   "execution_count": 17,
   "metadata": {},
   "outputs": [
    {
     "name": "stdout",
     "output_type": "stream",
     "text": [
      "clé: 1 valeur: 1\n",
      "clé: 2 valeur: 4\n",
      "clé: 3 valeur: 9\n",
      "clé: 4 valeur: 16\n",
      "clé: 5 valeur: 25\n",
      "clé: 6 valeur: 36\n",
      "clé: 7 valeur: 49\n",
      "clé: 8 valeur: 64\n",
      "clé: 9 valeur: 81\n",
      "clé: 10 valeur: 100\n"
     ]
    }
   ],
   "source": [
    "for k, v in dict_nombres.items():\n",
    "    print(\"clé:\", k, \"valeur:\", v, sep=\" \")"
   ]
  },
  {
   "cell_type": "markdown",
   "metadata": {},
   "source": [
    "# Travail avec les boucles"
   ]
  },
  {
   "cell_type": "code",
   "execution_count": 18,
   "metadata": {},
   "outputs": [
    {
     "name": "stdout",
     "output_type": "stream",
     "text": [
      "1\n",
      "4\n",
      "9\n",
      "16\n",
      "25\n",
      "36\n",
      "49\n",
      "64\n",
      "81\n",
      "100\n"
     ]
    }
   ],
   "source": [
    "mes_nombres = list(range(1, 11))\n",
    "while mes_nombres:\n",
    "    print(mes_nombres.pop(0) ** 2)"
   ]
  },
  {
   "cell_type": "markdown",
   "metadata": {},
   "source": [
    "# Travail sur les list-comprehension"
   ]
  },
  {
   "cell_type": "markdown",
   "metadata": {},
   "source": [
    "### Créer une liste de tuples: le nombre et son carré, pour tous les nombres multiples de 4 compris entre 0 et 100"
   ]
  },
  {
   "cell_type": "code",
   "execution_count": 19,
   "metadata": {},
   "outputs": [
    {
     "name": "stdout",
     "output_type": "stream",
     "text": [
      "[(0, 0), (4, 16), (8, 64), (12, 144), (16, 256), (20, 400), (24, 576), (28, 784), (32, 1024), (36, 1296), (40, 1600), (44, 1936), (48, 2304), (52, 2704), (56, 3136), (60, 3600), (64, 4096), (68, 4624), (72, 5184), (76, 5776), (80, 6400), (84, 7056), (88, 7744), (92, 8464), (96, 9216), (100, 10000)]\n"
     ]
    }
   ],
   "source": [
    "print([(i, i**2) for i in range(101) if i%4==0])"
   ]
  },
  {
   "cell_type": "markdown",
   "metadata": {},
   "source": [
    "### Créer un dictionnaire avec en clé les lettres du mot \"programmation\" et en valeur le nombre de fois que la lettre apparaît dans le mot"
   ]
  },
  {
   "cell_type": "code",
   "execution_count": 20,
   "metadata": {},
   "outputs": [
    {
     "data": {
      "text/plain": [
       "{'p': 1, 'r': 2, 'o': 2, 'g': 1, 'a': 2, 'm': 2, 't': 1, 'i': 1, 'n': 1}"
      ]
     },
     "execution_count": 20,
     "metadata": {},
     "output_type": "execute_result"
    }
   ],
   "source": [
    "{l: \"programmation\".count(l) for l in \"programmation\"}"
   ]
  },
  {
   "cell_type": "markdown",
   "metadata": {},
   "source": [
    "# Travail sur les fonctions"
   ]
  },
  {
   "cell_type": "markdown",
   "metadata": {},
   "source": [
    "### Ecrire une fonction qui prend une liste de nombres en paramètre et qui renvoie la somme des éléments de la liste"
   ]
  },
  {
   "cell_type": "code",
   "execution_count": 21,
   "metadata": {},
   "outputs": [],
   "source": [
    "def get_sum(liste_nombres):\n",
    "    \"\"\"Return la somme des éléments de la liste\"\"\"\n",
    "    return sum(liste_nombres)"
   ]
  },
  {
   "cell_type": "markdown",
   "metadata": {},
   "source": [
    "### Ecrire une fonction qui prend une liste en paramètre et qui renvoie une nouvelle liste avec les éléments unique de la liste initiale"
   ]
  },
  {
   "cell_type": "code",
   "execution_count": 22,
   "metadata": {},
   "outputs": [],
   "source": [
    "def get_unique(liste_elements):\n",
    "    new_liste = []\n",
    "    for i in liste_elements:\n",
    "        if i not in new_liste:\n",
    "            new_liste.append(i)\n",
    "    return new_liste"
   ]
  },
  {
   "cell_type": "code",
   "execution_count": 23,
   "metadata": {},
   "outputs": [
    {
     "data": {
      "text/plain": [
       "['A', 1, 2]"
      ]
     },
     "execution_count": 23,
     "metadata": {},
     "output_type": "execute_result"
    }
   ],
   "source": [
    "ma_liste = [\"A\", \"A\", 1, 2, 1]\n",
    "ma_liste = get_unique(ma_liste)\n",
    "ma_liste"
   ]
  },
  {
   "cell_type": "markdown",
   "metadata": {},
   "source": [
    "### Fonction get_passwd"
   ]
  },
  {
   "cell_type": "code",
   "execution_count": 24,
   "metadata": {},
   "outputs": [],
   "source": [
    "def get_passwd(le_mot, nb_lettres=4):\n",
    "    try:\n",
    "        mot = le_mot[:nb_lettres]\n",
    "        count_lettres = [le_mot.count(l) for l in mot]\n",
    "        return f\"!{mot.upper()}_{''.join(map(str, count_lettres))}=$\"\n",
    "    except (TypeError, AttributeError):\n",
    "        return \"Il faut passer une chaîne de caractère en argument\"   "
   ]
  },
  {
   "cell_type": "markdown",
   "metadata": {},
   "source": [
    "Une autre façon de gérer l'erreur de type est de faire  le test. \n",
    "En python on dit toujours qu'il vaut mieux d'excuser que demander l'autorisation, c'est plus rapide; autrement dit en pyton on recommande la solution ci-dessus (on essaie d'abord) et que celle ci-dessous. La raison est qu'avec le try on appelle le except que s'il y a un problème, alors qu'avec le if on fait le test quel que soit l'argument passé, donc le temps d'execution de la fonction, si elle est appelée sans erreur, est plus long."
   ]
  },
  {
   "cell_type": "code",
   "execution_count": 25,
   "metadata": {},
   "outputs": [],
   "source": [
    "def get_passwd1(le_mot, nb_lettres=4):\n",
    "    if type(le_mot) != str:\n",
    "        return \"Il faut passer une chaîne de caractère en argument\"\n",
    "    mot = le_mot[:nb_lettres]\n",
    "    count_lettres = [le_mot.count(l) for l in mot]\n",
    "    return f\"!{mot.upper()}_{''.join(map(str, count_lettres))}=$\""
   ]
  },
  {
   "cell_type": "markdown",
   "metadata": {},
   "source": [
    "### Lecture / écriture dans un fichier"
   ]
  },
  {
   "cell_type": "markdown",
   "metadata": {},
   "source": [
    "#### Ecriture"
   ]
  },
  {
   "cell_type": "code",
   "execution_count": 26,
   "metadata": {},
   "outputs": [],
   "source": [
    "mon_pass_univ = get_passwd(\"universite\")\n",
    "mon_pass_electricite = get_passwd(\"electricite\")\n",
    "\n",
    "with open(\"/tmp/passwd.txt\", \"w\") as f:\n",
    "    f.write(f\"universite = {mon_pass_univ}\\n\")\n",
    "    f.write(f\"electricite = {mon_pass_electricite}\\n\")"
   ]
  },
  {
   "cell_type": "code",
   "execution_count": 27,
   "metadata": {},
   "outputs": [],
   "source": [
    "with open(\"/tmp/passwd.txt\", \"a\") as f:\n",
    "    f.write(f\"demain = {get_passwd('demain')}\\n\")"
   ]
  },
  {
   "cell_type": "markdown",
   "metadata": {},
   "source": [
    "#### Lecture"
   ]
  },
  {
   "cell_type": "code",
   "execution_count": 28,
   "metadata": {},
   "outputs": [
    {
     "name": "stdout",
     "output_type": "stream",
     "text": [
      "universite = !UNIV_1121=$\n",
      "electricite = !ELEC_3132=$\n",
      "demain = !DEMA_1111=$\n",
      "\n"
     ]
    }
   ],
   "source": [
    "with open(\"/tmp/passwd.txt\", \"r\") as f:\n",
    "    content = f.read()\n",
    "    print(content)"
   ]
  },
  {
   "cell_type": "code",
   "execution_count": 29,
   "metadata": {},
   "outputs": [
    {
     "name": "stdout",
     "output_type": "stream",
     "text": [
      "['universite = !UNIV_1121=$\\n', 'electricite = !ELEC_3132=$\\n', 'demain = !DEMA_1111=$\\n']\n"
     ]
    }
   ],
   "source": [
    "with open(\"/tmp/passwd.txt\", \"r\") as f:\n",
    "    content = f.readlines()\n",
    "    print(content)"
   ]
  },
  {
   "cell_type": "markdown",
   "metadata": {},
   "source": [
    "#### Module pickle pour sérialiser"
   ]
  },
  {
   "cell_type": "code",
   "execution_count": 30,
   "metadata": {},
   "outputs": [],
   "source": [
    "import pickle"
   ]
  },
  {
   "cell_type": "code",
   "execution_count": 31,
   "metadata": {},
   "outputs": [],
   "source": [
    "mon_dict = dict(universite=get_passwd(\"universite\"), aujourdhui=get_passwd(\"ajourdhui\"))\n",
    "\n",
    "with open(\"/tmp/passwd.pck\", \"wb\") as f:\n",
    "    pickle.dump(mon_dict, f)"
   ]
  },
  {
   "cell_type": "code",
   "execution_count": 32,
   "metadata": {},
   "outputs": [
    {
     "data": {
      "text/plain": [
       "{'universite': '!UNIV_1121=$', 'aujourdhui': '!AJOU_1112=$'}"
      ]
     },
     "execution_count": 32,
     "metadata": {},
     "output_type": "execute_result"
    }
   ],
   "source": [
    "with open(\"/tmp/passwd.pck\", \"rb\") as f:\n",
    "    mes_pass = pickle.load(f)\n",
    "mes_pass"
   ]
  }
 ],
 "metadata": {
  "kernelspec": {
   "display_name": "Python 3",
   "language": "python",
   "name": "python3"
  },
  "language_info": {
   "codemirror_mode": {
    "name": "ipython",
    "version": 3
   },
   "file_extension": ".py",
   "mimetype": "text/x-python",
   "name": "python",
   "nbconvert_exporter": "python",
   "pygments_lexer": "ipython3",
   "version": "3.7.7"
  }
 },
 "nbformat": 4,
 "nbformat_minor": 4
}
