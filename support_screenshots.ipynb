{
 "cells": [
  {
   "cell_type": "markdown",
   "id": "59987894-7ddd-4887-9d8e-bafdc93c2aa7",
   "metadata": {},
   "source": [
    "# Listes"
   ]
  },
  {
   "cell_type": "markdown",
   "id": "b8c93d3b-5fcb-4b80-9661-e002ea89cf58",
   "metadata": {},
   "source": [
    "Création d'une liste"
   ]
  },
  {
   "cell_type": "code",
   "execution_count": 1,
   "id": "e75412ab-33c0-4cfb-b1fc-11e2f176fe62",
   "metadata": {},
   "outputs": [],
   "source": [
    "ma_liste = [\"pomme\", \"poire\", \"fraise\", \"frambroise\"]"
   ]
  },
  {
   "cell_type": "markdown",
   "id": "1a7de51e-8950-49e8-8ea0-344a538e49fa",
   "metadata": {},
   "source": [
    "Affichage de la liste"
   ]
  },
  {
   "cell_type": "code",
   "execution_count": 2,
   "id": "5b4caf76-7bf6-45ff-98ea-c9cb0b78349d",
   "metadata": {},
   "outputs": [
    {
     "data": {
      "text/plain": [
       "['pomme', 'poire', 'fraise', 'frambroise']"
      ]
     },
     "execution_count": 2,
     "metadata": {},
     "output_type": "execute_result"
    }
   ],
   "source": [
    "ma_liste"
   ]
  },
  {
   "cell_type": "markdown",
   "id": "95f9a51d-7d87-4df4-966e-2e772d46e17d",
   "metadata": {},
   "source": [
    "Affichage de l'élément à l'index 1"
   ]
  },
  {
   "cell_type": "code",
   "execution_count": 3,
   "id": "14e61399-63c5-4bdb-b80b-81d7371dd884",
   "metadata": {},
   "outputs": [
    {
     "data": {
      "text/plain": [
       "'poire'"
      ]
     },
     "execution_count": 3,
     "metadata": {},
     "output_type": "execute_result"
    }
   ],
   "source": [
    "ma_liste[1]"
   ]
  },
  {
   "cell_type": "markdown",
   "id": "baad6253-3235-486d-9e18-2ec79e5db20e",
   "metadata": {},
   "source": [
    "Affichage des éléments à partir de l'index 1"
   ]
  },
  {
   "cell_type": "code",
   "execution_count": 4,
   "id": "6f6046a3-4fb3-48b2-a039-3f389aa0d345",
   "metadata": {},
   "outputs": [
    {
     "data": {
      "text/plain": [
       "['poire', 'fraise', 'frambroise']"
      ]
     },
     "execution_count": 4,
     "metadata": {},
     "output_type": "execute_result"
    }
   ],
   "source": [
    "ma_liste[1:]"
   ]
  },
  {
   "cell_type": "markdown",
   "id": "a3cf7819-501e-4641-a1a4-c31732f07ad3",
   "metadata": {},
   "source": [
    "Affichage des index 1 et 2"
   ]
  },
  {
   "cell_type": "code",
   "execution_count": 5,
   "id": "dd9daf59-b664-4da9-9805-e064ec9264ef",
   "metadata": {},
   "outputs": [
    {
     "data": {
      "text/plain": [
       "['poire', 'fraise']"
      ]
     },
     "execution_count": 5,
     "metadata": {},
     "output_type": "execute_result"
    }
   ],
   "source": [
    "ma_liste[1:3]"
   ]
  },
  {
   "cell_type": "markdown",
   "id": "55d23f3b-ee04-4c9c-bc1b-625edee0b639",
   "metadata": {},
   "source": [
    "Affichage des deux premiers éléments"
   ]
  },
  {
   "cell_type": "code",
   "execution_count": 6,
   "id": "4f585dea-d3dc-4fad-8546-66c42b22d40a",
   "metadata": {},
   "outputs": [
    {
     "data": {
      "text/plain": [
       "['pomme', 'poire']"
      ]
     },
     "execution_count": 6,
     "metadata": {},
     "output_type": "execute_result"
    }
   ],
   "source": [
    "ma_liste[:2]"
   ]
  },
  {
   "cell_type": "markdown",
   "id": "9e8bea6b-f842-4f66-80da-05a09fc948d1",
   "metadata": {},
   "source": [
    "Affichage par intervalle de 2"
   ]
  },
  {
   "cell_type": "code",
   "execution_count": 7,
   "id": "a1be4e93-01cb-4935-a2c0-173100244c2e",
   "metadata": {},
   "outputs": [
    {
     "data": {
      "text/plain": [
       "['pomme', 'fraise']"
      ]
     },
     "execution_count": 7,
     "metadata": {},
     "output_type": "execute_result"
    }
   ],
   "source": [
    "ma_liste[::2]"
   ]
  },
  {
   "cell_type": "markdown",
   "id": "dfa13da6-118c-4f4c-ad04-c634aa753a6d",
   "metadata": {},
   "source": [
    "Affichage du dernier élément"
   ]
  },
  {
   "cell_type": "code",
   "execution_count": 8,
   "id": "f80b84e6-db19-4703-a27d-35f6f6118bb9",
   "metadata": {},
   "outputs": [
    {
     "data": {
      "text/plain": [
       "'frambroise'"
      ]
     },
     "execution_count": 8,
     "metadata": {},
     "output_type": "execute_result"
    }
   ],
   "source": [
    "ma_liste[-1]"
   ]
  },
  {
   "cell_type": "markdown",
   "id": "afd75ee5-373e-48fe-ac6f-afafdf9cd9c4",
   "metadata": {},
   "source": [
    "Affichage de liste à l'envers"
   ]
  },
  {
   "cell_type": "code",
   "execution_count": 9,
   "id": "aced5055-9f02-400a-9ad2-c1f942176f9f",
   "metadata": {},
   "outputs": [
    {
     "data": {
      "text/plain": [
       "['frambroise', 'fraise', 'poire', 'pomme']"
      ]
     },
     "execution_count": 9,
     "metadata": {},
     "output_type": "execute_result"
    }
   ],
   "source": [
    "ma_liste[::-1]"
   ]
  },
  {
   "cell_type": "markdown",
   "id": "7cd32aad-db00-4b75-a8a7-bc3b62dd2a26",
   "metadata": {},
   "source": [
    "Ajout d'un élément à la fin de la liste"
   ]
  },
  {
   "cell_type": "code",
   "execution_count": 10,
   "id": "394cf11b-570d-4e2c-bc6a-9122ad8248c6",
   "metadata": {},
   "outputs": [
    {
     "data": {
      "text/plain": [
       "['pomme', 'poire', 'fraise', 'frambroise', 'banane']"
      ]
     },
     "execution_count": 10,
     "metadata": {},
     "output_type": "execute_result"
    }
   ],
   "source": [
    "ma_liste.append(\"banane\")\n",
    "ma_liste"
   ]
  },
  {
   "cell_type": "markdown",
   "id": "96b3e803-7dd0-4c58-858b-e47d2c2d0b0e",
   "metadata": {},
   "source": [
    "Suppression d'un élément"
   ]
  },
  {
   "cell_type": "code",
   "execution_count": 11,
   "id": "24503c42-f5c0-4358-a7fd-da2a55f9c4b6",
   "metadata": {},
   "outputs": [
    {
     "data": {
      "text/plain": [
       "['pomme', 'poire', 'fraise', 'frambroise']"
      ]
     },
     "execution_count": 11,
     "metadata": {},
     "output_type": "execute_result"
    }
   ],
   "source": [
    "ma_liste.remove(\"banane\")\n",
    "ma_liste"
   ]
  },
  {
   "cell_type": "markdown",
   "id": "813eb853-b3ee-44b5-abdb-bda08b8c721e",
   "metadata": {},
   "source": [
    "Extension de la liste avec une autre liste"
   ]
  },
  {
   "cell_type": "code",
   "execution_count": 12,
   "id": "000e8b7a-1ad1-47a7-8f17-7eea373f64ca",
   "metadata": {},
   "outputs": [
    {
     "data": {
      "text/plain": [
       "['pomme', 'poire', 'fraise', 'frambroise', 'kiwi', 'orange']"
      ]
     },
     "execution_count": 12,
     "metadata": {},
     "output_type": "execute_result"
    }
   ],
   "source": [
    "ma_liste.extend([\"kiwi\", \"orange\"])\n",
    "ma_liste"
   ]
  },
  {
   "cell_type": "markdown",
   "id": "0032b33e-de1d-4b9e-8082-533b676ae4e9",
   "metadata": {},
   "source": [
    "Parcours de la liste par valeur"
   ]
  },
  {
   "cell_type": "code",
   "execution_count": 13,
   "id": "a973e798-f5ea-4461-8bf4-e9f2340d6624",
   "metadata": {},
   "outputs": [
    {
     "name": "stdout",
     "output_type": "stream",
     "text": [
      "pomme\n",
      "poire\n",
      "fraise\n",
      "frambroise\n",
      "kiwi\n",
      "orange\n"
     ]
    }
   ],
   "source": [
    "for e in ma_liste:\n",
    "    print(e)"
   ]
  },
  {
   "cell_type": "markdown",
   "id": "b05948c9-5c23-4c91-8f17-6e1fc7783174",
   "metadata": {},
   "source": [
    "Parcours de la liste avec enumerate"
   ]
  },
  {
   "cell_type": "code",
   "execution_count": 14,
   "id": "9497101c-8ae5-4f11-95c1-915f87b6e3b6",
   "metadata": {},
   "outputs": [
    {
     "name": "stdout",
     "output_type": "stream",
     "text": [
      "0 pomme\n",
      "1 poire\n",
      "2 fraise\n",
      "3 frambroise\n",
      "4 kiwi\n",
      "5 orange\n"
     ]
    }
   ],
   "source": [
    "for i, e in enumerate(ma_liste):\n",
    "    print(i, e)"
   ]
  },
  {
   "cell_type": "markdown",
   "id": "33490ca7-37f2-4531-9a34-0a09332d2187",
   "metadata": {},
   "source": [
    "# Chaîne de caractères"
   ]
  },
  {
   "cell_type": "markdown",
   "id": "4073328b-1b5c-4bdd-bf7c-56d7ba8bca85",
   "metadata": {},
   "source": [
    "Création"
   ]
  },
  {
   "cell_type": "code",
   "execution_count": 15,
   "id": "4c34cac2-e00a-4c0f-bd33-4bfb422b1efe",
   "metadata": {},
   "outputs": [
    {
     "data": {
      "text/plain": [
       "'bonjour tout le monde'"
      ]
     },
     "execution_count": 15,
     "metadata": {},
     "output_type": "execute_result"
    }
   ],
   "source": [
    "ma_chaine = \"bonjour tout le monde\"\n",
    "ma_chaine"
   ]
  },
  {
   "cell_type": "markdown",
   "id": "95b3944a-7c8e-4a6b-a134-13844bab0a7b",
   "metadata": {},
   "source": [
    "Longueur de la chaîne"
   ]
  },
  {
   "cell_type": "code",
   "execution_count": 16,
   "id": "9fd37b95-e376-4edb-a385-79b9b50026cf",
   "metadata": {},
   "outputs": [
    {
     "data": {
      "text/plain": [
       "21"
      ]
     },
     "execution_count": 16,
     "metadata": {},
     "output_type": "execute_result"
    }
   ],
   "source": [
    "len(ma_chaine)"
   ]
  },
  {
   "cell_type": "markdown",
   "id": "8690284f-5581-4e8b-89ec-1e7553869258",
   "metadata": {},
   "source": [
    "Affichage d'une partie de la chaîne"
   ]
  },
  {
   "cell_type": "code",
   "execution_count": 17,
   "id": "f19c03f6-a40a-4ca7-9210-951b2a2e2e7b",
   "metadata": {},
   "outputs": [
    {
     "data": {
      "text/plain": [
       "'njour to'"
      ]
     },
     "execution_count": 17,
     "metadata": {},
     "output_type": "execute_result"
    }
   ],
   "source": [
    "ma_chaine[2:10]"
   ]
  },
  {
   "cell_type": "code",
   "execution_count": 18,
   "id": "38266c9f-4e66-410f-b8a9-43f1231e27a5",
   "metadata": {},
   "outputs": [
    {
     "data": {
      "text/plain": [
       "'Bonjour tout le monde'"
      ]
     },
     "execution_count": 18,
     "metadata": {},
     "output_type": "execute_result"
    }
   ],
   "source": [
    "ma_chaine.capitalize()"
   ]
  },
  {
   "cell_type": "code",
   "execution_count": 19,
   "id": "c9d1f645-abd3-4c6b-9f05-215886fd63e9",
   "metadata": {},
   "outputs": [
    {
     "data": {
      "text/plain": [
       "'BONJOUR TOUT LE MONDE'"
      ]
     },
     "execution_count": 19,
     "metadata": {},
     "output_type": "execute_result"
    }
   ],
   "source": [
    "ma_chaine.upper()"
   ]
  },
  {
   "cell_type": "code",
   "execution_count": 20,
   "id": "419b8633-9880-4637-b6e9-39d5dd9cb947",
   "metadata": {},
   "outputs": [
    {
     "data": {
      "text/plain": [
       "['b', 'nj', 'ur t', 'ut le m', 'nde']"
      ]
     },
     "execution_count": 20,
     "metadata": {},
     "output_type": "execute_result"
    }
   ],
   "source": [
    "ma_chaine.split(\"o\")"
   ]
  },
  {
   "cell_type": "code",
   "execution_count": 21,
   "id": "03d188d8-3b79-49fc-9d9b-7fb57a795a93",
   "metadata": {},
   "outputs": [
    {
     "data": {
      "text/plain": [
       "4"
      ]
     },
     "execution_count": 21,
     "metadata": {},
     "output_type": "execute_result"
    }
   ],
   "source": [
    "ma_chaine.count(\"o\")"
   ]
  },
  {
   "cell_type": "markdown",
   "id": "fec4b932-2d6b-4beb-928c-9361ab9a830a",
   "metadata": {},
   "source": [
    "Formatage"
   ]
  },
  {
   "cell_type": "code",
   "execution_count": 24,
   "id": "f372e36f-3d0f-4bc9-9f5f-c45b662a1eab",
   "metadata": {},
   "outputs": [
    {
     "name": "stdout",
     "output_type": "stream",
     "text": [
      "L'addition de 10 et 20 fait 30\n"
     ]
    }
   ],
   "source": [
    "nombre_1 = 10\n",
    "nombre_2 = 20\n",
    "ma_chaine_1 = f\"L'addition de {nombre_1} et {nombre_2} fait {nombre_1 + nombre_2}\"\n",
    "print(ma_chaine_1)"
   ]
  },
  {
   "cell_type": "markdown",
   "id": "a516a165-6958-4cfb-9e0a-3fa8483d7679",
   "metadata": {},
   "source": [
    "Formatage des valeurs décimales (float)"
   ]
  },
  {
   "cell_type": "code",
   "execution_count": 25,
   "id": "cc46becd-9cf6-4e81-a0e3-8e0bc3d0dabf",
   "metadata": {},
   "outputs": [
    {
     "name": "stdout",
     "output_type": "stream",
     "text": [
      "La valeur est 125.13\n"
     ]
    }
   ],
   "source": [
    "ma_valeur = 125.12597862\n",
    "print(f\"La valeur est {ma_valeur:.2f}\")"
   ]
  },
  {
   "cell_type": "markdown",
   "id": "ca931034-b6bc-4219-b91d-982f2524dc91",
   "metadata": {},
   "source": [
    "# Tuple"
   ]
  },
  {
   "cell_type": "code",
   "execution_count": 26,
   "id": "91f1c53c-9db4-4572-86e0-c289b1069b20",
   "metadata": {},
   "outputs": [
    {
     "data": {
      "text/plain": [
       "('pomme', 'poire', 'fraise', 'frambroise', 'kiwi', 'orange')"
      ]
     },
     "execution_count": 26,
     "metadata": {},
     "output_type": "execute_result"
    }
   ],
   "source": [
    "ma_liste_tuple = tuple(ma_liste)\n",
    "ma_liste_tuple"
   ]
  },
  {
   "cell_type": "code",
   "execution_count": 27,
   "id": "e5146d75-27d6-45f9-9696-900a1b7df125",
   "metadata": {},
   "outputs": [
    {
     "ename": "TypeError",
     "evalue": "'tuple' object does not support item assignment",
     "output_type": "error",
     "traceback": [
      "\u001b[0;31m---------------------------------------------------------------------------\u001b[0m",
      "\u001b[0;31mTypeError\u001b[0m                                 Traceback (most recent call last)",
      "Input \u001b[0;32mIn [27]\u001b[0m, in \u001b[0;36m<cell line: 1>\u001b[0;34m()\u001b[0m\n\u001b[0;32m----> 1\u001b[0m ma_liste_tuple[\u001b[38;5;241m2\u001b[39m] \u001b[38;5;241m=\u001b[39m \u001b[38;5;124m\"\u001b[39m\u001b[38;5;124mcarotte\u001b[39m\u001b[38;5;124m\"\u001b[39m\n",
      "\u001b[0;31mTypeError\u001b[0m: 'tuple' object does not support item assignment"
     ]
    }
   ],
   "source": [
    "ma_liste_tuple[2] = \"carotte\""
   ]
  },
  {
   "cell_type": "markdown",
   "id": "dada7f76-759a-4b97-aa7f-082ab76eff9f",
   "metadata": {},
   "source": [
    "Création d'une liste de tuples à partir de 2 listes de même taille avec la fonction zip"
   ]
  },
  {
   "cell_type": "code",
   "execution_count": 31,
   "id": "f7730fed-0806-42b3-b102-96ab30b9aac8",
   "metadata": {},
   "outputs": [
    {
     "data": {
      "text/plain": [
       "[('A', 1), ('B', 2), ('C', 3)]"
      ]
     },
     "execution_count": 31,
     "metadata": {},
     "output_type": "execute_result"
    }
   ],
   "source": [
    "list(zip([\"A\", \"B\", \"C\"], [1, 2, 3]))"
   ]
  },
  {
   "cell_type": "markdown",
   "id": "5030056c-e473-42b5-bdee-898710fd5eeb",
   "metadata": {},
   "source": [
    "# Dictionnaire"
   ]
  },
  {
   "cell_type": "markdown",
   "id": "a3bd5a4a-b105-4364-b110-41efdf541f5e",
   "metadata": {},
   "source": [
    "Création"
   ]
  },
  {
   "cell_type": "code",
   "execution_count": 29,
   "id": "c07f5c90-faa6-4082-b0dc-cbc1f8ef8889",
   "metadata": {},
   "outputs": [
    {
     "data": {
      "text/plain": [
       "{'python': 'langage de programmation', 'html': 'langage de balises'}"
      ]
     },
     "execution_count": 29,
     "metadata": {},
     "output_type": "execute_result"
    }
   ],
   "source": [
    "mon_dict = dict(python=\"langage de programmation\", html=\"langage de balises\")\n",
    "mon_dict"
   ]
  },
  {
   "cell_type": "markdown",
   "id": "c7a2d92a-c0d2-4ba0-9df0-b913065454b9",
   "metadata": {},
   "source": [
    "Création à partir d'une liste d'itérables de taille 2"
   ]
  },
  {
   "cell_type": "code",
   "execution_count": 30,
   "id": "ddbd7f14-35c1-473e-9b46-ff517157db55",
   "metadata": {},
   "outputs": [
    {
     "data": {
      "text/plain": [
       "{'A': 1, 'B': 2}"
      ]
     },
     "execution_count": 30,
     "metadata": {},
     "output_type": "execute_result"
    }
   ],
   "source": [
    "dict([(\"A\", 1), (\"B\", 2)])"
   ]
  },
  {
   "cell_type": "markdown",
   "id": "d4ca6d82-8698-443a-b8eb-10244e6fff85",
   "metadata": {},
   "source": [
    "Ajout d'une paire clé / valeur"
   ]
  },
  {
   "cell_type": "code",
   "execution_count": 33,
   "id": "ec123239-6b9d-4d03-b914-a43e63c8c34a",
   "metadata": {},
   "outputs": [],
   "source": [
    "mon_dict[\"javascript\"] = \"langage de programmation du web\""
   ]
  },
  {
   "cell_type": "code",
   "execution_count": 36,
   "id": "8dd2d48f-7a56-4728-ab43-2291b45ff361",
   "metadata": {},
   "outputs": [
    {
     "data": {
      "text/plain": [
       "{'python': 'langage de programmation',\n",
       " 'html': 'langage de balises',\n",
       " 'javascript': 'langage de programmation du web'}"
      ]
     },
     "execution_count": 36,
     "metadata": {},
     "output_type": "execute_result"
    }
   ],
   "source": [
    "mon_dict"
   ]
  },
  {
   "cell_type": "markdown",
   "id": "44b421a8-8882-4374-ae3e-46dec69e93ef",
   "metadata": {},
   "source": [
    "Accès à une clé n'existant pas"
   ]
  },
  {
   "cell_type": "code",
   "execution_count": 37,
   "id": "74685c61-bae1-41cb-9d88-a13c5294ce66",
   "metadata": {},
   "outputs": [
    {
     "ename": "KeyError",
     "evalue": "'css'",
     "output_type": "error",
     "traceback": [
      "\u001b[0;31m---------------------------------------------------------------------------\u001b[0m",
      "\u001b[0;31mKeyError\u001b[0m                                  Traceback (most recent call last)",
      "Input \u001b[0;32mIn [37]\u001b[0m, in \u001b[0;36m<cell line: 1>\u001b[0;34m()\u001b[0m\n\u001b[0;32m----> 1\u001b[0m \u001b[43mmon_dict\u001b[49m\u001b[43m[\u001b[49m\u001b[38;5;124;43m\"\u001b[39;49m\u001b[38;5;124;43mcss\u001b[39;49m\u001b[38;5;124;43m\"\u001b[39;49m\u001b[43m]\u001b[49m\n",
      "\u001b[0;31mKeyError\u001b[0m: 'css'"
     ]
    }
   ],
   "source": [
    "mon_dict[\"css\"]"
   ]
  },
  {
   "cell_type": "markdown",
   "id": "f80b41bb-a611-4790-85a3-a22f1b3086bc",
   "metadata": {},
   "source": [
    "Méthode get"
   ]
  },
  {
   "cell_type": "code",
   "execution_count": 38,
   "id": "d53af414-4c5d-448c-b97f-157e6b5afe1b",
   "metadata": {},
   "outputs": [
    {
     "data": {
      "text/plain": [
       "'langage de style pour le html'"
      ]
     },
     "execution_count": 38,
     "metadata": {},
     "output_type": "execute_result"
    }
   ],
   "source": [
    "mon_dict.get(\"css\", \"langage de style pour le html\")"
   ]
  },
  {
   "cell_type": "markdown",
   "id": "d38d7e04-fb31-4558-aa4c-78c9c3bd004c",
   "metadata": {},
   "source": [
    "Méthode keys()"
   ]
  },
  {
   "cell_type": "code",
   "execution_count": 39,
   "id": "c03a082c-fe6c-42fa-83b9-2097c06c327e",
   "metadata": {},
   "outputs": [
    {
     "data": {
      "text/plain": [
       "dict_keys(['python', 'html', 'javascript'])"
      ]
     },
     "execution_count": 39,
     "metadata": {},
     "output_type": "execute_result"
    }
   ],
   "source": [
    "mon_dict.keys()"
   ]
  },
  {
   "cell_type": "markdown",
   "id": "7db5184c-4bc0-40ed-87c1-88f82272bdac",
   "metadata": {},
   "source": [
    "Méthode items - Renvoie une liste de tuples (clé, valeur)"
   ]
  },
  {
   "cell_type": "code",
   "execution_count": 40,
   "id": "ec1ca820-fdb5-41d3-b602-64bbfe087b34",
   "metadata": {},
   "outputs": [
    {
     "data": {
      "text/plain": [
       "dict_items([('python', 'langage de programmation'), ('html', 'langage de balises'), ('javascript', 'langage de programmation du web')])"
      ]
     },
     "execution_count": 40,
     "metadata": {},
     "output_type": "execute_result"
    }
   ],
   "source": [
    "mon_dict.items()"
   ]
  },
  {
   "cell_type": "markdown",
   "id": "8d58b84a-09a8-4743-b731-4a172abde078",
   "metadata": {},
   "source": [
    "Test de présence d'une clé"
   ]
  },
  {
   "cell_type": "code",
   "execution_count": 41,
   "id": "8acf8bab-8698-4aa3-8c1f-e262a256dfe3",
   "metadata": {},
   "outputs": [
    {
     "data": {
      "text/plain": [
       "False"
      ]
     },
     "execution_count": 41,
     "metadata": {},
     "output_type": "execute_result"
    }
   ],
   "source": [
    "\"css\" in mon_dict"
   ]
  },
  {
   "cell_type": "code",
   "execution_count": 42,
   "id": "0acb67ca-8d1e-43f9-9c81-defe47e31d22",
   "metadata": {},
   "outputs": [
    {
     "data": {
      "text/plain": [
       "True"
      ]
     },
     "execution_count": 42,
     "metadata": {},
     "output_type": "execute_result"
    }
   ],
   "source": [
    "\"python\" in mon_dict"
   ]
  },
  {
   "cell_type": "markdown",
   "id": "8cd90f7e-7933-43d2-8535-0e97cf93f843",
   "metadata": {},
   "source": [
    "Parcours du dictionnaire"
   ]
  },
  {
   "cell_type": "code",
   "execution_count": 44,
   "id": "3b884da9-754a-4972-8b9a-05b304487701",
   "metadata": {},
   "outputs": [
    {
     "name": "stdout",
     "output_type": "stream",
     "text": [
      "python : langage de programmation\n",
      "html : langage de balises\n",
      "javascript : langage de programmation du web\n"
     ]
    }
   ],
   "source": [
    "for k, v in mon_dict.items():\n",
    "    print(f\"{k} : {v}\")"
   ]
  }
 ],
 "metadata": {
  "kernelspec": {
   "display_name": "Python 3 (ipykernel)",
   "language": "python",
   "name": "python3"
  },
  "language_info": {
   "codemirror_mode": {
    "name": "ipython",
    "version": 3
   },
   "file_extension": ".py",
   "mimetype": "text/x-python",
   "name": "python",
   "nbconvert_exporter": "python",
   "pygments_lexer": "ipython3",
   "version": "3.9.13"
  }
 },
 "nbformat": 4,
 "nbformat_minor": 5
}
