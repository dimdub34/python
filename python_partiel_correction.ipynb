{
 "cells": [
  {
   "cell_type": "code",
   "execution_count": 29,
   "id": "protected-regulation",
   "metadata": {},
   "outputs": [],
   "source": [
    "import random"
   ]
  },
  {
   "cell_type": "markdown",
   "id": "animated-livestock",
   "metadata": {},
   "source": [
    "# Python"
   ]
  },
  {
   "cell_type": "markdown",
   "id": "coated-pontiac",
   "metadata": {},
   "source": [
    "1. Ecrire une fonction qui prend deux nombres entiers en paramètres. Cette fonction renvoie la somme de ces deux nombres si la somme est strictement inférieure à 100, sinon elle renvoie le produit de ces deux nombres."
   ]
  },
  {
   "cell_type": "code",
   "execution_count": 3,
   "id": "loving-ecuador",
   "metadata": {},
   "outputs": [],
   "source": [
    "def get_result(x, y):\n",
    "    return x + y if x + y < 100 else x * y"
   ]
  },
  {
   "cell_type": "code",
   "execution_count": 4,
   "id": "studied-retro",
   "metadata": {},
   "outputs": [
    {
     "name": "stdout",
     "output_type": "stream",
     "text": [
      "55\n",
      "2625\n"
     ]
    }
   ],
   "source": [
    "print(get_result(25, 30))\n",
    "print(get_result(25, 105))"
   ]
  },
  {
   "cell_type": "markdown",
   "id": "engaging-creativity",
   "metadata": {},
   "source": [
    "2. Recopier la fonction écrite au-dessus et afficher un message si le type des arguments passés à la fonction n'est pas le bon."
   ]
  },
  {
   "cell_type": "code",
   "execution_count": 6,
   "id": "eleven-corps",
   "metadata": {},
   "outputs": [],
   "source": [
    "def get_result(x, y):\n",
    "    if type(x) != int or type(y) != int:\n",
    "        raise TypeError(\"x et y doivent êtes des nombres entiers\")\n",
    "    return x + y if x + y < 100 else x * y"
   ]
  },
  {
   "cell_type": "code",
   "execution_count": 7,
   "id": "fossil-apache",
   "metadata": {},
   "outputs": [
    {
     "ename": "TypeError",
     "evalue": "x et y doivent êtes des nombres entiers",
     "output_type": "error",
     "traceback": [
      "\u001b[0;31m---------------------------------------------------------------------------\u001b[0m",
      "\u001b[0;31mTypeError\u001b[0m                                 Traceback (most recent call last)",
      "\u001b[0;32m<ipython-input-7-9d589c257bbd>\u001b[0m in \u001b[0;36m<module>\u001b[0;34m\u001b[0m\n\u001b[0;32m----> 1\u001b[0;31m \u001b[0mprint\u001b[0m\u001b[0;34m(\u001b[0m\u001b[0mget_result\u001b[0m\u001b[0;34m(\u001b[0m\u001b[0;36m10\u001b[0m\u001b[0;34m,\u001b[0m \u001b[0;34m\"coucou\"\u001b[0m\u001b[0;34m)\u001b[0m\u001b[0;34m)\u001b[0m\u001b[0;34m\u001b[0m\u001b[0;34m\u001b[0m\u001b[0m\n\u001b[0m",
      "\u001b[0;32m<ipython-input-6-aedaddd019db>\u001b[0m in \u001b[0;36mget_result\u001b[0;34m(x, y)\u001b[0m\n\u001b[1;32m      1\u001b[0m \u001b[0;32mdef\u001b[0m \u001b[0mget_result\u001b[0m\u001b[0;34m(\u001b[0m\u001b[0mx\u001b[0m\u001b[0;34m,\u001b[0m \u001b[0my\u001b[0m\u001b[0;34m)\u001b[0m\u001b[0;34m:\u001b[0m\u001b[0;34m\u001b[0m\u001b[0;34m\u001b[0m\u001b[0m\n\u001b[1;32m      2\u001b[0m     \u001b[0;32mif\u001b[0m \u001b[0mtype\u001b[0m\u001b[0;34m(\u001b[0m\u001b[0mx\u001b[0m\u001b[0;34m)\u001b[0m \u001b[0;34m!=\u001b[0m \u001b[0mint\u001b[0m \u001b[0;32mor\u001b[0m \u001b[0mtype\u001b[0m\u001b[0;34m(\u001b[0m\u001b[0my\u001b[0m\u001b[0;34m)\u001b[0m \u001b[0;34m!=\u001b[0m \u001b[0mint\u001b[0m\u001b[0;34m:\u001b[0m\u001b[0;34m\u001b[0m\u001b[0;34m\u001b[0m\u001b[0m\n\u001b[0;32m----> 3\u001b[0;31m         \u001b[0;32mraise\u001b[0m \u001b[0mTypeError\u001b[0m\u001b[0;34m(\u001b[0m\u001b[0;34m\"x et y doivent êtes des nombres entiers\"\u001b[0m\u001b[0;34m)\u001b[0m\u001b[0;34m\u001b[0m\u001b[0;34m\u001b[0m\u001b[0m\n\u001b[0m\u001b[1;32m      4\u001b[0m     \u001b[0;32mreturn\u001b[0m \u001b[0mx\u001b[0m \u001b[0;34m+\u001b[0m \u001b[0my\u001b[0m \u001b[0;32mif\u001b[0m \u001b[0mx\u001b[0m \u001b[0;34m+\u001b[0m \u001b[0my\u001b[0m \u001b[0;34m<\u001b[0m \u001b[0;36m100\u001b[0m \u001b[0;32melse\u001b[0m \u001b[0mx\u001b[0m \u001b[0;34m*\u001b[0m \u001b[0my\u001b[0m\u001b[0;34m\u001b[0m\u001b[0;34m\u001b[0m\u001b[0m\n",
      "\u001b[0;31mTypeError\u001b[0m: x et y doivent êtes des nombres entiers"
     ]
    }
   ],
   "source": [
    "print(get_result(10, \"coucou\"))"
   ]
  },
  {
   "cell_type": "markdown",
   "id": "front-console",
   "metadata": {},
   "source": [
    "3. Ecrire le code qui, basé sur ```range(10)```, affiche le contenu suivant:\n",
    "\n",
    "Nombre actuel 0, nombre précédent 0, somme des deux 0  \n",
    "Nombre actuel 1, nombre précédent 0, somme des deux 1  \n",
    "Nombre actuel 2, nombre précédent 1, somme des deux 3  \n",
    "...  \n",
    "Nombre actuel 9, nombre précédent 8, somme des deux 17"
   ]
  },
  {
   "cell_type": "code",
   "execution_count": 8,
   "id": "dependent-savannah",
   "metadata": {},
   "outputs": [
    {
     "name": "stdout",
     "output_type": "stream",
     "text": [
      "Nombre actuel 0, nombre précédent 0, somme des deux 0\n",
      "Nombre actuel 1, nombre précédent 0, somme des deux 1\n",
      "Nombre actuel 2, nombre précédent 1, somme des deux 3\n",
      "Nombre actuel 3, nombre précédent 2, somme des deux 5\n",
      "Nombre actuel 4, nombre précédent 3, somme des deux 7\n",
      "Nombre actuel 5, nombre précédent 4, somme des deux 9\n",
      "Nombre actuel 6, nombre précédent 5, somme des deux 11\n",
      "Nombre actuel 7, nombre précédent 6, somme des deux 13\n",
      "Nombre actuel 8, nombre précédent 7, somme des deux 15\n",
      "Nombre actuel 9, nombre précédent 8, somme des deux 17\n"
     ]
    }
   ],
   "source": [
    "for i in range(10):\n",
    "    if i == 0:\n",
    "        print(\"Nombre actuel 0, nombre précédent 0, somme des deux 0\")\n",
    "    else:\n",
    "        print(f\"Nombre actuel {i}, nombre précédent {i-1}, somme des deux {i-1 + i}\")"
   ]
  },
  {
   "cell_type": "markdown",
   "id": "nuclear-poker",
   "metadata": {},
   "source": [
    "4. Ecrire une fonction qui prend une chaîne de caractères en paramètre, et qui renvoie une lettre sur deux, uniquement les lettres aux index pairs.\n",
    "Par exemple, si la chaîne de caractères est \"bienvenue\", la fonction doit renvoyer: ```['b', 'e', 'v', 'n', 'e']```. Si possible, écrire cette fonction en utilisant une list-comprehension."
   ]
  },
  {
   "cell_type": "code",
   "execution_count": 42,
   "id": "signal-wheat",
   "metadata": {},
   "outputs": [],
   "source": [
    "def get_odd_letters(word):\n",
    "    # return word[::2]\n",
    "    return [e for i, e in enumerate(word) if i % 2 == 0]"
   ]
  },
  {
   "cell_type": "code",
   "execution_count": 10,
   "id": "large-reason",
   "metadata": {},
   "outputs": [
    {
     "name": "stdout",
     "output_type": "stream",
     "text": [
      "['b', 'e', 'v', 'n', 'e']\n"
     ]
    }
   ],
   "source": [
    "print(get_odd_letters(\"bienvenue\"))"
   ]
  },
  {
   "cell_type": "markdown",
   "id": "unexpected-banana",
   "metadata": {},
   "source": [
    "5. Ecrire une fonction qui prend une liste de nombres entiers en paramètre, et qui renvoie une liste avec uniquement les nombres de la liste initiale qui sont divisibles par 5."
   ]
  },
  {
   "cell_type": "code",
   "execution_count": 11,
   "id": "medium-working",
   "metadata": {},
   "outputs": [],
   "source": [
    "def get_multiple(list_value, multiple=5):\n",
    "    return [e for e in list_value if e % multiple == 0]"
   ]
  },
  {
   "cell_type": "code",
   "execution_count": 12,
   "id": "opponent-eligibility",
   "metadata": {},
   "outputs": [
    {
     "name": "stdout",
     "output_type": "stream",
     "text": [
      "[5, 15]\n"
     ]
    }
   ],
   "source": [
    "print(get_multiple([5, 6, 19, 12, 15]))"
   ]
  },
  {
   "cell_type": "markdown",
   "id": "designed-iraqi",
   "metadata": {},
   "source": [
    "6. Ecrire le code qui, basé sur ```range(5)```, affiche le contenu suivant : \n",
    "\n",
    "```\n",
    "1  \n",
    "2 2   \n",
    "3 3 3   \n",
    "4 4 4 4   \n",
    "5 5 5 5 5\n",
    "```"
   ]
  },
  {
   "cell_type": "code",
   "execution_count": 39,
   "id": "painted-change",
   "metadata": {},
   "outputs": [
    {
     "name": "stdout",
     "output_type": "stream",
     "text": [
      "1\n",
      "22\n",
      "333\n",
      "4444\n",
      "55555\n"
     ]
    }
   ],
   "source": [
    "for i in range(5):\n",
    "    print( (i + 1) * str(i + 1))"
   ]
  },
  {
   "cell_type": "markdown",
   "id": "regional-category",
   "metadata": {},
   "source": [
    "7. Ecrire une fonction qui prend un nombre entier en paramètre, et qui renvoie True si le nombre est un palindrome et False sinon.  \n",
    "Un palindrome est un nombre qui est identique lorsque on le change de sens (le dernier chiffre devient le premier, l'avant dernier le second ..., le premier le dernier). Par exemple 1221 ou 13431."
   ]
  },
  {
   "cell_type": "code",
   "execution_count": 25,
   "id": "modern-radius",
   "metadata": {},
   "outputs": [],
   "source": [
    "def is_palindrome(nombre):\n",
    "    return str(nombre) == str(nombre)[::-1]"
   ]
  },
  {
   "cell_type": "code",
   "execution_count": 26,
   "id": "infectious-marathon",
   "metadata": {},
   "outputs": [
    {
     "name": "stdout",
     "output_type": "stream",
     "text": [
      "False\n",
      "True\n"
     ]
    }
   ],
   "source": [
    "print(is_palindrome(1225))\n",
    "print(is_palindrome(1221))"
   ]
  },
  {
   "cell_type": "markdown",
   "id": "photographic-movement",
   "metadata": {},
   "source": [
    "8. Ecrire une fonction qui prend deux listes de nombres entiers en paramètres et qui renvoie une seule liste comprenant les nombres impairs de la première liste et les nombres pairs de la seconde."
   ]
  },
  {
   "cell_type": "code",
   "execution_count": 40,
   "id": "pressing-concrete",
   "metadata": {},
   "outputs": [],
   "source": [
    "def even_odds(l1, l2):\n",
    "    l1 = [l for l in l1 if l % 2 > 0]\n",
    "    l2 = [l for l in l2 if l %2 == 0]\n",
    "    return l1 + l2"
   ]
  },
  {
   "cell_type": "code",
   "execution_count": 41,
   "id": "nonprofit-finance",
   "metadata": {},
   "outputs": [
    {
     "name": "stdout",
     "output_type": "stream",
     "text": [
      "[33, 43, 7, 81, 61, 87, 35, 61, 75, 93, 41, 83, 77, 15, 98, 24, 90, 80, 8, 56, 98, 8, 2]\n"
     ]
    }
   ],
   "source": [
    "print(even_odds([random.randint(0, 100) for _ in range(20)], [random.randint(0, 100) for _ in range(20)]))"
   ]
  },
  {
   "cell_type": "markdown",
   "id": "starting-genesis",
   "metadata": {},
   "source": [
    "9. Ecrire le code qui, basé sur ```range(10)``` affiche le contenu suivant:\n",
    "\n",
    "```\n",
    "000\n",
    "001\n",
    "002\n",
    "003\n",
    "...\n",
    "010\n",
    "```"
   ]
  },
  {
   "cell_type": "code",
   "execution_count": 31,
   "id": "fantastic-boutique",
   "metadata": {},
   "outputs": [
    {
     "name": "stdout",
     "output_type": "stream",
     "text": [
      "000\n",
      "001\n",
      "002\n",
      "003\n",
      "004\n",
      "005\n",
      "006\n",
      "007\n",
      "008\n",
      "009\n"
     ]
    }
   ],
   "source": [
    "for i in range(10):\n",
    "    print(f\"{i:03}\")"
   ]
  },
  {
   "cell_type": "markdown",
   "id": "associate-track",
   "metadata": {},
   "source": [
    "10. Ecrire une fonction qui prend en paramètre une liste de valeurs décimales et qui renvoie une liste avec ces mêmes valeurs avec avec uniquement deux décimales. Si possible, passer par une liste-comprehension.\n",
    "\n",
    "Pour générer la liste de valeurs vous utiliserez\n",
    "\n",
    "```python\n",
    "import random\n",
    "mes_valeurs = [random.random() * 100 for _ in range(10)]\n",
    "```"
   ]
  },
  {
   "cell_type": "code",
   "execution_count": 36,
   "id": "mysterious-calvin",
   "metadata": {},
   "outputs": [],
   "source": [
    "def round_list(the_list):\n",
    "    return [round(l, 2) for l in the_list]"
   ]
  },
  {
   "cell_type": "code",
   "execution_count": 37,
   "id": "fabulous-poland",
   "metadata": {},
   "outputs": [
    {
     "data": {
      "text/plain": [
       "[13.65, 85.25, 15.06, 5.13, 43.52, 57.67, 53.2, 72.7, 24.03, 53.74]"
      ]
     },
     "execution_count": 37,
     "metadata": {},
     "output_type": "execute_result"
    }
   ],
   "source": [
    "round_list([random.random() * 100 for _ in range(10)])"
   ]
  }
 ],
 "metadata": {
  "kernelspec": {
   "display_name": "Python 3",
   "language": "python",
   "name": "python3"
  },
  "language_info": {
   "codemirror_mode": {
    "name": "ipython",
    "version": 3
   },
   "file_extension": ".py",
   "mimetype": "text/x-python",
   "name": "python",
   "nbconvert_exporter": "python",
   "pygments_lexer": "ipython3",
   "version": "3.7.7"
  }
 },
 "nbformat": 4,
 "nbformat_minor": 5
}
