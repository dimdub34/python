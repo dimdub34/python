{
 "cells": [
  {
   "cell_type": "markdown",
   "id": "behavioral-poison",
   "metadata": {},
   "source": [
    "# Python"
   ]
  },
  {
   "cell_type": "markdown",
   "id": "split-midnight",
   "metadata": {},
   "source": [
    "1. Ecrire une fonction qui prend deux nombres entiers en paramètres. Cette fonction renvoie la somme de ces deux nombres si la somme est strictement inférieure à 100, sinon elle renvoie le produit de ces deux nombres."
   ]
  },
  {
   "cell_type": "code",
   "execution_count": null,
   "id": "damaged-jesus",
   "metadata": {},
   "outputs": [],
   "source": []
  },
  {
   "cell_type": "markdown",
   "id": "global-victory",
   "metadata": {},
   "source": [
    "2. Recopier la fonction écrite au-dessus et afficher un message si le type des arguments passés à la fonction n'est pas le bon."
   ]
  },
  {
   "cell_type": "code",
   "execution_count": null,
   "id": "amazing-portsmouth",
   "metadata": {},
   "outputs": [],
   "source": []
  },
  {
   "cell_type": "markdown",
   "id": "frequent-evanescence",
   "metadata": {},
   "source": [
    "3. Ecrire le code qui, basé sur ```range(10)```, affiche le contenu suivant:\n",
    "\n",
    "Nombre actuel 0, nombre précédent 0, somme des deux 0  \n",
    "Nombre actuel 1, nombre précédent 0, somme des deux 1  \n",
    "Nombre actuel 2, nombre précédent 1, somme des deux 3  \n",
    "...  \n",
    "Nombre actuel 9, nombre précédent 8, somme des deux 17"
   ]
  },
  {
   "cell_type": "code",
   "execution_count": null,
   "id": "genuine-royal",
   "metadata": {},
   "outputs": [],
   "source": []
  },
  {
   "cell_type": "markdown",
   "id": "inclusive-turkish",
   "metadata": {},
   "source": [
    "4. Ecrire une fonction qui prend une chaîne de caractères en paramètre, et qui renvoie une lettre sur deux, uniquement les lettres aux index pairs.\n",
    "Par exemple, si la chaîne de caractères est \"bienvenue\", la fonction doit renvoyer: ```['b', 'e', 'v', 'n', 'e']```. Si possible, écrire cette fonction en utilisant une list-comprehension."
   ]
  },
  {
   "cell_type": "code",
   "execution_count": null,
   "id": "treated-passing",
   "metadata": {},
   "outputs": [],
   "source": []
  },
  {
   "cell_type": "markdown",
   "id": "obvious-clearing",
   "metadata": {},
   "source": [
    "5. Ecrire une fonction qui prend une liste de nombres entiers en paramètre, et qui renvoie une liste avec uniquement les nombres de la liste initiale qui sont divisibles par 5."
   ]
  },
  {
   "cell_type": "code",
   "execution_count": null,
   "id": "sacred-projection",
   "metadata": {},
   "outputs": [],
   "source": []
  },
  {
   "cell_type": "markdown",
   "id": "public-turkey",
   "metadata": {},
   "source": [
    "6. Ecrire le code qui, basé sur ```range(5)```, affiche le contenu suivant : \n",
    "\n",
    "```\n",
    "1  \n",
    "2 2   \n",
    "3 3 3   \n",
    "4 4 4 4   \n",
    "5 5 5 5 5\n",
    "```"
   ]
  },
  {
   "cell_type": "code",
   "execution_count": null,
   "id": "seeing-geology",
   "metadata": {},
   "outputs": [],
   "source": []
  },
  {
   "cell_type": "markdown",
   "id": "bright-sharp",
   "metadata": {},
   "source": [
    "7. Ecrire une fonction qui prend un nombre entier en paramètre, et qui renvoie True si le nombre est un palindrome et False sinon.  \n",
    "Un palindrome est un nombre qui est identique lorsque on le change de sens (le dernier chiffre devient le premier, l'avant dernier le second ..., le premier le dernier). Par exemple 1221 ou 13431."
   ]
  },
  {
   "cell_type": "code",
   "execution_count": null,
   "id": "centered-corps",
   "metadata": {},
   "outputs": [],
   "source": []
  },
  {
   "cell_type": "markdown",
   "id": "automotive-petroleum",
   "metadata": {},
   "source": [
    "8. Ecrire une fonction qui prend deux listes de nombres entiers en paramètres et qui renvoie une seule liste comprenant les nombres impairs de la première liste et les nombres pairs de la seconde."
   ]
  },
  {
   "cell_type": "code",
   "execution_count": null,
   "id": "falling-baltimore",
   "metadata": {},
   "outputs": [],
   "source": []
  },
  {
   "cell_type": "markdown",
   "id": "american-lover",
   "metadata": {},
   "source": [
    "9. Ecrire le code qui, basé sur ```range(10)``` affiche le contenu suivant:\n",
    "\n",
    "```\n",
    "000\n",
    "001\n",
    "002\n",
    "003\n",
    "...\n",
    "010\n",
    "```"
   ]
  },
  {
   "cell_type": "code",
   "execution_count": null,
   "id": "moderate-prototype",
   "metadata": {},
   "outputs": [],
   "source": []
  },
  {
   "cell_type": "markdown",
   "id": "eight-polyester",
   "metadata": {},
   "source": [
    "10. Ecrire une fonction qui prend en paramètre une liste de valeurs décimaleset qui renvoie une liste avec ces mêmes valeurs avec avec uniquement deux décimales. Si possible, passer par une liste-comprehension.\n",
    "\n",
    "Pour générer la liste de valeurs vous utiliserez\n",
    "\n",
    "```python\n",
    "import random\n",
    "mes_valeurs = [random.random() * 100 for _ in range(10)]\n",
    "```"
   ]
  },
  {
   "cell_type": "code",
   "execution_count": null,
   "id": "determined-median",
   "metadata": {},
   "outputs": [],
   "source": []
  }
 ],
 "metadata": {
  "kernelspec": {
   "display_name": "Python 3",
   "language": "python",
   "name": "python3"
  },
  "language_info": {
   "codemirror_mode": {
    "name": "ipython",
    "version": 3
   },
   "file_extension": ".py",
   "mimetype": "text/x-python",
   "name": "python",
   "nbconvert_exporter": "python",
   "pygments_lexer": "ipython3",
   "version": "3.7.7"
  }
 },
 "nbformat": 4,
 "nbformat_minor": 5
}
