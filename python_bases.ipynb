{
 "cells": [
  {
   "cell_type": "markdown",
   "id": "030cc319-13d9-41d2-ab6a-f04461bdb126",
   "metadata": {
    "editable": true,
    "slideshow": {
     "slide_type": "slide"
    },
    "tags": []
   },
   "source": [
    "# Python\n",
    "\n",
    "<img src=\"img/logo.png\" alt=\"Python\" style=\"height: 200px\">"
   ]
  },
  {
   "cell_type": "markdown",
   "id": "eedf75b9-b561-4e0f-b197-e8cf08745cec",
   "metadata": {
    "editable": true,
    "slideshow": {
     "slide_type": "subslide"
    },
    "tags": []
   },
   "source": [
    "## Content\n",
    "\n",
    "- [Introduction](#/1)\n",
    "- [Installation](#/2)\n",
    "- [Règles d'écriture](#/3)\n",
    "- [Variables et types](#/4)\n",
    "- [Chaînes de caractères](#/5)\n",
    "- [Types numériques](#/6)\n",
    "- [Booléen](#/7)\n",
    "- [Liste](#/8)\n",
    "- [Tuple](#/9)\n",
    "- [Dictionnaire](#/10)\n",
    "- [Set](#/11)"
   ]
  },
  {
   "cell_type": "markdown",
   "id": "73aa746d-d495-4dff-b6af-85b08fdaa022",
   "metadata": {
    "editable": true,
    "slideshow": {
     "slide_type": "slide"
    },
    "tags": []
   },
   "source": [
    "# Introduction"
   ]
  },
  {
   "cell_type": "markdown",
   "id": "26116672-5cee-4757-9fae-23deb606ae05",
   "metadata": {
    "editable": true,
    "slideshow": {
     "slide_type": "subslide"
    },
    "tags": []
   },
   "source": [
    "- créé par Guido Van Rossum (Néerlandais)\n",
    "- la 1ère version en 1991\n",
    "- géré par la Python Software Fondation, depuis 2001\n",
    "- site web : [https://www.python.org](https://www.python.org)\n",
    "- Python vient de \"Monty Python\" une troupe d'humoristes anglais ([wikipedia](https://fr.wikipedia.org/wiki/Monty_Python))\n",
    "- actuellement version 3.12\n",
    "\n",
    "<img src=\"img/guido.jpg\" alt=\"Guido Van Rossum\" style=\"height: 200px\">"
   ]
  },
  {
   "cell_type": "markdown",
   "id": "71d586b7-f48b-40e6-958a-797ceb91325e",
   "metadata": {
    "editable": true,
    "slideshow": {
     "slide_type": "subslide"
    },
    "tags": []
   },
   "source": [
    "- language de haut niveau\n",
    "- syntaxe simple\n",
    "- language interprété\n",
    "- multiplateforme\n",
    "- peut être utilisé pour des scripts simples ou des applications complexes\n",
    "- utilisation croissante pour l'analyse de données et le machine learning"
   ]
  },
  {
   "cell_type": "markdown",
   "id": "cbd157cd-77ed-46c9-bc38-4052bc553704",
   "metadata": {
    "editable": true,
    "slideshow": {
     "slide_type": "slide"
    },
    "tags": []
   },
   "source": [
    "# Installation"
   ]
  },
  {
   "cell_type": "markdown",
   "id": "55fac5af-d6aa-4294-b5eb-6c52cbf66f1d",
   "metadata": {
    "editable": true,
    "slideshow": {
     "slide_type": "subslide"
    },
    "tags": []
   },
   "source": [
    "## Anaconda \n",
    "\n",
    "- distribution Python avec de nombreux packages et outils pré-installés\n",
    "- permet une installation séparée de celle du système d'exploitation\n",
    "- permet de créer des environnements virtuels, c'est à dire différentes installations de Python (versions et/ou packages)\n",
    "- site web : [https://www.anaconda.com](https://www.anaconda.com)\n",
    "\n",
    "<img src=\"img/anaconda.png\" alt=\"Anaconda Logo\" style=\"width: 250px\">"
   ]
  },
  {
   "cell_type": "markdown",
   "id": "63d13c7b-593a-4268-8298-22b95b9fea1b",
   "metadata": {
    "editable": true,
    "slideshow": {
     "slide_type": "subslide"
    },
    "tags": []
   },
   "source": [
    "## L'interpréteur Python\n",
    "\n",
    "L'interpréteur Python exécute le code Python ligne par ligne, permettant une exécution immédiate : \n",
    "- Traduction du code source Python en instructions machine compréhensibles par l'ordinateur.\n",
    "- Interaction interactive via le mode REPL (**Read-Eval-Print Loop**).\n",
    "\n",
    "L'interpréteur Python installé avec Anaconda peut-être démarré en ouvrant un terminal Anaconda (Anaconda Prompt) puis en tapant `python`."
   ]
  },
  {
   "cell_type": "markdown",
   "id": "0b606d15-d641-4951-bee0-7068820651af",
   "metadata": {
    "editable": true,
    "slideshow": {
     "slide_type": "subslide"
    },
    "tags": []
   },
   "source": [
    "## L'interpréteur Jupyter\n",
    "\n",
    "- Un environnement interactif utilisé pour écrire et exécuter du code dans un navigateur.\n",
    "- Idéal pour des démonstrations et des analyses de données.\n",
    "- La distribution **Anaconda** inclut Jupyter Notebook par défaut.\n",
    "- Permet d'exécuter des cellules contenant du code, du texte ou des graphiques.\n",
    "\n",
    "Pour démarrer Jupyter, ouvrir un terminal Anaconda (Anaconda Prompt) puis taper `jupyter-lab`"
   ]
  },
  {
   "cell_type": "markdown",
   "id": "056b38fc-2821-4b73-b08a-9581e6d18dab",
   "metadata": {
    "editable": true,
    "slideshow": {
     "slide_type": "subslide"
    },
    "tags": []
   },
   "source": [
    "## Pratique\n",
    "\n",
    "Démarrer Jupyter-lab et créer un notebook."
   ]
  },
  {
   "cell_type": "markdown",
   "id": "3e75b898-bc6c-48c4-98c2-236edc7e80ee",
   "metadata": {
    "editable": true,
    "slideshow": {
     "slide_type": "slide"
    },
    "tags": []
   },
   "source": [
    "# Règles d'écriture"
   ]
  },
  {
   "cell_type": "markdown",
   "id": "616458ec-cc39-41ab-b334-518a690ddff4",
   "metadata": {
    "editable": true,
    "slideshow": {
     "slide_type": "subslide"
    },
    "tags": []
   },
   "source": [
    "## The Zen of Python\n",
    "\n",
    "Le *Zen of Python*, écrit par Tim Peters, est une collection de principes qui guide la conception de Python. Ces principes peuvent être affichés en tapant `import this` dans un interpréteur Python. Ces principes ne sont pas absolus, mais ils reflètent la philosophie générale de Python et encouragent des pratiques de programmation propres et efficaces.\n",
    "\n",
    "\n",
    "1. **Beautiful is better than ugly.** : La beauté est préférable à la laideur.\n",
    "2. **Explicit is better than implicit.** : L'explicite est préférable à l'implicite.\n",
    "3. **Simple is better than complex.** : La simplicité est préférable à la complexité.\n",
    "4. **Complex is better than complicated.** : La complexité est préférable à la complication.\n",
    "5. **Flat is better than nested.** : Le plat est préférable à l'imbrication.\n",
    "6. **Sparse is better than dense.** : L'aéré est préférable au dense.\n",
    "7. **Readability counts.** : La lisibilité compte.\n",
    "8. **Special cases aren't special enough to break the rules.** : Les cas particuliers ne sont pas suffisamment spéciaux pour briser les règles."
   ]
  },
  {
   "cell_type": "markdown",
   "id": "3fae92e7-c2ad-41d3-8cbf-3190f7927f25",
   "metadata": {
    "editable": true,
    "slideshow": {
     "slide_type": "subslide"
    },
    "tags": []
   },
   "source": [
    "9. **Although practicality beats purity.** : Cependant, la praticité l'emporte sur la pureté.\n",
    "10. **Errors should never pass silently.** : Les erreurs ne devraient jamais passer silencieusement.\n",
    "11. **Unless explicitly silenced.** : Sauf si elles sont explicitement ignorées.\n",
    "12. **In the face of ambiguity, refuse the temptation to guess.** : Face à l'ambiguïté, refusez la tentation de deviner.\n",
    "13. **There should be one-- and preferably only one --obvious way to do it.** : Il devrait y avoir une — et de préférence une seule — manière évidente de le faire.\n",
    "14. **Although that way may not be obvious at first unless you're Dutch.** : Cependant, cette manière peut ne pas être évidente au premier abord, sauf si vous êtes Néerlandais.\n",
    "15. **Now is better than never.** : Maintenant est préférable à jamais.\n",
    "16. **Although never is often better than *right* now.** : Bien que jamais soit souvent préférable à \"tout de suite\".\n",
    "17. **If the implementation is hard to explain, it's a bad idea.** : Si l'implémentation est difficile à expliquer, c'est une mauvaise idée.\n",
    "18. **If the implementation is easy to explain, it may be a good idea.** : Si l'implémentation est facile à expliquer, c'est peut-être une bonne idée.\n",
    "19. **Namespaces are one honking great idea -- let's do more of those!** : Les espaces de noms sont une idée géniale – utilisons-les davantage !"
   ]
  },
  {
   "cell_type": "markdown",
   "id": "c2d62fa0-333d-4d99-a212-8c6a02ca5e8e",
   "metadata": {
    "editable": true,
    "slideshow": {
     "slide_type": "subslide"
    },
    "tags": []
   },
   "source": [
    "## Indentation\n",
    "\n",
    "- Python utilise l'**indentation** pour structurer le code (au lieu des accolades `{}` dans d'autres langages).\n",
    "- Chaque niveau doit être **aligné** (généralement 4 espaces par niveau).\n",
    "\n",
    "_Exemple_ :\n",
    "```python\n",
    "if x > 0:\n",
    "    print(\"x est positif\")\n",
    "else:\n",
    "    print(\"x est négatif ou nul\")\n",
    "```"
   ]
  },
  {
   "cell_type": "markdown",
   "id": "97fdcbb4-05d5-4e90-913a-60cfdf902971",
   "metadata": {
    "editable": true,
    "slideshow": {
     "slide_type": "subslide"
    },
    "tags": []
   },
   "source": [
    "## Sensibilité à la casse\n",
    "\n",
    "Python est sensible à la casse : `Variable` et `variable` sont deux noms différents.  \n",
    "Bonne pratique : utiliser des noms en minuscules pour les variables et des MajusculesInitiales pour les classes."
   ]
  },
  {
   "cell_type": "markdown",
   "id": "4c1a147c-a14e-4c10-9635-147eff68d48f",
   "metadata": {
    "editable": true,
    "slideshow": {
     "slide_type": "subslide"
    },
    "tags": []
   },
   "source": [
    "## Noms de variables\n",
    "Caractères autorisés : Lettres (a-z, A-Z), chiffres (0-9), underscore (_).  \n",
    "Ne pas commencer par un chiffre.  \n",
    "Interdits : Noms réservés comme `if`, `for`, `print`, etc.  \n",
    "\n",
    "Utiliser des noms explicites\n",
    "```python\n",
    "age_utilisateur = 30  # Clair\n",
    "a = 30  # Peu clair\n",
    "```"
   ]
  },
  {
   "cell_type": "markdown",
   "id": "e11be61e-e6d2-4709-8bdd-9d87ffee4687",
   "metadata": {
    "editable": true,
    "slideshow": {
     "slide_type": "subslide"
    },
    "tags": []
   },
   "source": [
    "## Commentaires\n",
    "\n",
    "Commentaires sur une seule ligne : Utiliser `#`.\n",
    "\n",
    "```python\n",
    "print(\"Bonjour\")  # Commentaire en ligne\n",
    "```\n",
    "\n",
    "Commentaires multi-lignes : Utiliser des guillemets triples `\"\"\"` ou `'''`.\n",
    "\n",
    "```python\n",
    "\"\"\"\n",
    "Ce programme calcule la somme\n",
    "de deux nombres.\n",
    "\"\"\"\n",
    "```\n"
   ]
  },
  {
   "cell_type": "markdown",
   "id": "f637999c-912a-46d8-b3ab-c2ecc74bfdae",
   "metadata": {
    "editable": true,
    "slideshow": {
     "slide_type": "subslide"
    },
    "tags": []
   },
   "source": [
    "## Guillemets\n",
    "\n",
    "Python accepte les guillemets simples `'` ou doubles `\"`.\n",
    "```python\n",
    "texte1 = \"Bonjour\"\n",
    "texte2 = 'Bienvenue'\n",
    "```\n",
    "\n",
    "Pour des chaînes contenant des guillemets, alterner ou échapper \n",
    "```python\n",
    "texte1 = \"Il a dit : 'Python est génial !'\"\n",
    "texte2 = \"Il a dit : \\\"Python est génial !\\\"\"\n",
    "```"
   ]
  },
  {
   "cell_type": "markdown",
   "id": "171053a4-69b0-4831-9cdc-7a0e337fbce3",
   "metadata": {
    "editable": true,
    "slideshow": {
     "slide_type": "slide"
    },
    "tags": []
   },
   "source": [
    "# Variables et Types"
   ]
  },
  {
   "cell_type": "markdown",
   "id": "4f37528d-4286-4bd8-a68f-dfbb8c93bf5b",
   "metadata": {
    "editable": true,
    "slideshow": {
     "slide_type": "subslide"
    },
    "tags": []
   },
   "source": [
    "## Création de variable\n",
    "\n",
    "Une variable est une étiquette pour un objet stocké en mémoire. \n",
    "Utilisation du signe `=` \n",
    "\n",
    "```python\n",
    "x = 5  # Affectation d'un entier\n",
    "y = \"Python\"  # Affectation d'une chaîne de caractères\n",
    "print(x, y)  # Affiche : 5 Python\n",
    "```\n",
    "\n",
    "La fonction `print` affiche des valeurs ou des messages dans la console."
   ]
  },
  {
   "cell_type": "markdown",
   "id": "a972fbae-4c3a-4993-95a3-8dfd30f42d0b",
   "metadata": {
    "editable": true,
    "slideshow": {
     "slide_type": "subslide"
    },
    "tags": []
   },
   "source": [
    "## Typage dynamique \n",
    "\n",
    "L'interpréteur Python détermine automatiquement le `type` de la variable, en fonction de la valeur qui lui est affectée.  \n",
    "La fonction `type()` appelée avec une variable en argument retourne le type de la variable.\n",
    "\n",
    "```python\n",
    "x = 42\n",
    "print(type(x))  # Affiche : <class 'int'>\n",
    "x = \"Bonjour\"\n",
    "print(type(x))  # Affiche : <class 'str'>\n",
    "```"
   ]
  },
  {
   "cell_type": "markdown",
   "id": "873b08df-8fbb-42cd-aa8d-6442d13fac17",
   "metadata": {
    "editable": true,
    "slideshow": {
     "slide_type": "subslide"
    },
    "tags": []
   },
   "source": [
    "## Les types intégrés (built-in types)\n",
    "\n",
    "\"Intégré\" signifie que ces types sont fournis par défaut dans Python.  \n",
    "Ces types permettent de :\n",
    "- Représenter des données courantes (nombres, texte, etc.).\n",
    "- Réaliser des opérations de base comme des calculs, des manipulations de texte, ou la gestion de collections."
   ]
  },
  {
   "cell_type": "markdown",
   "id": "a4d2cdd5-e60c-44ff-9e4f-e67988ac93ea",
   "metadata": {
    "editable": true,
    "slideshow": {
     "slide_type": "subslide"
    },
    "tags": []
   },
   "source": [
    "- `None`: Valeur spéciale représentant \"rien\" ou \"absence\" (None).  \n",
    "- `str` : Texte (ex. \"Bonjour\", 'Python')   \n",
    "- `int` : Entiers (ex. 42, -5)\n",
    "- `float` : Nombres décimaux (ex. 3.14, -0.01)\n",
    "- `complex` : Nombres complexes (ex. 3 + 4j)\n",
    "- `bool` : Valeurs logiques (True, False)\n",
    "- `list` : Liste ordonnée, modifiable (ex. `[1, 2, 3]`)\n",
    "- `tuple` : Liste ordonnée, non modifiable (ex. `(1, 2, 3)`)\n",
    "- `dict` : Association clé-valeur (ex. `{\"nom\": \"Alice\", \"âge\": 30}`)\n",
    "- `set` : Ensemble non ordonné, sans doublons (ex. `{1, 2, 3}`)"
   ]
  },
  {
   "cell_type": "markdown",
   "id": "0fc6516a-40cd-4661-a6f8-3453a88f69a2",
   "metadata": {
    "editable": true,
    "slideshow": {
     "slide_type": "slide"
    },
    "tags": []
   },
   "source": [
    "# Les chaînes de caractères"
   ]
  },
  {
   "cell_type": "markdown",
   "id": "3817268f-089a-48e7-8c8c-fd0c3b69a7ff",
   "metadata": {
    "editable": true,
    "slideshow": {
     "slide_type": "subslide"
    },
    "tags": []
   },
   "source": [
    "## Présentation \n",
    "\n",
    "- Une **chaîne de caractères** (type `str`) est une séquence de caractères.\n",
    "- Elle est délimitée par des guillemets simples `'` ou doubles `\"`.\n",
    "\n",
    "_Exemples_ :\n",
    "```python\n",
    "texte1 = \"Bonjour\"\n",
    "texte2 = 'Python est génial !'\n",
    "```"
   ]
  },
  {
   "cell_type": "markdown",
   "id": "24fa0054-edde-424d-9c4b-34bdf13157e2",
   "metadata": {
    "editable": true,
    "slideshow": {
     "slide_type": "subslide"
    },
    "tags": []
   },
   "source": [
    "Indexation possible : Chaque caractère est accessible par son indice.\n",
    "\n",
    "```python\n",
    "texte = \"Python\"\n",
    "print(texte[0])  # Affiche : P\n",
    "print(texte[1]) # Affiche : y\n",
    "```\n",
    "\n",
    "Une fois créées, les chaînes ne peuvent pas être modifiées directement, on dit quelles sont `immuables`.  \n",
    "\n",
    "```python\n",
    "texte[0] = \"L\"\n",
    "---------------------------------------------------------------------------\n",
    "TypeError                                 Traceback (most recent call last)\n",
    "Input In [3], in <cell line: 1>()\n",
    "----> 1 texte[0] = \"L\"\n",
    "\n",
    "TypeError: 'str' object does not support item assignment\n",
    "```"
   ]
  },
  {
   "cell_type": "markdown",
   "id": "f32b9334-c66e-42e2-bed7-2cb13af8e180",
   "metadata": {
    "editable": true,
    "slideshow": {
     "slide_type": "subslide"
    },
    "tags": []
   },
   "source": [
    "## Méthodes courantes pour les chaînes de caractères\n",
    "\n",
    "- **`upper()`** : Convertit la chaîne en majuscules.\n",
    "- **`lower()`** : Convertit la chaîne en minuscules.\n",
    "- **`count(substring)`** : Compte le nombre d’occurrences d’un sous-texte.\n",
    "- **`replace(old, new)`** : Remplace une sous-chaîne par une autre.\n",
    "\n",
    "_Exemples_ : \n",
    "```python\n",
    "texte = \"Bonjour\"\n",
    "print(texte.upper())  # Affiche : BONJOUR\n",
    "print(texte.lower())  # Affiche : bonjour\n",
    "\n",
    "texte = \"Python est Pythonique\"\n",
    "print(texte.count(\"Python\"))  # Affiche : 2\n",
    "print(texte.replace(\"Python\", \"Génial\"))  # Affiche : Génial est Génialique\n",
    "```"
   ]
  },
  {
   "cell_type": "markdown",
   "id": "774ec4ee-d1cc-4842-9553-74e85c8ac43b",
   "metadata": {
    "editable": true,
    "slideshow": {
     "slide_type": "subslide"
    },
    "tags": []
   },
   "source": [
    "## Gestion des espaces et découpage\n",
    "\n",
    "- **`strip()`** : Supprime les espaces au début et à la fin.\n",
    "- **`split(separator)`** : Découpe une chaîne en liste.\n",
    "- **`join(iterable)`** : Assemble une liste en chaîne.\n",
    "\n",
    "_Exemples_ : \n",
    "\n",
    "```python\n",
    "texte = \"  Bonjour Python  \"\n",
    "print(texte.strip())  # Affiche : Bonjour Python\n",
    "\n",
    "texte2 = \"Python est génial\"\n",
    "print(texte2.split())  # Affiche : ['Python', 'est', 'génial']\n",
    "\n",
    "liste = [\"Python\", \"est\", \"génial\"]\n",
    "print(\" \".join(liste))  # Affiche : Python est génial\n",
    "```"
   ]
  },
  {
   "cell_type": "markdown",
   "id": "e9c8d75e-f309-4738-a8b3-575e3f7e376d",
   "metadata": {
    "editable": true,
    "slideshow": {
     "slide_type": "subslide"
    },
    "tags": []
   },
   "source": [
    "## Les f-strings\n",
    "\n",
    "- Pour formater les chaînes.\n",
    "- Permettent d’insérer des variables ou des expressions directement dans une chaîne.\n",
    "- Syntaxe : **`f\"texte {variable}\"`**\n",
    "\n",
    "_Exemples_ :\n",
    "```python\n",
    "nom = \"Alice\"\n",
    "age = 30\n",
    "\n",
    "print(f\"Bonjour {nom}, vous avez {age} ans.\")\n",
    "# Affiche : Bonjour Alice, vous avez 30 ans.\n",
    "\n",
    "# Calculs dans les f-strings\n",
    "print(f\"5 + 3 = {5 + 3}\")\n",
    "# Affiche : 5 + 3 = 8\n",
    "```"
   ]
  },
  {
   "cell_type": "markdown",
   "id": "5e44c9ea-272b-4d5b-b053-1aea952a27e4",
   "metadata": {
    "editable": true,
    "slideshow": {
     "slide_type": "subslide"
    },
    "tags": []
   },
   "source": [
    "## Pratique\n",
    "\n",
    "### Exercice 1 : Manipuler la casse\n",
    "1. Déclarez une variable contenant le texte : `\"Python est amusant !\"`.\n",
    "2. Convertissez cette chaîne en majuscules.\n",
    "3. Convertissez cette chaîne en minuscules.\n",
    "4. Affichez les résultats avec la fonction `print`."
   ]
  },
  {
   "cell_type": "markdown",
   "id": "972d36b8-34f7-4869-beda-ad5c802a3925",
   "metadata": {
    "editable": true,
    "slideshow": {
     "slide_type": "subslide"
    },
    "tags": []
   },
   "source": [
    "### Exercice 2 : Compter et remplacer\n",
    "\n",
    "1. Déclarez une chaîne contenant : `\"Python est Pythonique car Python est simple.\"`\n",
    "2. Comptez combien de fois le mot `\"Python\"` apparaît dans cette chaîne.\n",
    "3. Remplacez tous les `\"Python\"` par `\"Génial\"`.\n",
    "4. Affichez les résultats."
   ]
  },
  {
   "cell_type": "markdown",
   "id": "611e9e38-db18-476b-818f-6a3b85413b87",
   "metadata": {
    "editable": true,
    "slideshow": {
     "slide_type": "subslide"
    },
    "tags": []
   },
   "source": [
    "### Exercice 3 : Découper et assembler\n",
    "\n",
    "1. Déclarez une chaîne contenant : `\"Apprendre Python pas à pas\"`.\n",
    "2. Séparez cette chaîne en une liste de mots.\n",
    "3. Réassemblez les mots en une nouvelle chaîne, séparés par un tiret `\"-\"`.\n",
    "4. Affichez la liste des mots et la nouvelle chaîne."
   ]
  },
  {
   "cell_type": "markdown",
   "id": "4dede1c0-33d9-44a9-b3b9-4834f4ae7032",
   "metadata": {
    "editable": true,
    "slideshow": {
     "slide_type": "subslide"
    },
    "tags": []
   },
   "source": [
    "### Exercice 4 : Les f-strings\n",
    "\n",
    "1. Déclarez deux variables : `nom = \"Alice\"` et `age = 25`.\n",
    "2. Utilisez un f-string pour afficher : `\"Bonjour Alice, vous avez 25 ans.\"`\n",
    "3. Modifiez la variable `age` en lui ajoutant 5, et affichez à nouveau la phrase : `\"Bonjour Alice, vous aurez 30 ans dans 5 ans.\"`"
   ]
  },
  {
   "cell_type": "markdown",
   "id": "ed085a77-c875-49e3-90ed-bf88cef4ec7f",
   "metadata": {
    "editable": true,
    "slideshow": {
     "slide_type": "subslide"
    },
    "tags": []
   },
   "source": [
    "### Exercice 5 : Combiner les méthodes\n",
    "\n",
    "1. Déclarez une chaîne : `\"   Python est simple mais puissant.   \"`\n",
    "2. Supprimez les espaces au début et à la fin de la chaîne.\n",
    "3. Convertissez la chaîne en majuscules.\n",
    "4. Remplacez `\"PUISSANT\"` par `\"INCROYABLE\"`.\n",
    "5. Séparez les mots dans une liste et affichez-les."
   ]
  },
  {
   "cell_type": "markdown",
   "id": "c9f3f797-bdd9-4ad1-8fa7-c2a9a6542fe7",
   "metadata": {
    "editable": true,
    "slideshow": {
     "slide_type": "slide"
    },
    "tags": []
   },
   "source": [
    "# Les types numériques"
   ]
  },
  {
   "cell_type": "markdown",
   "id": "46cc2f9c-27b8-4894-a25f-99c316d29d0e",
   "metadata": {
    "editable": true,
    "slideshow": {
     "slide_type": "subslide"
    },
    "tags": []
   },
   "source": [
    "## Liste des types et caractéristiques \n",
    "\n",
    "- **int** : Entiers (ex. `42`, `-5`)\n",
    "- **float** : Nombres décimaux (ex. `3.14`, `-0.01`)\n",
    "- **complex** : Nombres complexes (ex. `2 + 3j`)\n",
    "\n",
    "**Caractéristiques**\n",
    "- Les entiers (`int`) peuvent être de taille illimitée.\n",
    "- Les flottants (`float`) utilisent une précision limitée (base 64 bits).\n",
    "- Les conversions entre types se font facilement\n",
    "\n",
    "```python\n",
    "  print(float(42))  # 42.0\n",
    "  print(int(3.14))  # 3\n",
    "  print(complex(2, 3))  # (2+3j)\n",
    "```"
   ]
  },
  {
   "cell_type": "markdown",
   "id": "81615b50-6b03-4713-a03c-4d832643b014",
   "metadata": {
    "editable": true,
    "slideshow": {
     "slide_type": "subslide"
    },
    "tags": []
   },
   "source": [
    "## Opérations sur les types numériques\n",
    "\n",
    "- Addition : `+`\n",
    "- Soustraction : `-`\n",
    "- Multiplication : `*`\n",
    "- Division : `/`\n",
    "- Division entière : `//`\n",
    "- Modulo : `%`\n",
    "- Puissance : `**`\n",
    "\n",
    "_Exemples_ :\n",
    "```python\n",
    "print(10 + 3)  # 13\n",
    "print(10 // 3)  # 3\n",
    "print(2 ** 3)  # 8\n",
    "print(10 % 3)  # 1\n",
    "```"
   ]
  },
  {
   "cell_type": "markdown",
   "id": "706870d0-3993-407c-b868-e747d221a5ca",
   "metadata": {
    "editable": true,
    "slideshow": {
     "slide_type": "subslide"
    },
    "tags": []
   },
   "source": [
    "## Fonctions courantes\n",
    "- `abs(x)` : Valeur absolue.\n",
    "- `round(x, n)` : Arrondit x à n décimales.\n",
    "- `pow(x, y)` : Puissance de x à la y.\n",
    "- `divmod(a, b)` : Retourne `(a // b, a % b)`.\n",
    "\n",
    "_Exemples_ :\n",
    "```python\n",
    "print(abs(-42))  # 42\n",
    "print(round(3.14159, 2))  # 3.14\n",
    "print(pow(2, 3))  # 8\n",
    "print(divmod(10, 3))  # (3, 1)\n",
    "```"
   ]
  },
  {
   "cell_type": "markdown",
   "id": "dcedf45b-32f7-467d-b3cc-3f8299150a4b",
   "metadata": {
    "editable": true,
    "slideshow": {
     "slide_type": "subslide"
    },
    "tags": []
   },
   "source": [
    "## Le module `math`\n",
    "\n",
    "Contient des attributs et méthodes utiles :  \n",
    "- `sqrt(x)` : Racine carrée.\n",
    "- `log(x)` : Logarithme naturel.\n",
    "- `sin(x)`, `cos(x)` : Fonctions trigonométriques.\n",
    "- `pi` : le nombre Pi\n",
    "\n",
    "```python\n",
    "import math\n",
    "print(math.sqrt(16))  # 4.0\n",
    "print(math.log(10))  # 2.302585...\n",
    "```"
   ]
  },
  {
   "cell_type": "markdown",
   "id": "a60c3abc-8a70-4cab-8217-376d6003b0e5",
   "metadata": {
    "editable": true,
    "slideshow": {
     "slide_type": "subslide"
    },
    "tags": []
   },
   "source": [
    "## Le module `decimal`\n",
    "\n",
    "- En Python, les flottants (`float`) sont représentés selon la norme **IEEE 754** (base 64 bits).\n",
    "- Cette représentation peut entraîner des erreurs d’arrondi, comme :\n",
    "  ```python\n",
    "  print(0.1 + 0.2)  # Affiche : 0.30000000000000004\n",
    "  ```\n",
    "\n",
    "Le module decimal permet de manipuler des nombres en évitant ces erreurs.  \n",
    "\n",
    "```python\n",
    "from decimal import Decimal\n",
    "x = Decimal(\"0.1\")\n",
    "y = Decimal(\"0.2\")\n",
    "print(x + y)  # Affiche : 0.3\n",
    "```\n",
    "\n",
    "Utiliser des chaînes de caractères pour initialiser les `Decimal`."
   ]
  },
  {
   "cell_type": "markdown",
   "id": "0ca81dca-5c9f-4349-a58d-cfe701f75818",
   "metadata": {
    "editable": true,
    "slideshow": {
     "slide_type": "subslide"
    },
    "tags": []
   },
   "source": [
    "La précision peut être configurée avec `getcontext`\n",
    "\n",
    "```python\n",
    "from decimal import Decimal, getcontext\n",
    "getcontext().prec = 50  # Définit la précision à 50 chiffres\n",
    "\n",
    "x = Decimal(\"1\") / Decimal(\"7\")\n",
    "print(x)  # Affiche : 0.14285714285714285714285714285714285714285714285714\n",
    "```\n",
    "\n",
    "Le module `decimal` est adapté aux applications financières, scientifiques ou toute situation où les erreurs d’arrondi doivent être évitées. Mais, attention , il est plus lent que les flottants natifs, car Decimal effectue des calculs supplémentaires pour maintenir la précision."
   ]
  },
  {
   "cell_type": "markdown",
   "id": "4cc30976-8839-44df-bb7a-d54d7ae16990",
   "metadata": {
    "editable": true,
    "slideshow": {
     "slide_type": "subslide"
    },
    "tags": []
   },
   "source": [
    "## Pratique\n",
    "\n",
    "### Exercice 1 : Opérations simples\n",
    "- Créez deux variables a et b contenant respectivement les valeurs 15 et 7.\n",
    "- Calculez et affichez :\n",
    "    + La somme de a et b.\n",
    "    + Leur différence.\n",
    "    + Leur produit.\n",
    "    + Le quotient (division).\n",
    "    + Le reste de la division de a par b."
   ]
  },
  {
   "cell_type": "markdown",
   "id": "53c44408-a62c-49d1-bfd7-41823536b32b",
   "metadata": {
    "editable": true,
    "slideshow": {
     "slide_type": "subslide"
    },
    "tags": []
   },
   "source": [
    "### Exercice 2 : Puissance et racine carrée\n",
    "\n",
    "- Calculez $2^8$ (2 puissance 8).\n",
    "- La racine carrée de 144 (utilisez le module math)."
   ]
  },
  {
   "cell_type": "markdown",
   "id": "0df4c8e1-4ab7-49b6-a1b9-9e903dab1281",
   "metadata": {
    "editable": true,
    "slideshow": {
     "slide_type": "subslide"
    },
    "tags": []
   },
   "source": [
    "### Exercice 3 : Calculs avec des flottants\n",
    "\n",
    "- Déclarez deux nombres flottants x = 0.1 et y = 0.2.\n",
    "- Calculez et affichez :\n",
    "    - Leur somme (montrez l'erreur d'arrondi de Python).\n",
    "    - Leur somme précise en utilisant le module decimal."
   ]
  },
  {
   "cell_type": "markdown",
   "id": "442161bc-679d-407b-875f-8e7fa3f22ac5",
   "metadata": {
    "editable": true,
    "slideshow": {
     "slide_type": "subslide"
    },
    "tags": []
   },
   "source": [
    "### Exercice 4 : Utilisation de divmod()\n",
    "\n",
    "- Déclarez deux variables a = 50 et b = 6.\n",
    "- Utilisez la fonction divmod() pour obtenir :\n",
    "    - Le quotient entier.\n",
    "    - Le reste.\n",
    "- Affichez les résultats séparément."
   ]
  },
  {
   "cell_type": "markdown",
   "id": "b493a4d2-8ce8-4f37-947a-cab865208000",
   "metadata": {
    "editable": true,
    "slideshow": {
     "slide_type": "slide"
    },
    "tags": []
   },
   "source": [
    "# Le type booléen"
   ]
  },
  {
   "cell_type": "markdown",
   "id": "638bd589-fae0-401f-ac43-7efa0c5c4de7",
   "metadata": {
    "editable": true,
    "slideshow": {
     "slide_type": "subslide"
    },
    "tags": []
   },
   "source": [
    "## Présentation\n",
    "\n",
    "- Un booléen peut être :\n",
    "  - `True` : Vrai\n",
    "  - `False` : Faux\n",
    "- Utilisé pour contrôler la logique des programmes :\n",
    "  - Conditions\n",
    "  - Boucles\n",
    "  - Expressions logiques"
   ]
  },
  {
   "cell_type": "markdown",
   "id": "c7366fb4-1342-42be-8cef-08772ddf5a0b",
   "metadata": {
    "editable": true,
    "slideshow": {
     "slide_type": "subslide"
    },
    "tags": []
   },
   "source": [
    "## Fonction `bool()`\n",
    "\n",
    "- En Python, tout objet peut être converti en booléen.\n",
    "- Les valeurs suivantes sont `False` :\n",
    "  - `0`, `0.0`\n",
    "  - `None`\n",
    "  - Chaîne vide : `\"\"`\n",
    "  - Liste/dictionnaire/vecteur vide : `[]`, `{}`\n",
    "\n",
    "_Exemples_ :\n",
    "```python\n",
    "print(bool(0))      # False\n",
    "print(bool(42))     # True\n",
    "print(bool(\"\"))     # False\n",
    "print(bool(\"Hello\")) # True\n",
    "```"
   ]
  },
  {
   "cell_type": "markdown",
   "id": "249e605f-6a7b-4b56-b07f-04c89636f591",
   "metadata": {
    "editable": true,
    "slideshow": {
     "slide_type": "subslide"
    },
    "tags": []
   },
   "source": [
    "## Les opérateurs logiques\n",
    "\n",
    "- **`and`** : Vrai si **les deux** conditions sont vraies.\n",
    "- **`or`** : Vrai si **au moins une** condition est vraie.\n",
    "- **`not`** : Inverse la valeur logique.\n",
    "\n",
    "_Exemples_ :\n",
    "```python\n",
    "a = True\n",
    "b = False\n",
    "\n",
    "print(a and b)  # False\n",
    "print(a or b)   # True\n",
    "print(not a)    # False\n",
    "```"
   ]
  },
  {
   "cell_type": "markdown",
   "id": "3b95eda3-9fd3-4e0c-8998-d5ccd978402f",
   "metadata": {
    "editable": true,
    "slideshow": {
     "slide_type": "subslide"
    },
    "tags": []
   },
   "source": [
    "## Les opérateurs de comparaison\n",
    "\n",
    "- Égalité : `==`\n",
    "- Différence : `!=`\n",
    "- Plus grand/plus petit : `>`, `<`, `>=`, `<=`\n",
    "\n",
    "_Exemple_ :\n",
    "```python\n",
    "x = 10\n",
    "y = 20\n",
    "\n",
    "print(x > y)   # False\n",
    "print(x == 10) # True\n",
    "```"
   ]
  },
  {
   "cell_type": "markdown",
   "id": "d4bb71d2-2031-4827-8296-fc04e32adb55",
   "metadata": {
    "editable": true,
    "slideshow": {
     "slide_type": "subslide"
    },
    "tags": []
   },
   "source": [
    "## Pratique\n",
    "\n",
    "### Exercice 1 : Comprendre les booléens\n",
    "\n",
    "Déclarez deux variables :\n",
    "```python\n",
    "a = True\n",
    "b = False\n",
    "```\n",
    "Calculez et affichez :\n",
    "```python\n",
    "a and b\n",
    "a or b\n",
    "not a\n",
    "```"
   ]
  },
  {
   "cell_type": "markdown",
   "id": "1be60ecd-f5ea-4eb8-8ce0-699336002d56",
   "metadata": {
    "editable": true,
    "slideshow": {
     "slide_type": "subslide"
    },
    "tags": []
   },
   "source": [
    "### Exercice 2 : Conversion en booléen\n",
    "\n",
    "Déclarez les variables suivantes :\n",
    "```python\n",
    "x = 0\n",
    "y = 42\n",
    "texte = \"\"\n",
    "texte2 = \"Python\"\n",
    "```\n",
    "\n",
    "Affichez leur conversion en booléen avec bool()."
   ]
  },
  {
   "cell_type": "markdown",
   "id": "1de02577-d5b8-459f-951f-286b7e735bf1",
   "metadata": {
    "editable": true,
    "slideshow": {
     "slide_type": "subslide"
    },
    "tags": []
   },
   "source": [
    "### Exercice 3 : Comparaisons\n",
    "\n",
    "- Déclarez deux variables `a = 10` et `b = 20`.\n",
    "- Effectuez et affichez les comparaisons suivantes :\n",
    "    - `a > b`\n",
    "    - `a == b`\n",
    "    - `a <= b`\n",
    "    - `a != b`"
   ]
  },
  {
   "cell_type": "markdown",
   "id": "e96eea25-5b1f-4d9a-b622-09d45b4c6144",
   "metadata": {
    "editable": true,
    "slideshow": {
     "slide_type": "subslide"
    },
    "tags": []
   },
   "source": [
    "### Exercice 4 : Expression logique combinée\n",
    "\n",
    "- Déclarez une variable `x = 15`.\n",
    "- Évaluez et affichez les expressions suivantes :\n",
    "    - `(x > 10) and (x < 20)`\n",
    "    - `(x < 10) or (x == 15)`\n",
    "    - `not (x == 15)`"
   ]
  },
  {
   "cell_type": "markdown",
   "id": "7df45174-3333-4258-8d60-e981027d78ef",
   "metadata": {
    "editable": true,
    "slideshow": {
     "slide_type": "slide"
    },
    "tags": []
   },
   "source": [
    "# La liste"
   ]
  },
  {
   "cell_type": "markdown",
   "id": "98cb068d-d831-4d00-a325-c3398ba4584f",
   "metadata": {
    "editable": true,
    "slideshow": {
     "slide_type": "subslide"
    },
    "tags": []
   },
   "source": [
    "## Présentation\n",
    "\n",
    "- Une liste est une collection **ordonnée** et **modifiable** : les éléments ont un index, de `0` à `len(liste)-1`.\n",
    "- Elle peut contenir des éléments de types différents.\n",
    "- Définie par des crochets `[]` et séparée par des virgules.\n",
    "\n",
    "_Exemple_ :\n",
    "```python\n",
    "ma_liste1 = [1, 2, 3, \"Python\", True]\n",
    "print(ma_liste1)  # [1, 2, 3, 'Python', True]\n",
    "\n",
    "ma_liste2 = [\"a\", \"b\", \"c\"]\n",
    "print(ma_liste2[0])  # 'a' (1er élément)\n",
    "print(ma_liste2[-1]) # 'c' (dernier élément)\n",
    "```"
   ]
  },
  {
   "cell_type": "markdown",
   "id": "79074032-940b-4995-b3c7-80251e43be72",
   "metadata": {
    "editable": true,
    "slideshow": {
     "slide_type": "subslide"
    },
    "tags": []
   },
   "source": [
    "## Ajouter des éléments\n",
    "\n",
    "1. **`append(element)`** : Ajoute un élément à la fin.\n",
    "2. **`extend(iterable)`** : Ajoute plusieurs éléments à la fin.\n",
    "3. **`insert(index, element)`** : Insère un élément à un index spécifique.\n",
    "\n",
    "_Exemple_ :\n",
    "```python\n",
    "ma_liste = [1, 2, 3]\n",
    "ma_liste.append(4)       # [1, 2, 3, 4]\n",
    "ma_liste.extend([5, 6])  # [1, 2, 3, 4, 5, 6]\n",
    "ma_liste.insert(2, \"X\")  # [1, 2, 'X', 3, 4, 5, 6]\n",
    "```"
   ]
  },
  {
   "cell_type": "markdown",
   "id": "9abe2a24-57c5-4d93-9549-d0e47404a10b",
   "metadata": {
    "editable": true,
    "slideshow": {
     "slide_type": "subslide"
    },
    "tags": []
   },
   "source": [
    "## Supprimer des éléments\n",
    "\n",
    "- **`remove(element)`** : Supprime la 1re occurrence d’un élément.\n",
    "- **`pop(index)`** : Supprime l’élément à un index (par défaut, le dernier).\n",
    "- **`clear()`** : Vide complètement la liste.\n",
    "\n",
    "```python\n",
    "ma_liste = [1, 2, 3, 4]\n",
    "ma_liste.remove(3)   # [1, 2, 4]\n",
    "ma_liste.pop(1)      # [1, 4]\n",
    "ma_liste.clear()     # []\n",
    "```"
   ]
  },
  {
   "cell_type": "markdown",
   "id": "6ca92424-0394-40e1-ab4b-741c3a9746df",
   "metadata": {
    "editable": true,
    "slideshow": {
     "slide_type": "subslide"
    },
    "tags": []
   },
   "source": [
    "## Trier et inverser une liste\n",
    "\n",
    "1. **`sort()`** : Trie une liste en place (croissant par défaut).\n",
    "2. **`reverse()`** : Inverse l’ordre des éléments.\n",
    "\n",
    "_Exemple_ :\n",
    "```python\n",
    "ma_liste = [4, 1, 3, 2]\n",
    "ma_liste.sort()      # [1, 2, 3, 4]\n",
    "ma_liste.reverse()   # [4, 3, 2, 1]\n",
    "```"
   ]
  },
  {
   "cell_type": "markdown",
   "id": "14164636-9d34-4d46-8b3f-1e06c21af143",
   "metadata": {
    "editable": true,
    "slideshow": {
     "slide_type": "subslide"
    },
    "tags": []
   },
   "source": [
    "## Autres méthodes utiles\n",
    "\n",
    "- **`count(element)`** : Retourne le nombre d'occurrences d’un élément.\n",
    "- **`index(element)`** : Retourne l’index de la 1re occurrence d’un élément.\n",
    "\n",
    "```python\n",
    "ma_liste = [1, 2, 3, 2, 1]\n",
    "print(ma_liste.count(2))  # 2\n",
    "print(ma_liste.index(3))  # 2\n",
    "```"
   ]
  },
  {
   "cell_type": "markdown",
   "id": "46d83e0f-280f-4b8e-9053-0fdcef823c59",
   "metadata": {
    "editable": true,
    "slideshow": {
     "slide_type": "subslide"
    },
    "tags": []
   },
   "source": [
    "## Accéder à des sous-listes (découpage ou \"slicing\")\n",
    "\n",
    "```python\n",
    "ma_liste = [0, 1, 2, 3, 4, 5]\n",
    "print(ma_liste[1:4])  # [1, 2, 3]\n",
    "print(ma_liste[:3])   # [0, 1, 2]\n",
    "print(ma_liste[3:])   # [3, 4, 5]\n",
    "```"
   ]
  },
  {
   "cell_type": "markdown",
   "id": "00984bf4-74ef-45f8-9e81-f5915ef5e96c",
   "metadata": {
    "editable": true,
    "slideshow": {
     "slide_type": "subslide"
    },
    "tags": []
   },
   "source": [
    "## Parcourir une liste avec une boucle for\n",
    "\n",
    "Par valeur \n",
    "\n",
    "```python\n",
    "ma_liste = [\"Python\", \"est\", \"génial\"]\n",
    "for element in ma_liste:\n",
    "    print(element)\n",
    "# Affiche : Python, est, génial\n",
    "```\n",
    "\n",
    "Par index et valeur avec `enumerate`\n",
    "\n",
    "```python\n",
    "ma_liste = [\"Python\", \"est\", \"génial\"]\n",
    "for index, element in enumerate(ma_liste):\n",
    "    print(f\"{index}: {element}\")\n",
    "# Affiche : 0: Python, 1: est, 2: génial\n",
    "```"
   ]
  },
  {
   "cell_type": "markdown",
   "id": "288a1b72-7c1d-4f2e-875d-2881d26c53a0",
   "metadata": {
    "editable": true,
    "slideshow": {
     "slide_type": "subslide"
    },
    "tags": []
   },
   "source": [
    "## Pratique\n",
    "\n",
    "### Exercice 1 : Création et accès aux éléments\n",
    "\n",
    "- Créez une liste contenant les éléments suivants : \"Python\", \"Java\", \"C++\", \"Ruby\".\n",
    "- Affichez :\n",
    "    - Le premier élément.\n",
    "    - Le dernier élément.\n",
    "    - Les deux premiers éléments (en utilisant le slicing)."
   ]
  },
  {
   "cell_type": "markdown",
   "id": "cab25b7e-4936-4fff-9363-ba834fba3fb7",
   "metadata": {
    "editable": true,
    "slideshow": {
     "slide_type": "subslide"
    },
    "tags": []
   },
   "source": [
    "### Exercice 2 : Ajouter et supprimer des éléments\n",
    "\n",
    "- Créez une liste vide.\n",
    "- Ajoutez successivement les nombres 1, 2 et 3 à la liste.\n",
    "- Supprimez le deuxième élément (index 1).\n",
    "- Affichez la liste après chaque opération."
   ]
  },
  {
   "cell_type": "markdown",
   "id": "6d4a0136-3efe-4712-bad9-457728c1fcbf",
   "metadata": {
    "editable": true,
    "slideshow": {
     "slide_type": "subslide"
    },
    "tags": []
   },
   "source": [
    "### Exercice 3 : Parcourir une liste\n",
    "\n",
    "- Créez une liste contenant les nombres de 1 à 5.\n",
    "- Parcourez la liste avec une boucle et affichez chaque élément multiplié par 2."
   ]
  },
  {
   "cell_type": "markdown",
   "id": "e41e3581-522b-4a02-bbca-3a2e2b863664",
   "metadata": {
    "editable": true,
    "slideshow": {
     "slide_type": "subslide"
    },
    "tags": []
   },
   "source": [
    "### Exercice 4 : Trier et inverser une liste\n",
    "\n",
    "- Créez une liste contenant les nombres suivants : 4, 1, 3, 2.\n",
    "- Triez la liste en ordre croissant.\n",
    "- Inversez l’ordre des éléments.\n",
    "- Affichez les résultats après chaque opération."
   ]
  },
  {
   "cell_type": "markdown",
   "id": "d9c695ad-df46-4150-9327-1f35db4f44bb",
   "metadata": {
    "editable": true,
    "slideshow": {
     "slide_type": "subslide"
    },
    "tags": []
   },
   "source": [
    "### Exercice 5 : Méthodes count et index\n",
    "\n",
    "- Créez une liste contenant : `[1, 2, 3, 2, 4, 2]`.\n",
    "- Comptez combien de fois le nombre 2 apparaît dans la liste.\n",
    "- Trouvez l’index de la première occurrence du nombre 3."
   ]
  },
  {
   "cell_type": "markdown",
   "id": "5d81b2e6-6c40-43ec-b6d6-38d068699b2d",
   "metadata": {
    "editable": true,
    "slideshow": {
     "slide_type": "subslide"
    },
    "tags": []
   },
   "source": [
    "### Exercice 6 : Sous-listes (slicing)\n",
    "\n",
    "- Créez une liste contenant les nombres de 0 à 9.\n",
    "- Extrayez et affichez :\n",
    "    - Les trois premiers éléments.\n",
    "    - Les trois derniers éléments.\n",
    "    - Les éléments situés aux index pairs (0, 2, 4…)."
   ]
  },
  {
   "cell_type": "markdown",
   "id": "aff5c836-c82d-4b75-b3f3-9f39d8f38ddd",
   "metadata": {
    "editable": true,
    "slideshow": {
     "slide_type": "slide"
    },
    "tags": []
   },
   "source": [
    "# Le tuple"
   ]
  },
  {
   "cell_type": "markdown",
   "id": "0d6b45ab-363d-4498-8227-9a1cede72318",
   "metadata": {
    "editable": true,
    "slideshow": {
     "slide_type": "subslide"
    },
    "tags": []
   },
   "source": [
    "## Présentation\n",
    "\n",
    "- Un **tuple** est une collection **ordonnée** et **non modifiable** (*immuable*, une fois créé, un tuple ne peut pas être modifié).\n",
    "- Comme les listes, un tuple peut contenir des éléments de types différents.\n",
    "- Délimité par des parenthèses `()`.\n",
    "\n",
    "_Exemple_ :\n",
    "```python\n",
    "mon_tuple = (1, 2, 3, \"Python\", True)\n",
    "print(mon_tuple)  # (1, 2, 3, 'Python', True)\n",
    "```"
   ]
  },
  {
   "cell_type": "markdown",
   "id": "412d88bc-525d-4d07-b198-da5111684f4d",
   "metadata": {
    "editable": true,
    "slideshow": {
     "slide_type": "subslide"
    },
    "tags": []
   },
   "source": [
    "## Avantages des tuples\n",
    "\n",
    "1. **Immuabilité** :\n",
    "   - Idéal pour des données constantes.\n",
    "   - Plus sûr, car les tuples ne peuvent pas être modifiés accidentellement.\n",
    "2. **Efficacité** :\n",
    "   - Les tuples sont généralement plus rapides que les listes.\n",
    "3. **Clé dans un dictionnaire** :\n",
    "   - Les tuples peuvent être utilisés comme clés (contrairement aux listes).\n",
    "\n",
    "_Cas d'utilisation_ :\n",
    "```python\n",
    "coordonnees = (43.6, 3.9)  # Latitude, longitude\n",
    "jours_semaine = (\"lundi\", \"mardi\", \"mercredi\", \"jeudi\", \"vendredi\")\n",
    "```"
   ]
  },
  {
   "cell_type": "markdown",
   "id": "82e16b32-df57-4ddf-a480-3083f3130925",
   "metadata": {
    "editable": true,
    "slideshow": {
     "slide_type": "subslide"
    },
    "tags": []
   },
   "source": [
    "## Accès aux éléments\n",
    "\n",
    "- Comme les listes, on utilise les **indices** pour accéder aux éléments.\n",
    "- **Découpage (slicing)** est également possible.\n",
    "\n",
    "_Exemple_ :\n",
    "```python\n",
    "mon_tuple = (10, 20, 30, 40, 50)\n",
    "print(mon_tuple[1])    # 20\n",
    "print(mon_tuple[:3])   # (10, 20, 30)\n",
    "print(mon_tuple[-2:])  # (40, 50)\n",
    "```"
   ]
  },
  {
   "cell_type": "markdown",
   "id": "f7064c2f-507d-4105-ac95-1f3431466ebf",
   "metadata": {
    "editable": true,
    "slideshow": {
     "slide_type": "subslide"
    },
    "tags": []
   },
   "source": [
    "## Opérations courantes\n",
    "\n",
    "- Concaténation : Ajouter deux tuples ensemble.\n",
    "- Répétition : Répéter un tuple plusieurs fois.\n",
    "\n",
    "```python\n",
    "t1 = (1, 2, 3)\n",
    "t2 = (4, 5)\n",
    "print(t1 + t2)   # (1, 2, 3, 4, 5)\n",
    "print(t1 * 2)    # (1, 2, 3, 1, 2, 3)\n",
    "```"
   ]
  },
  {
   "cell_type": "markdown",
   "id": "28c6a7fd-3cd7-46ab-a521-75b7fded9aee",
   "metadata": {
    "editable": true,
    "slideshow": {
     "slide_type": "subslide"
    },
    "tags": []
   },
   "source": [
    "## Vérification d'appartenance\n",
    "\n",
    "`in` : Vérifie si un élément est dans un tuple.\n",
    "\n",
    "```python\n",
    "mon_tuple = (1, 2, 3, 4)\n",
    "print(3 in mon_tuple)   # True\n",
    "print(5 in mon_tuple)   # False\n",
    "```"
   ]
  },
  {
   "cell_type": "markdown",
   "id": "f5f81a56-fce6-4b2c-8c14-3000d1267054",
   "metadata": {
    "editable": true,
    "slideshow": {
     "slide_type": ""
    },
    "tags": []
   },
   "source": [
    "## Méthodes\n",
    "\n",
    "- **`count(element)`** : Compte le nombre d’occurrences d’un élément.\n",
    "- **`index(element)`** : Retourne l’index de la première occurrence d’un élément.\n",
    "\n",
    "_Exemple_ :\n",
    "```python\n",
    "mon_tuple = (1, 2, 2, 3, 4)\n",
    "print(mon_tuple.count(2))  # 2\n",
    "print(mon_tuple.index(3))  # 3\n",
    "```"
   ]
  },
  {
   "cell_type": "markdown",
   "id": "5021ab3f-ba6f-49fd-999a-fd31979f7e7d",
   "metadata": {
    "editable": true,
    "slideshow": {
     "slide_type": "subslide"
    },
    "tags": []
   },
   "source": [
    "## Conversion entre liste et tuple\n",
    "\n",
    "**tuple vers liste**\n",
    "\n",
    "```python\n",
    "t = (1, 2, 3)\n",
    "l = list(t)\n",
    "print(l)  # [1, 2, 3]\n",
    "```\n",
    "\n",
    "**liste vers tuple**\n",
    "\n",
    "```python\n",
    "l = [4, 5, 6]\n",
    "t = tuple(l)\n",
    "print(t)  # (4, 5, 6)\n",
    "```"
   ]
  },
  {
   "cell_type": "markdown",
   "id": "a7d21be4-7516-42f6-9e93-a73484280de0",
   "metadata": {
    "editable": true,
    "slideshow": {
     "slide_type": "subslide"
    },
    "tags": []
   },
   "source": [
    "## Itération et déballage\n",
    "\n",
    "**Itération** \n",
    "\n",
    "```python\n",
    "mon_tuple = (\"a\", \"b\", \"c\")\n",
    "for element in mon_tuple:\n",
    "    print(element)\n",
    "# Affiche : a, b, c\n",
    "```\n",
    "\n",
    "**Déballage**\n",
    "\n",
    "```python\n",
    "coordonnees = (43.6, 3.9)\n",
    "latitude, longitude = coordonnees\n",
    "print(latitude)  # 43.6\n",
    "print(longitude) # 3.9\n",
    "```"
   ]
  },
  {
   "cell_type": "markdown",
   "id": "078cdf77-4a6b-48dd-b8d6-04937a1ccd32",
   "metadata": {
    "editable": true,
    "slideshow": {
     "slide_type": "subslide"
    },
    "tags": []
   },
   "source": [
    "## La fonction `zip`\n",
    "\n",
    "- La fonction **`zip`** combine plusieurs collections (listes, tuples, etc.) **élément par élément**.\n",
    "- Retourne un objet `zip` contenant des **tuples** regroupant les éléments correspondants de chaque collection.\n",
    "- Les collections doivent avoir des tailles similaires pour que tous les éléments soient pris en compte.\n",
    "- Si les collections ont des longueurs différentes, zip s'arrête au plus court.\n",
    "\n",
    "_Exemple_ :\n",
    "\n",
    "```python\n",
    "noms = [\"Alice\", \"Bob\", \"Charlie\"]\n",
    "ages = [25, 30, 35]\n",
    "\n",
    "resultat = zip(noms, ages)\n",
    "print(list(resultat))  # [('Alice', 25), ('Bob', 30), ('Charlie', 35)]\n",
    "```"
   ]
  },
  {
   "cell_type": "markdown",
   "id": "cc466dea-8cae-48cf-b49f-d90c10ed0b4d",
   "metadata": {
    "editable": true,
    "slideshow": {
     "slide_type": "subslide"
    },
    "tags": []
   },
   "source": [
    "`*` pour \"dézipper\" des collections combinées.\n",
    "\n",
    "```python\n",
    "combines = [(\"Alice\", 25), (\"Bob\", 30), (\"Charlie\", 35)]\n",
    "noms, ages = zip(*combines)\n",
    "\n",
    "print(noms)  # ('Alice', 'Bob', 'Charlie')\n",
    "print(ages)  # (25, 30, 35)\n",
    "```"
   ]
  },
  {
   "cell_type": "markdown",
   "id": "00942089-10e6-42e6-ae62-54079cf2d4e6",
   "metadata": {
    "editable": true,
    "slideshow": {
     "slide_type": "subslide"
    },
    "tags": []
   },
   "source": [
    "## Pratique\n",
    "\n",
    "### Exercice 1 : Création et accès\n",
    "\n",
    "- Créez un tuple contenant les éléments suivants : (\"Python\", \"Java\", \"C++\", \"Ruby\").\n",
    "- Affichez :\n",
    "    - Le premier élément.\n",
    "    - Le dernier élément.\n",
    "    - Les deux premiers éléments (en utilisant le slicing)."
   ]
  },
  {
   "cell_type": "markdown",
   "id": "d0bbeaa6-7a77-471f-8b0a-64425b5c4444",
   "metadata": {
    "editable": true,
    "slideshow": {
     "slide_type": "subslide"
    },
    "tags": []
   },
   "source": [
    "### Exercice 2 : Déballage d’un tuple\n",
    "\n",
    "- Créez un tuple contenant : (2024, \"Décembre\", 1).\n",
    "- Déballez ce tuple dans trois variables : annee, mois, jour.\n",
    "- Affichez ces variables."
   ]
  },
  {
   "cell_type": "markdown",
   "id": "8f3acb21-b4e7-4f04-a84f-e81b0c0d2172",
   "metadata": {
    "editable": true,
    "slideshow": {
     "slide_type": "subslide"
    },
    "tags": []
   },
   "source": [
    "### Exercice 3 : Conversion liste ↔ tuple\n",
    "\n",
    "- Créez une liste contenant : `[10, 20, 30]`.\n",
    "- Convertissez cette liste en un tuple.\n",
    "- Convertissez ce tuple en une liste et ajoutez-y l’élément 40."
   ]
  },
  {
   "cell_type": "markdown",
   "id": "fec35f76-bbff-4bd6-a5d0-e1e037d8886d",
   "metadata": {
    "editable": true,
    "slideshow": {
     "slide_type": "subslide"
    },
    "tags": []
   },
   "source": [
    "### Exercice 4 : Combinaison de collections\n",
    "\n",
    "- Créez deux listes :\n",
    "    - noms = [\"Alice\", \"Bob\", \"Charlie\"]\n",
    "    - ages = [25, 30, 35]\n",
    "- Utilisez zip pour associer chaque nom à un âge.\n",
    "- Affichez le résultat sous forme de liste de tuples."
   ]
  },
  {
   "cell_type": "markdown",
   "id": "fd006bca-d7a7-4d87-9e22-641486fadfd7",
   "metadata": {
    "editable": true,
    "slideshow": {
     "slide_type": "subslide"
    },
    "tags": []
   },
   "source": [
    "### Exercice 5 : Dézipper des données\n",
    "\n",
    "- Créez une liste : `[(\"Alice\", 25), (\"Bob\", 30), (\"Charlie\", 35)]`.\n",
    "- Utilisez zip pour séparer les noms et les âges dans deux tuples distincts.\n",
    "- Affichez-les."
   ]
  },
  {
   "cell_type": "markdown",
   "id": "a36c837c-3077-4c8d-8d76-6d1c93973aba",
   "metadata": {
    "editable": true,
    "slideshow": {
     "slide_type": "subslide"
    },
    "tags": []
   },
   "source": [
    "### Exercice 6 : Liste indexée\n",
    "\n",
    "- Créez une liste contenant les éléments suivants : [\"Chat\", \"Chien\", \"Oiseau\"].\n",
    "- Transformez cette liste en une liste de tuples avec les indices en utilisant enumerate."
   ]
  },
  {
   "cell_type": "markdown",
   "id": "5b4eecf8-e575-4517-a53d-3f691ad27285",
   "metadata": {
    "editable": true,
    "slideshow": {
     "slide_type": "slide"
    },
    "tags": []
   },
   "source": [
    "# Le dictionnaire"
   ]
  },
  {
   "cell_type": "markdown",
   "id": "413bb591-7093-4b3a-9c8f-2846cee8c670",
   "metadata": {
    "editable": true,
    "slideshow": {
     "slide_type": "subslide"
    },
    "tags": []
   },
   "source": [
    "## Présentation\n",
    "\n",
    "- Un **dictionnaire** est une collection modifiable et indexée.\n",
    "- Il associe des **clés** à des **valeurs**. Chaque clé est unique et sert d’identifiant pour accéder à une valeur.\n",
    "- Délimité par des accolades `{}`.\n",
    "\n",
    "_Exemple_ :\n",
    "\n",
    "```python\n",
    "mon_dictionnaire = {\"nom\": \"Alice\", \"age\": 25, \"ville\": \"Paris\"}\n",
    "print(mon_dictionnaire[\"nom\"])  # Alice\n",
    "print(mon_dictionnaire[\"âge\"])  # 25\n",
    "print(mon_dictionnaire)  # {'nom': 'Alice', 'age': 25, 'ville': 'Paris'}\n",
    "```"
   ]
  },
  {
   "cell_type": "markdown",
   "id": "9afd9e6e-790e-48a7-8f0f-20729796a5b0",
   "metadata": {
    "editable": true,
    "slideshow": {
     "slide_type": ""
    },
    "tags": []
   },
   "source": [
    "## Caractéristiques\n",
    "\n",
    "- Clés uniques : Chaque clé dans un dictionnaire est unique.\n",
    "- Indexation par clé : Les valeurs sont accessibles via leur clé.\n",
    "- Modifiable : Les paires clé-valeur peuvent être ajoutées, modifiées ou supprimées.\n",
    "- Types acceptés :\n",
    "    - Les clés doivent être immutables (types : `str`, `int`, `tuple`, etc.).\n",
    "    - Les valeurs peuvent être de tout type."
   ]
  },
  {
   "cell_type": "markdown",
   "id": "6af8d9b5-78d7-4c4f-8d14-7e6ac01f8ff8",
   "metadata": {
    "editable": true,
    "slideshow": {
     "slide_type": ""
    },
    "tags": []
   },
   "source": [
    "## Ajouter ou modifier une paire clé-valeur\n",
    "\n",
    "```python\n",
    "    dictionnaire[\"nouvelle_cle\"] = \"nouvelle_valeur\"\n",
    "    \n",
    "    mon_dictionnaire = {\"nom\": \"Alice\"}\n",
    "    mon_dictionnaire[\"age\"] = 25  # Ajout\n",
    "    mon_dictionnaire[\"nom\"] = \"Bob\"  # Modification\n",
    "    print(mon_dictionnaire)  # {'nom': 'Bob', 'age': 25}\n",
    "```"
   ]
  },
  {
   "cell_type": "markdown",
   "id": "a5423a20-1122-4200-9396-b5c66614af10",
   "metadata": {
    "editable": true,
    "slideshow": {
     "slide_type": "subslide"
    },
    "tags": []
   },
   "source": [
    "## Supprimer une paire clé-valeur\n",
    "\n",
    "- `pop(key)` : Supprime une clé et retourne sa valeur.\n",
    "- `del dictionnaire[key]` : Supprime la clé sans retour de valeur.\n",
    "- `clear()` : Vide complètement le dictionnaire.\n",
    "\n",
    "```python\n",
    "mon_dictionnaire = {\"nom\": \"Alice\", \"age\": 25}\n",
    "mon_dictionnaire.pop(\"age\")         # Supprime et retourne 25\n",
    "del mon_dictionnaire[\"nom\"]         # Supprime la clé \"nom\"\n",
    "mon_dictionnaire.clear()            # Vide le dictionnaire\n",
    "```"
   ]
  },
  {
   "cell_type": "markdown",
   "id": "e8cd1572-6940-40b2-a783-0699ffe3941a",
   "metadata": {
    "editable": true,
    "slideshow": {
     "slide_type": ""
    },
    "tags": []
   },
   "source": [
    "## Obtenir les clés, valeurs, et paires clé-valeur\n",
    "\n",
    "1. **`keys()`** : Retourne les clés du dictionnaire.\n",
    "2. **`values()`** : Retourne les valeurs.\n",
    "3. **`items()`** : Retourne les paires clé-valeur sous forme de tuples.\n",
    "\n",
    "_Exemple_ :\n",
    "```python\n",
    "mon_dictionnaire = {\"nom\": \"Alice\", \"age\": 25}\n",
    "print(mon_dictionnaire.keys())   # dict_keys(['nom', 'age'])\n",
    "print(mon_dictionnaire.values()) # dict_values(['Alice', 25])\n",
    "print(mon_dictionnaire.items())  # dict_items([('nom', 'Alice'), ('age', 25)])\n",
    "```"
   ]
  },
  {
   "cell_type": "markdown",
   "id": "131db566-b5ef-449f-9470-448bd5621f2b",
   "metadata": {
    "editable": true,
    "slideshow": {
     "slide_type": "subslide"
    },
    "tags": []
   },
   "source": [
    "## Parcourir les clés, les valeurs, et les paires clé-valeur\n",
    "\n",
    "**Les clés** \n",
    "\n",
    "```python\n",
    "mon_dictionnaire = {\"nom\": \"Alice\", \"âge\": 25, \"ville\": \"Paris\"}\n",
    "for cle in mon_dictionnaire:\n",
    "    print(cle)\n",
    "# Affiche : nom, âge, ville\n",
    "```\n",
    "**Les valeurs** \n",
    "```python\n",
    "for valeur in mon_dictionnaire.values():\n",
    "    print(valeur)\n",
    "# Affiche : Alice, 25, Paris\n",
    "```"
   ]
  },
  {
   "cell_type": "markdown",
   "id": "8c4d11bb-f438-48c0-9629-30fb4844ba11",
   "metadata": {
    "editable": true,
    "slideshow": {
     "slide_type": "subslide"
    },
    "tags": []
   },
   "source": [
    "**Les paires**\n",
    "```python\n",
    "for cle, valeur in mon_dictionnaire.items():\n",
    "    print(f\"{cle}: {valeur}\")\n",
    "# Affiche :\n",
    "# nom: Alice\n",
    "# âge: 25\n",
    "# ville: Paris\n",
    "```"
   ]
  },
  {
   "cell_type": "markdown",
   "id": "fcf4cca2-f4d1-458f-a065-3b2a15270c3a",
   "metadata": {
    "editable": true,
    "slideshow": {
     "slide_type": ""
    },
    "tags": []
   },
   "source": [
    "## Créer un dictionnaire avec `zip`\n",
    "\n",
    "```python\n",
    "cles = [\"nom\", \"age\", \"ville\"]\n",
    "valeurs = [\"Alice\", 25, \"Paris\"]\n",
    "dictionnaire = dict(zip(cles, valeurs))\n",
    "print(dictionnaire)  # {'nom': 'Alice', 'age': 25, 'ville': 'Paris'}\n",
    "```"
   ]
  },
  {
   "cell_type": "markdown",
   "id": "14a3c0d9-a8c2-4075-be4b-54aaaebf6d1b",
   "metadata": {
    "editable": true,
    "slideshow": {
     "slide_type": "subslide"
    },
    "tags": []
   },
   "source": [
    "## Trier un dictionnaire \n",
    "\n",
    "**Par clé**\n",
    "```python\n",
    "scores = {\"Bob\": 75, \"Alice\": 50, \"Charlie\": 100}\n",
    "scores_tries = dict(sorted(scores.items())\n",
    "print(scores_tries)  # {'Alice': 50, 'Bob': 75, 'Charlie': 100}\n",
    "```\n",
    "\n",
    "**Par valeur**\n",
    "```python\n",
    "scores = {\"Alice\": 50, \"Bob\": 75, \"Charlie\": 100}\n",
    "scores_tries = dict(sorted(scores.items(), key=lambda x: x[1]))\n",
    "print(scores_tries)  # {'Alice': 50, 'Bob': 75, 'Charlie': 100}\n",
    "```"
   ]
  },
  {
   "cell_type": "markdown",
   "id": "ca89c7f7-262b-4f1e-a0bf-879bed414bdb",
   "metadata": {
    "editable": true,
    "slideshow": {
     "slide_type": "subslide"
    },
    "tags": []
   },
   "source": [
    "## Fusionner deux dictionnaires\n",
    "\n",
    "```python\n",
    "dict1 = {\"nom\": \"Alice\", \"âge\": 25}\n",
    "dict2 = {\"ville\": \"Paris\", \"profession\": \"Ingénieure\"}\n",
    "fusion = {**dict1, **dict2}\n",
    "print(fusion)\n",
    "# {'nom': 'Alice', 'âge': 25, 'ville': 'Paris', 'profession': 'Ingénieure'}\n",
    "```"
   ]
  },
  {
   "cell_type": "markdown",
   "id": "ab7a479b-cce1-4535-a608-23df0266ab38",
   "metadata": {
    "editable": true,
    "slideshow": {
     "slide_type": "subslide"
    },
    "tags": []
   },
   "source": [
    "## Pratique\n",
    "\n",
    "### Exercice 1 : Création et accès\n",
    "\n",
    "- Créez un dictionnaire contenant les informations suivantes :\n",
    "    - nom: \"Alice\"\n",
    "    - âge: 25\n",
    "    - ville: \"Paris\"\n",
    "- Affichez :\n",
    "    - La valeur associée à la clé \"nom\".\n",
    "    - La valeur associée à la clé \"âge\".\n",
    "- Ajoutez une nouvelle clé profession avec la valeur \"Ingénieure\"."
   ]
  },
  {
   "cell_type": "markdown",
   "id": "62e156be-b813-4e89-af6d-5a224c886cf5",
   "metadata": {
    "editable": true,
    "slideshow": {
     "slide_type": "subslide"
    },
    "tags": []
   },
   "source": [
    "### Exercice 2 : Modification et suppression\n",
    "\n",
    "- Modifiez l’âge de l’étudiante \"Alice\" à 30.\n",
    "- Supprimez la clé \"ville\".\n",
    "- Affichez le dictionnaire mis à jour."
   ]
  },
  {
   "cell_type": "markdown",
   "id": "0e4d761c-bbed-4a91-bf12-62813adaca8c",
   "metadata": {
    "editable": true,
    "slideshow": {
     "slide_type": "subslide"
    },
    "tags": []
   },
   "source": [
    "### Exercice 3 : Vérification d’existence\n",
    "\n",
    "- Créez un dictionnaire `inventaire = {\"pommes\": 10, \"bananes\": 20, \"oranges\": 15}`.\n",
    "- Vérifiez si les clés \"pommes\" et \"raisins\" existent dans le dictionnaire.\n",
    "- Ajoutez \"raisins\" avec une quantité de 5 uniquement si cette clé n’existe pas encore."
   ]
  },
  {
   "cell_type": "markdown",
   "id": "e6d45c94-dfc3-47a2-bf2a-e38ba2437094",
   "metadata": {
    "editable": true,
    "slideshow": {
     "slide_type": "subslide"
    },
    "tags": []
   },
   "source": [
    "### Exercice 4 : Parcourir un dictionnaire\n",
    "\n",
    "- Créez un dictionnaire contenant :\n",
    "    - math: 18\n",
    "    - anglais: 16\n",
    "    - informatique: 20\n",
    "- Parcourez le dictionnaire pour afficher :\n",
    "    - Chaque matière et sa note.\n",
    "    - La moyenne des notes."
   ]
  },
  {
   "cell_type": "markdown",
   "id": "20c68496-86ec-493c-b3d1-258a2a04fbff",
   "metadata": {
    "editable": true,
    "slideshow": {
     "slide_type": "subslide"
    },
    "tags": []
   },
   "source": [
    "### Exercice 5 : Compter les occurrences\n",
    "\n",
    "- Créez une chaîne de caractères : \"abracadabra\".\n",
    "- Comptez le nombre d’occurrences de chaque caractère dans la chaîne et stockez-les dans un dictionnaire.\n"
   ]
  },
  {
   "cell_type": "markdown",
   "id": "6066bab9-ea6a-4934-976f-da071d35e6ce",
   "metadata": {
    "editable": true,
    "slideshow": {
     "slide_type": "subslide"
    },
    "tags": []
   },
   "source": [
    "### Exercice 6 : Fusionner deux dictionnaires\n",
    "\n",
    "- Créez deux dictionnaires :\n",
    "    - `personne = {\"nom\": \"Alice\", \"âge\": 25}`\n",
    "    - `infos = {\"ville\": \"Paris\", \"profession\": \"Ingénieure\"}`\n",
    "- Fusionnez-les dans un nouveau dictionnaire."
   ]
  },
  {
   "cell_type": "markdown",
   "id": "17f34187-8517-467f-9fdc-47a38465b78b",
   "metadata": {
    "editable": true,
    "slideshow": {
     "slide_type": "subslide"
    },
    "tags": []
   },
   "source": [
    "### Exercice 7 : Trier un dictionnaire\n",
    "\n",
    "- Créez un dictionnaire contenant les notes suivantes : `{\"Alice\": 85, \"Bob\": 70, \"Charlie\": 90}`\n",
    "- Triez le dictionnaire :\n",
    "    - Par clé (ordre alphabétique).\n",
    "    - Par valeur (ordre croissant)."
   ]
  },
  {
   "cell_type": "markdown",
   "id": "925830af-af16-494d-aea8-72a8576c3ecd",
   "metadata": {
    "editable": true,
    "slideshow": {
     "slide_type": ""
    },
    "tags": []
   },
   "source": [
    "# Le set"
   ]
  },
  {
   "cell_type": "markdown",
   "id": "b9d4e4ae-f6ba-4c9f-93e3-278724977825",
   "metadata": {
    "editable": true,
    "slideshow": {
     "slide_type": "subslide"
    },
    "tags": []
   },
   "source": [
    "## Présentation\n",
    "\n",
    "- Un **set** est une collection **non ordonnée** et **sans doublons**.\n",
    "- Délimité par des accolades `{}` ou créé avec la fonction **`set()`**.\n",
    "- Utile pour effectuer des opérations mathématiques comme les **unions**, **intersections**, et **différences**.\n",
    "\n",
    "_Exemple_ :\n",
    "\n",
    "```python\n",
    "mon_set = {1, 2, 3, 3, 4}\n",
    "print(mon_set)  # {1, 2, 3, 4} (les doublons sont supprimés)\n",
    "\n",
    "vide = set()  # Créer un set vide\n",
    "print(type(vide))  # <class 'set'>\n",
    "```"
   ]
  },
  {
   "cell_type": "markdown",
   "id": "d1deced6-89bc-48fe-9ddd-b6b4b83b8579",
   "metadata": {
    "editable": true,
    "slideshow": {
     "slide_type": "subslide"
    },
    "tags": []
   },
   "source": [
    "## Caractéristiques\n",
    "\n",
    "- Non ordonnés : Les éléments ne sont pas stockés dans un ordre particulier.\n",
    "- Sans doublons : Chaque élément est unique.\n",
    "- Modifiables : Vous pouvez ajouter ou supprimer des éléments.\n",
    "- Incompatibles avec des types non hashables : les clés doivent être immuables (pas de listes ou dictionnaires dans un set)."
   ]
  },
  {
   "cell_type": "markdown",
   "id": "24c5f040-c77a-488e-83f5-be9dcda27f96",
   "metadata": {
    "editable": true,
    "slideshow": {
     "slide_type": "subslide"
    },
    "tags": []
   },
   "source": [
    "## Ajouter des éléments\n",
    "\n",
    "```python\n",
    "mon_set = {1, 2, 3}\n",
    "mon_set.add(4)\n",
    "print(mon_set)  # {1, 2, 3, 4}\n",
    "```\n",
    "\n"
   ]
  },
  {
   "cell_type": "markdown",
   "id": "884b5efd-9848-4f65-bc86-41e5db59c18f",
   "metadata": {
    "editable": true,
    "slideshow": {
     "slide_type": "subslide"
    },
    "tags": []
   },
   "source": [
    "## Supprimer des éléments\n",
    "\n",
    "- **`remove(element)`** : Supprime un élément. Lève une erreur si l’élément n’existe pas.\n",
    "- **`discard(element)`** : Supprime un élément sans lever d’erreur.\n",
    "- **`pop()`** : Supprime un élément arbitraire (car le set est non ordonné).\n",
    "- **`clear()`** : Vide le set.\n",
    "\n",
    "```python\n",
    "mon_set = {1, 2, 3}\n",
    "mon_set.remove(2)   # Supprime 2\n",
    "mon_set.discard(4)  # Ne fait rien (4 n'existe pas)\n",
    "print(mon_set)      # {1, 3}\n",
    "```"
   ]
  },
  {
   "cell_type": "markdown",
   "id": "8e717af2-8a61-43bf-a103-d38d51a0a5ac",
   "metadata": {
    "editable": true,
    "slideshow": {
     "slide_type": "subslide"
    },
    "tags": []
   },
   "source": [
    "## Opérations sur les ensembles\n",
    "\n",
    "### Union\n",
    "\n",
    "Combine les éléments de deux sets (**`|`** ou **`union()`**).\n",
    "\n",
    "```python\n",
    "set1 = {1, 2, 3}\n",
    "set2 = {3, 4, 5}\n",
    "print(set1 | set2)          # {1, 2, 3, 4, 5}\n",
    "print(set1.union(set2))     # {1, 2, 3, 4, 5}\n",
    "```"
   ]
  },
  {
   "cell_type": "markdown",
   "id": "cd34c61a-26ff-4b1f-ac51-9eb5cce9b475",
   "metadata": {
    "editable": true,
    "slideshow": {
     "slide_type": "subslide"
    },
    "tags": []
   },
   "source": [
    "### Intersection\n",
    "\n",
    "Trouve les éléments communs (& ou intersection()).\n",
    "\n",
    "```python\n",
    "print(set1 & set2)          # {3}\n",
    "print(set1.intersection(set2))  # {3}\n",
    "\n",
    "```"
   ]
  },
  {
   "cell_type": "markdown",
   "id": "fd7b88b5-b6e4-4697-8e04-d7244cd187dd",
   "metadata": {
    "editable": true,
    "slideshow": {
     "slide_type": "subslide"
    },
    "tags": []
   },
   "source": [
    "### Différence\n",
    "\n",
    "Trouve les éléments dans un set mais pas dans l’autre (- ou difference()).\n",
    "```python\n",
    "print(set1 - set2)          # {1, 2}\n",
    "print(set1.difference(set2))  # {1, 2}\n",
    "```\n"
   ]
  },
  {
   "cell_type": "markdown",
   "id": "0f8a3f0f-7150-46b7-8dc1-1202af9f1d4f",
   "metadata": {
    "editable": true,
    "slideshow": {
     "slide_type": ""
    },
    "tags": []
   },
   "source": [
    "### Différence symétrique\n",
    "\n",
    "Trouve les éléments présents dans un seul des deux sets (^ ou symmetric_difference()).\n",
    "\n",
    "```python\n",
    "print(set1 ^ set2)                  # {1, 2, 4, 5}\n",
    "print(set1.symmetric_difference(set2))  # {1, 2, 4, 5}\n",
    "```"
   ]
  },
  {
   "cell_type": "markdown",
   "id": "6a9bcfe2-6bf8-44c4-bc66-178640eaa244",
   "metadata": {
    "editable": true,
    "slideshow": {
     "slide_type": "subslide"
    },
    "tags": []
   },
   "source": [
    "## Applications pratiques \n",
    "\n",
    "### Suppression des doublons\n",
    "\n",
    "```python\n",
    "liste = [1, 2, 3, 1, 2, 4]\n",
    "unique = set(liste)\n",
    "print(unique)  # {1, 2, 3, 4}\n",
    "```"
   ]
  },
  {
   "cell_type": "markdown",
   "id": "5eb51b07-5dc7-411c-9e68-639e1b4c02b7",
   "metadata": {
    "editable": true,
    "slideshow": {
     "slide_type": "subslide"
    },
    "tags": []
   },
   "source": [
    "### Union, intersection et différence\n",
    "\n",
    "```python\n",
    "maths = {\"Alice\", \"Bob\", \"Charlie\"}\n",
    "informatique = {\"Alice\", \"David\", \"Charlie\"}\n",
    "\n",
    "# Étudiants inscrits à au moins une matière\n",
    "print(maths | informatique)  # Union\n",
    "\n",
    "# Étudiants inscrits aux deux matières\n",
    "print(maths & informatique)  # Intersection\n",
    "\n",
    "# Étudiants inscrits uniquement en maths\n",
    "print(maths - informatique)  # Différence\n",
    "maths = {\"Alice\", \"Bob\", \"Charlie\"}\n",
    "informatique = {\"Alice\", \"David\", \"Charlie\"}\n",
    "```"
   ]
  }
 ],
 "metadata": {
  "kernelspec": {
   "display_name": "Python 3 (ipykernel)",
   "language": "python",
   "name": "python3"
  },
  "language_info": {
   "codemirror_mode": {
    "name": "ipython",
    "version": 3
   },
   "file_extension": ".py",
   "mimetype": "text/x-python",
   "name": "python",
   "nbconvert_exporter": "python",
   "pygments_lexer": "ipython3",
   "version": "3.9.13"
  }
 },
 "nbformat": 4,
 "nbformat_minor": 5
}
