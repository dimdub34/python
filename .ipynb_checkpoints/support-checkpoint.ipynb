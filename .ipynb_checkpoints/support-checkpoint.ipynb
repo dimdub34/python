{
 "cells": [
  {
   "cell_type": "markdown",
   "metadata": {},
   "source": [
    "# Listes"
   ]
  },
  {
   "cell_type": "code",
   "execution_count": 1,
   "metadata": {},
   "outputs": [],
   "source": [
    "du_matieres = [\"C\", \"HTML\", \"Python\", \"R\", \"Linux\", \"Virtualisation\", \"LimeSurvey\"]"
   ]
  },
  {
   "cell_type": "code",
   "execution_count": 2,
   "metadata": {
    "scrolled": true
   },
   "outputs": [
    {
     "name": "stdout",
     "output_type": "stream",
     "text": [
      "Index: 0  Objet: C\n",
      "Index: 1  Objet: HTML\n",
      "Index: 2  Objet: Python\n",
      "Index: 3  Objet: R\n",
      "Index: 4  Objet: Linux\n",
      "Index: 5  Objet: Virtualisation\n",
      "Index: 6  Objet: LimeSurvey\n"
     ]
    }
   ],
   "source": [
    "for i, e in enumerate(du_matieres):\n",
    "    print(\"Index:\", i, \" Objet:\", e)"
   ]
  },
  {
   "cell_type": "markdown",
   "metadata": {},
   "source": [
    "# Formatage"
   ]
  },
  {
   "cell_type": "code",
   "execution_count": 3,
   "metadata": {},
   "outputs": [],
   "source": [
    "prenom, nom, age = \"Jean\", \"Dupont\", 35"
   ]
  },
  {
   "cell_type": "code",
   "execution_count": 5,
   "metadata": {},
   "outputs": [
    {
     "name": "stdout",
     "output_type": "stream",
     "text": [
      "Bonjour Jean DUPONT, vous avez 35 ans\n"
     ]
    }
   ],
   "source": [
    "texte = f\"Bonjour {prenom.capitalize()} {nom.upper()}, vous avez {age} ans\"\n",
    "print(texte)"
   ]
  },
  {
   "cell_type": "code",
   "execution_count": 8,
   "metadata": {},
   "outputs": [
    {
     "name": "stdout",
     "output_type": "stream",
     "text": [
      "Votre moyenne en python est 14.55\n"
     ]
    }
   ],
   "source": [
    "moy_python = 14.5472\n",
    "print(f\"Votre moyenne en python est {moy_python:0.2f}\")"
   ]
  },
  {
   "cell_type": "markdown",
   "metadata": {},
   "source": [
    "# Dictionnaire"
   ]
  },
  {
   "cell_type": "code",
   "execution_count": 9,
   "metadata": {},
   "outputs": [
    {
     "name": "stdout",
     "output_type": "stream",
     "text": [
      "{'A': 1, 'B': 2, 'C': 3}\n"
     ]
    }
   ],
   "source": [
    "ma_liste = [(\"A\", 1), (\"B\", 2), (\"C\", 3)]\n",
    "mon_dict = dict(ma_liste)\n",
    "print(mon_dict)"
   ]
  },
  {
   "cell_type": "markdown",
   "metadata": {},
   "source": [
    "# Fonctions"
   ]
  },
  {
   "cell_type": "code",
   "execution_count": 13,
   "metadata": {},
   "outputs": [],
   "source": [
    "def power(quel_nombre, quelle_puissance=2, avec_commentaires=False):\n",
    "    \"\"\"Fonction puissance, renvoie le nombre à la puissance demandée (2 par défaut)\"\"\"\n",
    "    resultat = quel_nombre ** quelle_puissance\n",
    "    if avec_commentaires:\n",
    "        print(f\"{quel_nombre} à la puissance {quelle_puissance} vaut {resultat}.\")\n",
    "    return resultat"
   ]
  },
  {
   "cell_type": "code",
   "execution_count": 17,
   "metadata": {},
   "outputs": [
    {
     "data": {
      "text/plain": [
       "1000"
      ]
     },
     "execution_count": 17,
     "metadata": {},
     "output_type": "execute_result"
    }
   ],
   "source": [
    "power(10, 3)"
   ]
  },
  {
   "cell_type": "code",
   "execution_count": 18,
   "metadata": {},
   "outputs": [
    {
     "name": "stdout",
     "output_type": "stream",
     "text": [
      "10 à la puissance 2 vaut 100.\n"
     ]
    },
    {
     "data": {
      "text/plain": [
       "100"
      ]
     },
     "execution_count": 18,
     "metadata": {},
     "output_type": "execute_result"
    }
   ],
   "source": [
    "power(avec_commentaires=True, quel_nombre=10)"
   ]
  },
  {
   "cell_type": "code",
   "execution_count": 19,
   "metadata": {},
   "outputs": [
    {
     "data": {
      "text/plain": [
       "100"
      ]
     },
     "execution_count": 19,
     "metadata": {},
     "output_type": "execute_result"
    }
   ],
   "source": [
    "power(10)"
   ]
  },
  {
   "cell_type": "code",
   "execution_count": 6,
   "metadata": {},
   "outputs": [],
   "source": [
    "def get_passwd(the_word, nb_letters=4):\n",
    "    try:\n",
    "        the_pass = \"!\" + the_word[:nb_letters].upper() + \"_\" + \\\n",
    "        \"\".join(map(str, [the_word.count(l) for l in the_word[:nb_letters]])) + \"=$\"\n",
    "        return the_pass\n",
    "    except TypeError:\n",
    "        return get_passwd(str(the_word), nb_letters)"
   ]
  },
  {
   "cell_type": "code",
   "execution_count": 9,
   "metadata": {},
   "outputs": [],
   "source": [
    "fichier = open(\"/tmp/test.txt\", \"w\")\n",
    "fichier.write(\"Bonjour tout le monde\")\n",
    "fichier.write(\"Comment allez-vous?\")\n",
    "fichier.close()"
   ]
  },
  {
   "cell_type": "code",
   "execution_count": 10,
   "metadata": {},
   "outputs": [
    {
     "name": "stdout",
     "output_type": "stream",
     "text": [
      "Bonjour tout le mondeComment allez-vous?\n"
     ]
    }
   ],
   "source": [
    "fichier = open(\"/tmp/test.txt\", \"r\")\n",
    "contenu = fichier.read()\n",
    "fichier.close()\n",
    "print(contenu)"
   ]
  },
  {
   "cell_type": "code",
   "execution_count": 11,
   "metadata": {},
   "outputs": [],
   "source": [
    "fichier = open(\"/tmp/test.txt\", \"w\")\n",
    "fichier.write(\"Bonjour tout le monde\\n\")\n",
    "fichier.write(\"Comment allez-vous?\")\n",
    "fichier.close()"
   ]
  },
  {
   "cell_type": "code",
   "execution_count": 12,
   "metadata": {},
   "outputs": [
    {
     "name": "stdout",
     "output_type": "stream",
     "text": [
      "Bonjour tout le monde\n",
      "Comment allez-vous?\n"
     ]
    }
   ],
   "source": [
    "fichier = open(\"/tmp/test.txt\", \"r\")\n",
    "contenu = fichier.read()\n",
    "fichier.close()\n",
    "print(contenu)"
   ]
  },
  {
   "cell_type": "code",
   "execution_count": 15,
   "metadata": {},
   "outputs": [
    {
     "name": "stdout",
     "output_type": "stream",
     "text": [
      "Bonjour tout le monde\n",
      "Comment allez-vous?\n"
     ]
    }
   ],
   "source": [
    "fichier = open(\"/tmp/test.txt\", \"r\")\n",
    "contenu = \"\"\n",
    "while True:\n",
    "    line = fichier.readline()\n",
    "    if line == \"\":\n",
    "        break\n",
    "    contenu += line\n",
    "fichier.close()\n",
    "print(contenu)"
   ]
  },
  {
   "cell_type": "code",
   "execution_count": 16,
   "metadata": {},
   "outputs": [],
   "source": [
    "import math"
   ]
  },
  {
   "cell_type": "code",
   "execution_count": 20,
   "metadata": {},
   "outputs": [
    {
     "name": "stdout",
     "output_type": "stream",
     "text": [
      "Help on built-in function sqrt in module math:\n",
      "\n",
      "sqrt(...)\n",
      "    sqrt(x)\n",
      "    \n",
      "    Return the square root of x.\n",
      "\n"
     ]
    }
   ],
   "source": [
    "help(math.sqrt)"
   ]
  },
  {
   "cell_type": "code",
   "execution_count": 21,
   "metadata": {},
   "outputs": [],
   "source": [
    "from math import sqrt as racine"
   ]
  },
  {
   "cell_type": "code",
   "execution_count": 25,
   "metadata": {},
   "outputs": [],
   "source": [
    "from math import pow"
   ]
  },
  {
   "cell_type": "code",
   "execution_count": 26,
   "metadata": {},
   "outputs": [
    {
     "data": {
      "text/plain": [
       "1000.0"
      ]
     },
     "execution_count": 26,
     "metadata": {},
     "output_type": "execute_result"
    }
   ],
   "source": [
    "pow(10, 3)"
   ]
  }
 ],
 "metadata": {
  "kernelspec": {
   "display_name": "Python 3",
   "language": "python",
   "name": "python3"
  },
  "language_info": {
   "codemirror_mode": {
    "name": "ipython",
    "version": 3
   },
   "file_extension": ".py",
   "mimetype": "text/x-python",
   "name": "python",
   "nbconvert_exporter": "python",
   "pygments_lexer": "ipython3",
   "version": "3.6.9"
  }
 },
 "nbformat": 4,
 "nbformat_minor": 2
}
